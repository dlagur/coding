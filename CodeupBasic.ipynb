{
 "cells": [
  {
   "cell_type": "code",
   "execution_count": 1,
   "id": "7beb8dcb",
   "metadata": {},
   "outputs": [
    {
     "name": "stdout",
     "output_type": "stream",
     "text": [
      "Hello\n"
     ]
    }
   ],
   "source": [
    "#1\n",
    "print(\"Hello\")"
   ]
  },
  {
   "cell_type": "code",
   "execution_count": 1,
   "id": "4b9ff691",
   "metadata": {},
   "outputs": [
    {
     "name": "stdout",
     "output_type": "stream",
     "text": [
      "문장1 문장2\n"
     ]
    }
   ],
   "source": [
    "#2\n",
    "print(\"문장1\", \"문장2\")"
   ]
  },
  {
   "cell_type": "code",
   "execution_count": 2,
   "id": "1a790c5e",
   "metadata": {},
   "outputs": [
    {
     "name": "stdout",
     "output_type": "stream",
     "text": [
      "Hello\n",
      "World\n"
     ]
    }
   ],
   "source": [
    "#3\n",
    "print(\"Hello\") ; print(\"World\")"
   ]
  },
  {
   "cell_type": "code",
   "execution_count": 6,
   "id": "e7ba6a66",
   "metadata": {},
   "outputs": [
    {
     "name": "stdout",
     "output_type": "stream",
     "text": [
      "'Hello'\n"
     ]
    }
   ],
   "source": [
    "#4\n",
    "print(\"'Hello'\")"
   ]
  },
  {
   "cell_type": "code",
   "execution_count": 9,
   "id": "3e3d7768",
   "metadata": {},
   "outputs": [
    {
     "name": "stdout",
     "output_type": "stream",
     "text": [
      "\"Hello World\"\n"
     ]
    }
   ],
   "source": [
    "#5\n",
    "print('\"Hello World\"')"
   ]
  },
  {
   "cell_type": "code",
   "execution_count": 13,
   "id": "2051824b",
   "metadata": {},
   "outputs": [
    {
     "name": "stdout",
     "output_type": "stream",
     "text": [
      "\"!@#$%^&*'\n"
     ]
    }
   ],
   "source": [
    "#6\n",
    "print('\\\"!@#$%^&*\\'')"
   ]
  },
  {
   "cell_type": "code",
   "execution_count": 25,
   "id": "6c926f33",
   "metadata": {},
   "outputs": [
    {
     "name": "stdout",
     "output_type": "stream",
     "text": [
      "C:\\Download'hello'.py\n"
     ]
    }
   ],
   "source": [
    "#7\n",
    "print(\"C:\\Download\\'hello'.py\")"
   ]
  },
  {
   "cell_type": "code",
   "execution_count": 28,
   "id": "a8ebceb4",
   "metadata": {},
   "outputs": [
    {
     "name": "stdout",
     "output_type": "stream",
     "text": [
      "Hello\n",
      "World\n"
     ]
    }
   ],
   "source": [
    "#8\n",
    "print(\"Hello\\nWorld\")"
   ]
  },
  {
   "cell_type": "code",
   "execution_count": 30,
   "id": "5edf4222",
   "metadata": {},
   "outputs": [
    {
     "name": "stdout",
     "output_type": "stream",
     "text": [
      "Republic of Koreadf\n",
      "df\n"
     ]
    }
   ],
   "source": [
    "#9\n",
    "c = input(\"Republic of Korea\")\n",
    "print(c)"
   ]
  },
  {
   "cell_type": "code",
   "execution_count": 31,
   "id": "873307ba",
   "metadata": {},
   "outputs": [
    {
     "name": "stdout",
     "output_type": "stream",
     "text": [
      "5\n",
      "5\n"
     ]
    }
   ],
   "source": [
    "#10\n",
    "n = input() #기본적으로 input 함수는 들어간 객체를 문자열로 인식함\n",
    "n = int(n)\n",
    "print(n)"
   ]
  },
  {
   "cell_type": "code",
   "execution_count": 32,
   "id": "6c9c9ba7",
   "metadata": {},
   "outputs": [
    {
     "name": "stdout",
     "output_type": "stream",
     "text": [
      "0.534\n",
      "0.534\n"
     ]
    }
   ],
   "source": [
    "#11\n",
    "f = input()\n",
    "f = float(f)\n",
    "print(f)"
   ]
  },
  {
   "cell_type": "code",
   "execution_count": 33,
   "id": "dbde244d",
   "metadata": {},
   "outputs": [
    {
     "name": "stdout",
     "output_type": "stream",
     "text": [
      "5\n",
      "6\n",
      "5\n",
      "6\n"
     ]
    }
   ],
   "source": [
    "#12\n",
    "a = input()\n",
    "b = input()\n",
    "print(a)\n",
    "print(b)"
   ]
  },
  {
   "cell_type": "code",
   "execution_count": 34,
   "id": "0d3493eb",
   "metadata": {},
   "outputs": [
    {
     "name": "stdout",
     "output_type": "stream",
     "text": [
      "When I was your man\n",
      "I felt on cloud nine\n",
      "When I was your man\n",
      "I felt on cloud nine\n"
     ]
    }
   ],
   "source": [
    "#13\n",
    "a = input()\n",
    "b = input()\n",
    "print(a)\n",
    "print(b)"
   ]
  },
  {
   "cell_type": "code",
   "execution_count": 36,
   "id": "dd9b3549",
   "metadata": {},
   "outputs": [
    {
     "name": "stdout",
     "output_type": "stream",
     "text": [
      "5\n",
      "5\n",
      "5\n",
      "5\n"
     ]
    }
   ],
   "source": [
    "#14\n",
    "f = input()\n",
    "print(f)\n",
    "print(f)\n",
    "print(f)"
   ]
  },
  {
   "cell_type": "code",
   "execution_count": 40,
   "id": "f548fbfa",
   "metadata": {},
   "outputs": [
    {
     "name": "stdout",
     "output_type": "stream",
     "text": [
      "1 2\n",
      "1\n",
      "2\n"
     ]
    }
   ],
   "source": [
    "#15\n",
    "a,b = input().split()\n",
    "print(a)\n",
    "print(b)"
   ]
  },
  {
   "cell_type": "code",
   "execution_count": 41,
   "id": "c8ecc072",
   "metadata": {},
   "outputs": [
    {
     "name": "stdout",
     "output_type": "stream",
     "text": [
      "a\n",
      "b\n",
      "b a\n"
     ]
    }
   ],
   "source": [
    "#16\n",
    "c1 = input()\n",
    "c2 = input()\n",
    "print(c2, c1)\n"
   ]
  },
  {
   "cell_type": "code",
   "execution_count": 42,
   "id": "8e448dfd",
   "metadata": {},
   "outputs": [
    {
     "name": "stdout",
     "output_type": "stream",
     "text": [
      "5 +4j\n",
      "5 +4j 5 +4j 5 +4j\n"
     ]
    }
   ],
   "source": [
    "#17\n",
    "s = input()\n",
    "print(s,s,s)"
   ]
  },
  {
   "cell_type": "code",
   "execution_count": 47,
   "id": "6301794e",
   "metadata": {},
   "outputs": [
    {
     "name": "stdout",
     "output_type": "stream",
     "text": [
      "18:45\n",
      "18:45\n"
     ]
    }
   ],
   "source": [
    "#18\n",
    "a,b = input().split(':')\n",
    "print(a, b, sep=':')"
   ]
  },
  {
   "cell_type": "code",
   "execution_count": 51,
   "id": "f527d264",
   "metadata": {},
   "outputs": [
    {
     "name": "stdout",
     "output_type": "stream",
     "text": [
      "21.11.05\n",
      "21.11.05\n"
     ]
    }
   ],
   "source": [
    "#19\n",
    "y,m,d = input().split('.')\n",
    "print(y,m,d, sep='.')"
   ]
  },
  {
   "cell_type": "code",
   "execution_count": 1,
   "id": "db683901",
   "metadata": {},
   "outputs": [
    {
     "name": "stdout",
     "output_type": "stream",
     "text": [
      "990506-1234323\n",
      "990506-1234323\n"
     ]
    }
   ],
   "source": [
    "#20\n",
    "a,b = input().split('-')\n",
    "print(a,b, sep='-')"
   ]
  },
  {
   "cell_type": "code",
   "execution_count": 3,
   "id": "0432402e",
   "metadata": {},
   "outputs": [
    {
     "name": "stdout",
     "output_type": "stream",
     "text": [
      "a23451kk\n",
      "a\n",
      "2\n"
     ]
    }
   ],
   "source": [
    "#21\n",
    "s = input()\n",
    "print(s[0])\n",
    "print(s[1])"
   ]
  },
  {
   "cell_type": "code",
   "execution_count": 10,
   "id": "9fd76923",
   "metadata": {},
   "outputs": [
    {
     "name": "stdout",
     "output_type": "stream",
     "text": [
      "21\n",
      "11\n",
      "05\n"
     ]
    }
   ],
   "source": [
    "#22\n",
    "a = \"211105\"\n",
    "print(a[0:2])\n",
    "print(a[2:4])\n",
    "print(a[4:])"
   ]
  },
  {
   "cell_type": "code",
   "execution_count": 15,
   "id": "9d98bcd7",
   "metadata": {},
   "outputs": [
    {
     "name": "stdout",
     "output_type": "stream",
     "text": [
      "12:35:45\n",
      "35\n"
     ]
    }
   ],
   "source": [
    "#23\n",
    "time = input().split(':')\n",
    "minute =  time[1]\n",
    "print(minute)"
   ]
  },
  {
   "cell_type": "code",
   "execution_count": 16,
   "id": "feee653a",
   "metadata": {},
   "outputs": [
    {
     "name": "stdout",
     "output_type": "stream",
     "text": [
      "seq 2seq\n",
      "seq2seq\n"
     ]
    }
   ],
   "source": [
    "#24\n",
    "a, b = input().split()\n",
    "s = a + b\n",
    "print(s)"
   ]
  },
  {
   "cell_type": "code",
   "execution_count": 17,
   "id": "fb4030e5",
   "metadata": {},
   "outputs": [
    {
     "name": "stdout",
     "output_type": "stream",
     "text": [
      "2 3\n",
      "5\n"
     ]
    }
   ],
   "source": [
    "#25\n",
    "a,b = input().split()\n",
    "c = int(a) + int(b)\n",
    "print(c)"
   ]
  },
  {
   "cell_type": "code",
   "execution_count": 19,
   "id": "7e5aeec6",
   "metadata": {},
   "outputs": [
    {
     "name": "stdout",
     "output_type": "stream",
     "text": [
      "2.34 8.56\n",
      "10.9\n"
     ]
    }
   ],
   "source": [
    "#26\n",
    "f1, f2 = input().split()\n",
    "s = float(f1) + float(f2)\n",
    "print(s)"
   ]
  },
  {
   "cell_type": "code",
   "execution_count": 22,
   "id": "efb9bb58",
   "metadata": {},
   "outputs": [
    {
     "name": "stdout",
     "output_type": "stream",
     "text": [
      "17\n",
      "11\n"
     ]
    }
   ],
   "source": [
    "#27\n",
    "a = input()\n",
    "n = int(a)\n",
    "print('%x'% n) # 16진수로 변환 hexadecimal %o : octal 8진수 문자열로 변환"
   ]
  },
  {
   "cell_type": "code",
   "execution_count": 26,
   "id": "dcfeb9f6",
   "metadata": {},
   "outputs": [
    {
     "name": "stdout",
     "output_type": "stream",
     "text": [
      "15\n",
      "F\n"
     ]
    }
   ],
   "source": [
    "#28\n",
    "b = input()\n",
    "n = int(b)\n",
    "print('%X'% n ) # 0 1 2 3 4 5 6 7 8 9 A B C D E F : 16진수 배열"
   ]
  },
  {
   "cell_type": "code",
   "execution_count": 27,
   "id": "d0fce5d0",
   "metadata": {},
   "outputs": [
    {
     "name": "stdout",
     "output_type": "stream",
     "text": [
      "9\n",
      "11\n"
     ]
    }
   ],
   "source": [
    "#29\n",
    "c = input()\n",
    "n = int(c)\n",
    "print('%o'% n)"
   ]
  },
  {
   "cell_type": "code",
   "execution_count": 31,
   "id": "6e87f3c3",
   "metadata": {},
   "outputs": [
    {
     "name": "stdout",
     "output_type": "stream",
     "text": [
      "T\n",
      "84\n"
     ]
    }
   ],
   "source": [
    "#30\n",
    "a = ord(input()) #입력받은 문자를 10진수 유니코드로 변환한 후 a에 저장한다\n",
    "                 #ord(): 어떤 문자의 순서 위치 값\n",
    "print(a)"
   ]
  },
  {
   "cell_type": "code",
   "execution_count": 1,
   "id": "c61bf1cf",
   "metadata": {},
   "outputs": [
    {
     "name": "stdout",
     "output_type": "stream",
     "text": [
      "4\n",
      "\u0004\n"
     ]
    }
   ],
   "source": [
    "#31\n",
    "c = int(input())\n",
    "print(chr(c)) #c에 저장되어 있는 정수 값을 유니코드 문자로 바꿔 출력한다, chr() <-> ord()"
   ]
  },
  {
   "cell_type": "code",
   "execution_count": 2,
   "id": "fff114a0",
   "metadata": {},
   "outputs": [
    {
     "name": "stdout",
     "output_type": "stream",
     "text": [
      "56\n",
      "-56\n"
     ]
    }
   ],
   "source": [
    "#32\n",
    "n = int(input())\n",
    "print(-n)"
   ]
  },
  {
   "cell_type": "code",
   "execution_count": 7,
   "id": "291bb12e",
   "metadata": {},
   "outputs": [
    {
     "name": "stdout",
     "output_type": "stream",
     "text": [
      "2\n",
      "\u0003\n"
     ]
    }
   ],
   "source": [
    "#33\n",
    "n = int(input())\n",
    "print(chr(n+1))"
   ]
  },
  {
   "cell_type": "code",
   "execution_count": 8,
   "id": "a6d5a7dc",
   "metadata": {},
   "outputs": [
    {
     "name": "stdout",
     "output_type": "stream",
     "text": [
      "3 4\n",
      "7\n"
     ]
    }
   ],
   "source": [
    "#34\n",
    "a, b = input().split()\n",
    "s = int(a) + int(b)\n",
    "print(s)"
   ]
  },
  {
   "cell_type": "code",
   "execution_count": 13,
   "id": "a7c72449",
   "metadata": {},
   "outputs": [
    {
     "name": "stdout",
     "output_type": "stream",
     "text": [
      "3.14 5\n",
      "15.700000000000001\n"
     ]
    }
   ],
   "source": [
    "#35\n",
    "a, b = input().split \n",
    "m = float(a)*float(b)\n",
    "print(m)"
   ]
  },
  {
   "cell_type": "code",
   "execution_count": 14,
   "id": "ea3e4121",
   "metadata": {},
   "outputs": [
    {
     "name": "stdout",
     "output_type": "stream",
     "text": [
      "sorry 2\n",
      "sorrysorry\n"
     ]
    }
   ],
   "source": [
    "#36\n",
    "w, n = input().split()\n",
    "print(w*int(n))"
   ]
  },
  {
   "cell_type": "code",
   "execution_count": 16,
   "id": "9063e2f1",
   "metadata": {},
   "outputs": [
    {
     "name": "stdout",
     "output_type": "stream",
     "text": [
      "4\n",
      "I just called to say I love you \n",
      "I just called to say I love you I just called to say I love you I just called to say I love you I just called to say I love you \n"
     ]
    }
   ],
   "source": [
    "#37\n",
    "n = input()\n",
    "s = input()\n",
    "print(int(n)*s)"
   ]
  },
  {
   "cell_type": "code",
   "execution_count": 22,
   "id": "7d18a228",
   "metadata": {},
   "outputs": [
    {
     "name": "stdout",
     "output_type": "stream",
     "text": [
      "3 4\n",
      "81.0\n"
     ]
    }
   ],
   "source": [
    "#38\n",
    "a, b = input().split()\n",
    "c = int(a) ; d = int(b);\n",
    "import math\n",
    "print(math.pow(c,d))"
   ]
  },
  {
   "cell_type": "code",
   "execution_count": 5,
   "id": "4adf92eb",
   "metadata": {},
   "outputs": [
    {
     "name": "stdout",
     "output_type": "stream",
     "text": [
      "2 4.2\n",
      "18.37917367995256\n"
     ]
    }
   ],
   "source": [
    "#39\n",
    "a, b = input().split()\n",
    "m = float(a)**float(b)\n",
    "print(m)"
   ]
  },
  {
   "cell_type": "code",
   "execution_count": 13,
   "id": "a5c76f69",
   "metadata": {},
   "outputs": [
    {
     "name": "stdout",
     "output_type": "stream",
     "text": [
      "3\n",
      "4\n",
      "0\n"
     ]
    }
   ],
   "source": [
    "#40\n",
    "a = int(input())\n",
    "b = int(input())\n",
    "print(a//b)\n"
   ]
  },
  {
   "cell_type": "code",
   "execution_count": 11,
   "id": "3ff71704",
   "metadata": {},
   "outputs": [
    {
     "name": "stdout",
     "output_type": "stream",
     "text": [
      "34 5\n",
      "4\n"
     ]
    }
   ],
   "source": [
    "#41\n",
    "a, b = input().split()\n",
    "print(int(a)%int(b))"
   ]
  },
  {
   "cell_type": "code",
   "execution_count": 14,
   "id": "5ae01095",
   "metadata": {},
   "outputs": [
    {
     "name": "stdout",
     "output_type": "stream",
     "text": [
      "3.141592\n",
      "3.14\n"
     ]
    }
   ],
   "source": [
    "#42\n",
    "a = float(input())\n",
    "print(round(a, 2))"
   ]
  },
  {
   "cell_type": "code",
   "execution_count": 18,
   "id": "7129a36e",
   "metadata": {},
   "outputs": [
    {
     "name": "stdout",
     "output_type": "stream",
     "text": [
      "10.255\n",
      "1\n",
      "10.0\n"
     ]
    }
   ],
   "source": [
    "#43\n",
    "f1 = float(input())\n",
    "f2 = float(input())\n",
    "print(round(f1//f2, 3))"
   ]
  },
  {
   "cell_type": "code",
   "execution_count": 19,
   "id": "6aef1d56",
   "metadata": {},
   "outputs": [
    {
     "name": "stdout",
     "output_type": "stream",
     "text": [
      "3\n",
      "5\n",
      "8\n",
      "-2\n",
      "15\n",
      "0\n",
      "3\n",
      "0.6\n"
     ]
    }
   ],
   "source": [
    "#44\n",
    "a = int(input())\n",
    "b = int(input())\n",
    "print(a + b); print(a- b);\n",
    "print(a*b); print(a//b)\n",
    "print(a%b); print(a/b)\n"
   ]
  },
  {
   "cell_type": "code",
   "execution_count": 8,
   "id": "76f1a353",
   "metadata": {},
   "outputs": [
    {
     "name": "stdout",
     "output_type": "stream",
     "text": [
      "1\n",
      "2\n",
      "3\n",
      "6 2.0\n"
     ]
    }
   ],
   "source": [
    "#45\n",
    "a = int(input()) ; b = int(input()); c = int(input())\n",
    "d = a + b + c\n",
    "def avg(d):\n",
    "    return d / 3\n",
    "print(d, avg(d))"
   ]
  },
  {
   "cell_type": "code",
   "execution_count": 13,
   "id": "f3000bf2",
   "metadata": {},
   "outputs": [
    {
     "name": "stdout",
     "output_type": "stream",
     "text": [
      "10\n",
      "40\n",
      "2\n"
     ]
    }
   ],
   "source": [
    "#46\n",
    "a = int(input())\n",
    "print(a<<2)\n",
    "print(a>>2)"
   ]
  },
  {
   "cell_type": "code",
   "execution_count": 15,
   "id": "15c6638a",
   "metadata": {},
   "outputs": [
    {
     "name": "stdout",
     "output_type": "stream",
     "text": [
      "40\n"
     ]
    }
   ],
   "source": [
    "#47\n",
    "a, b = 5, 3  \n",
    "print(a<<b) # a를 2**b 만큼 곱한 값 출력"
   ]
  },
  {
   "cell_type": "code",
   "execution_count": 17,
   "id": "55183f3d",
   "metadata": {},
   "outputs": [
    {
     "name": "stdout",
     "output_type": "stream",
     "text": [
      "False\n",
      "True\n"
     ]
    }
   ],
   "source": [
    "#48\n",
    "a, b = 123, 455\n",
    "print(a>b)\n",
    "print(a<b)"
   ]
  },
  {
   "cell_type": "code",
   "execution_count": 19,
   "id": "2c8b1b9f",
   "metadata": {},
   "outputs": [
    {
     "name": "stdout",
     "output_type": "stream",
     "text": [
      "5\n",
      "6\n",
      "False\n",
      "True\n"
     ]
    }
   ],
   "source": [
    "#49\n",
    "a = int(input()) ; b = int(input())\n",
    "print(a==b)\n",
    "print(a!=b)"
   ]
  },
  {
   "cell_type": "code",
   "execution_count": 2,
   "id": "261db15b",
   "metadata": {},
   "outputs": [
    {
     "name": "stdout",
     "output_type": "stream",
     "text": [
      "5\n",
      "7\n",
      "True\n"
     ]
    }
   ],
   "source": [
    "#50\n",
    "a = int(input()); b = int(input())\n",
    "if a < b or a == b :\n",
    "    print(True)\n",
    "else:\n",
    "    print(false)\n",
    "\n"
   ]
  },
  {
   "cell_type": "code",
   "execution_count": 2,
   "id": "6ff2adcd",
   "metadata": {},
   "outputs": [
    {
     "name": "stdout",
     "output_type": "stream",
     "text": [
      "4\n",
      "5\n",
      "True\n"
     ]
    }
   ],
   "source": [
    "#51\n",
    "a = int(input()); b = int(input())\n",
    "if a!=b:\n",
    "    print(True)\n",
    "else:\n",
    "    print(False)    "
   ]
  },
  {
   "cell_type": "code",
   "execution_count": 4,
   "id": "74c8e04f",
   "metadata": {},
   "outputs": [
    {
     "name": "stdout",
     "output_type": "stream",
     "text": [
      "0\n",
      "False\n"
     ]
    }
   ],
   "source": [
    "#52\n",
    "n = int(input())\n",
    "print(bool(n)) #python 언어에서 정수값 0은 False, 그 외의 값은 모두 True로 평가한다"
   ]
  },
  {
   "cell_type": "code",
   "execution_count": 6,
   "id": "13f2f093",
   "metadata": {},
   "outputs": [
    {
     "name": "stdout",
     "output_type": "stream",
     "text": [
      "0\n",
      "True\n"
     ]
    }
   ],
   "source": [
    "#53\n",
    "a = bool(int(input()))\n",
    "print(not a)"
   ]
  },
  {
   "cell_type": "code",
   "execution_count": 8,
   "id": "bf88717e",
   "metadata": {},
   "outputs": [
    {
     "name": "stdout",
     "output_type": "stream",
     "text": [
      "0\n",
      "3\n",
      "False\n"
     ]
    }
   ],
   "source": [
    "#54\n",
    "a = int(input()); b = int(input())\n",
    "if a == True and b == True:\n",
    "    print(True)\n",
    "else:\n",
    "    print(False)"
   ]
  },
  {
   "cell_type": "code",
   "execution_count": 9,
   "id": "08ab155c",
   "metadata": {},
   "outputs": [
    {
     "name": "stdout",
     "output_type": "stream",
     "text": [
      "0\n",
      "4\n",
      "True\n"
     ]
    }
   ],
   "source": [
    "#55\n",
    "a = int(input()); b = int(input())\n",
    "print(bool(a) or bool(b))"
   ]
  },
  {
   "cell_type": "code",
   "execution_count": 10,
   "id": "3cf94971",
   "metadata": {},
   "outputs": [
    {
     "name": "stdout",
     "output_type": "stream",
     "text": [
      "4\n",
      "5\n",
      "False\n"
     ]
    }
   ],
   "source": [
    "#56\n",
    "a = int(input()); b = int(input())\n",
    "c = bool(a); d = bool(b)\n",
    "print((c and (not d)) or ((not c) and d))"
   ]
  },
  {
   "cell_type": "code",
   "execution_count": 11,
   "id": "41ad66f7",
   "metadata": {},
   "outputs": [
    {
     "name": "stdout",
     "output_type": "stream",
     "text": [
      "0\n",
      "4\n",
      "False\n"
     ]
    }
   ],
   "source": [
    "#57\n",
    "a = int(input()); b = int(input())\n",
    "if a == True and b == True:\n",
    "    print(True)\n",
    "else:\n",
    "    print(False)"
   ]
  },
  {
   "cell_type": "code",
   "execution_count": 12,
   "id": "ca1a9ebd",
   "metadata": {},
   "outputs": [
    {
     "name": "stdout",
     "output_type": "stream",
     "text": [
      "0\n",
      "0\n",
      "True\n"
     ]
    }
   ],
   "source": [
    "#58\n",
    "a = int(input()); b = int(input())\n",
    "if a == False and b == False:\n",
    "    print(True)\n",
    "else:\n",
    "    print(False)"
   ]
  },
  {
   "cell_type": "code",
   "execution_count": 21,
   "id": "2c163c65",
   "metadata": {},
   "outputs": [
    {
     "name": "stdout",
     "output_type": "stream",
     "text": [
      "-2\n",
      "31\n",
      "0\n",
      "31\n",
      "1073741824\n",
      "0\n"
     ]
    }
   ],
   "source": [
    "#59 비트단위 연산자\n",
    "#~(bitwise not), &(bitwise and), |(bitwise or), ^(bitwise xor), <<(bitwise left shift), >>(bitwise right shift)\n",
    "a = 1\n",
    "print(~a)\n",
    "# 1이 입력되었을 때 저장되는 1을 32비트 2진수로 표현하면 00000000 00000000 00000000 00000001 이고,\n",
    "#~1은 11111111 11111111 11111111 11111110 가 되는데 이는 -2를 의미한다.\n",
    "b = 30\n",
    "print(a|b)\n",
    "print(a&b)\n",
    "print(a^b)\n",
    "print(a<<b)\n",
    "print(a>>b)\n",
    "# 자료구조에서 많이 쓰인다"
   ]
  },
  {
   "cell_type": "code",
   "execution_count": 5,
   "id": "f74e826a",
   "metadata": {},
   "outputs": [
    {
     "name": "stdout",
     "output_type": "stream",
     "text": [
      "1\n",
      "4\n"
     ]
    }
   ],
   "source": [
    "#60 and 연산자\n",
    "print(3&5)\n",
    "print(4&5)\n",
    "# -> ~bitwise not, &bitwise and, | bitwise or, ^ bitwise xor, << bitwise left shift, >> bitwise right shift\n",
    "# 네트워크에 연결되어 있는 두 개의 컴퓨터가 데이터를 공유하기 주고받기 위해 같은 네트워크에 있는지 아닌지를 판단하는\n",
    "#데 사용"
   ]
  },
  {
   "cell_type": "code",
   "execution_count": 8,
   "id": "4c8ba0e7",
   "metadata": {},
   "outputs": [
    {
     "name": "stdout",
     "output_type": "stream",
     "text": [
      "7\n",
      "7\n"
     ]
    }
   ],
   "source": [
    "#61 or 연산자\n",
    "print(3|5)\n",
    "print(3|6)\n",
    "# 빠른 계산이 필요한 그래픽 처리에서도 사용"
   ]
  },
  {
   "cell_type": "code",
   "execution_count": 10,
   "id": "7c681f13",
   "metadata": {},
   "outputs": [
    {
     "name": "stdout",
     "output_type": "stream",
     "text": [
      "6\n"
     ]
    }
   ],
   "source": [
    "#62 xor 연산자\n",
    "print(3^5)\n",
    "# 두 장의 이미지가 겹쳐졌을 때 색이 서로 다른 부분만 처리할 수 있다"
   ]
  },
  {
   "cell_type": "code",
   "execution_count": 3,
   "id": "fbb3e4e8",
   "metadata": {},
   "outputs": [
    {
     "name": "stdout",
     "output_type": "stream",
     "text": [
      "5 3\n",
      "5\n"
     ]
    }
   ],
   "source": [
    "#63\n",
    "a, b = input().split()\n",
    "a = int(a)\n",
    "b = int(b)\n",
    "c = (a if (a>=b) else b)\n",
    "print(int(c))\n"
   ]
  },
  {
   "cell_type": "code",
   "execution_count": 5,
   "id": "868d104f",
   "metadata": {},
   "outputs": [
    {
     "name": "stdout",
     "output_type": "stream",
     "text": [
      "3 2 1\n",
      "3\n"
     ]
    }
   ],
   "source": [
    "#64\n",
    "a, b, c = input().split()\n",
    "a = int(a); b = int(b); c = int(c)\n",
    "d = (a if a>b else b) if ((a if a>b else b) > c) else c # 순차적으로 생각하기\n",
    "print(int(d))"
   ]
  },
  {
   "cell_type": "code",
   "execution_count": 7,
   "id": "fb5bfcaa",
   "metadata": {},
   "outputs": [
    {
     "name": "stdout",
     "output_type": "stream",
     "text": [
      "4 2 3\n",
      "4\n",
      "2\n"
     ]
    }
   ],
   "source": [
    "#65\n",
    "a, b, c = input().split()\n",
    "a = int(a)\n",
    "b = int(b)\n",
    "c = int(c)\n",
    "\n",
    "if a%2 == 0:\n",
    "    print(a)\n",
    "if b%2 == 0:\n",
    "    print(b)\n",
    "if c%2 == 0:\n",
    "    print(c)"
   ]
  },
  {
   "cell_type": "code",
   "execution_count": 11,
   "id": "9b632858",
   "metadata": {},
   "outputs": [
    {
     "name": "stdout",
     "output_type": "stream",
     "text": [
      "23214 3234 567\n",
      "even\n",
      "even\n",
      "odd\n"
     ]
    }
   ],
   "source": [
    "#66\n",
    "a, b, c = input().split()\n",
    "a = int(a); b = int(b); c = int(c)\n",
    "if a%2 == 0:\n",
    "    print(\"even\")\n",
    "else:\n",
    "    print(\"odd\")\n",
    "\n",
    "if b%2 == 0:\n",
    "    print(\"even\")\n",
    "else:\n",
    "    print(\"odd\")\n",
    "\n",
    "if c%2 == 0:\n",
    "    print(\"even\")\n",
    "else:\n",
    "    print(\"odd\")"
   ]
  },
  {
   "cell_type": "code",
   "execution_count": 2,
   "id": "bbebeebf",
   "metadata": {},
   "outputs": [
    {
     "name": "stdout",
     "output_type": "stream",
     "text": [
      "1\n",
      "D\n"
     ]
    }
   ],
   "source": [
    "#67\n",
    "n = int(input())\n",
    "\n",
    "if n < 0:\n",
    "    if n%2 ==0:\n",
    "        print('A')\n",
    "    else:\n",
    "        print('B')\n",
    "if n > 0:\n",
    "    if n%2 ==0:\n",
    "        print('C')\n",
    "    else:\n",
    "        print('D')\n",
    "        "
   ]
  },
  {
   "cell_type": "code",
   "execution_count": 2,
   "id": "6b81ace7",
   "metadata": {},
   "outputs": [
    {
     "name": "stdout",
     "output_type": "stream",
     "text": [
      "30\n",
      "D\n"
     ]
    }
   ],
   "source": [
    "#68\n",
    "n = int(input())\n",
    "\n",
    "if n == 100 or n < 100 and n>= 90:\n",
    "    print('A')\n",
    "elif n < 90 and n >=70:\n",
    "    print('B')\n",
    "elif n < 70 and n>=40:\n",
    "    print('C')\n",
    "elif n < 40 and n>=0:\n",
    "    print('D')\n",
    "else:\n",
    "    print(False)\n"
   ]
  },
  {
   "cell_type": "code",
   "execution_count": 3,
   "id": "3d59847b",
   "metadata": {},
   "outputs": [
    {
     "name": "stdout",
     "output_type": "stream",
     "text": [
      "D\n",
      "Slowly~\n"
     ]
    }
   ],
   "source": [
    "#69\n",
    "words = str(input())\n",
    "if words == 'A':\n",
    "    print(\"Best!!!\")\n",
    "elif words == 'B':\n",
    "    print(\"Good!!\")\n",
    "elif words == 'C':\n",
    "    print(\"Run!\")\n",
    "elif words == 'D':\n",
    "    print(\"Slowly~\")\n",
    "else:\n",
    "    print(\"What?\")"
   ]
  },
  {
   "cell_type": "code",
   "execution_count": 5,
   "id": "69038c94",
   "metadata": {},
   "outputs": [
    {
     "name": "stdout",
     "output_type": "stream",
     "text": [
      "12\n",
      "winter\n"
     ]
    }
   ],
   "source": [
    " #70\n",
    "month = int(input())\n",
    "\n",
    "if month > 12:\n",
    "    print(False)\n",
    "if month%12 == 0 or 1 or 2:\n",
    "    print(\"winter\")\n",
    "elif month%12 == 3 or 4 or 5:\n",
    "    print(\"spring\")\n",
    "elif month%12 == 6 or 7 or 8:\n",
    "    print(\"summer\")\n",
    "elif month%12 == 9 or 10 or 11:\n",
    "    print(\"fall\")"
   ]
  },
  {
   "cell_type": "code",
   "execution_count": 8,
   "id": "a80e950a",
   "metadata": {},
   "outputs": [
    {
     "name": "stdout",
     "output_type": "stream",
     "text": [
      "7\n",
      "7\n",
      "4\n",
      "4\n",
      "2\n",
      "2\n",
      "3\n",
      "3\n",
      "10\n",
      "10\n",
      "0\n"
     ]
    }
   ],
   "source": [
    "#71\n",
    "n = 1\n",
    "while n != 0:\n",
    "    n = int(input())\n",
    "    if n != 0:\n",
    "        print(n)"
   ]
  },
  {
   "cell_type": "code",
   "execution_count": 13,
   "id": "6f49452d",
   "metadata": {},
   "outputs": [
    {
     "name": "stdout",
     "output_type": "stream",
     "text": [
      "100\n",
      "99\n",
      "98\n",
      "97\n",
      "96\n",
      "95\n",
      "94\n",
      "93\n",
      "92\n",
      "91\n",
      "90\n",
      "89\n",
      "88\n",
      "87\n",
      "86\n",
      "85\n",
      "84\n",
      "83\n",
      "82\n",
      "81\n",
      "80\n",
      "79\n",
      "78\n",
      "77\n",
      "76\n",
      "75\n",
      "74\n",
      "73\n",
      "72\n",
      "71\n",
      "70\n",
      "69\n",
      "68\n",
      "67\n",
      "66\n",
      "65\n",
      "64\n",
      "63\n",
      "62\n",
      "61\n",
      "60\n",
      "59\n",
      "58\n",
      "57\n",
      "56\n",
      "55\n",
      "54\n",
      "53\n",
      "52\n",
      "51\n",
      "50\n",
      "49\n",
      "48\n",
      "47\n",
      "46\n",
      "45\n",
      "44\n",
      "43\n",
      "42\n",
      "41\n",
      "40\n",
      "39\n",
      "38\n",
      "37\n",
      "36\n",
      "35\n",
      "34\n",
      "33\n",
      "32\n",
      "31\n",
      "30\n",
      "29\n",
      "28\n",
      "27\n",
      "26\n",
      "25\n",
      "24\n",
      "23\n",
      "22\n",
      "21\n",
      "20\n",
      "19\n",
      "18\n",
      "17\n",
      "16\n",
      "15\n",
      "14\n",
      "13\n",
      "12\n",
      "11\n",
      "10\n",
      "9\n",
      "8\n",
      "7\n",
      "6\n",
      "5\n",
      "4\n",
      "3\n",
      "2\n",
      "1\n"
     ]
    }
   ],
   "source": [
    "#72\n",
    "n = int(input())\n",
    "while n != 0:\n",
    "    n -= 1\n",
    "    if n !=0:\n",
    "        print(n)"
   ]
  },
  {
   "cell_type": "code",
   "execution_count": 14,
   "id": "351a7feb",
   "metadata": {},
   "outputs": [
    {
     "name": "stdout",
     "output_type": "stream",
     "text": [
      "100\n",
      "99\n",
      "98\n",
      "97\n",
      "96\n",
      "95\n",
      "94\n",
      "93\n",
      "92\n",
      "91\n",
      "90\n",
      "89\n",
      "88\n",
      "87\n",
      "86\n",
      "85\n",
      "84\n",
      "83\n",
      "82\n",
      "81\n",
      "80\n",
      "79\n",
      "78\n",
      "77\n",
      "76\n",
      "75\n",
      "74\n",
      "73\n",
      "72\n",
      "71\n",
      "70\n",
      "69\n",
      "68\n",
      "67\n",
      "66\n",
      "65\n",
      "64\n",
      "63\n",
      "62\n",
      "61\n",
      "60\n",
      "59\n",
      "58\n",
      "57\n",
      "56\n",
      "55\n",
      "54\n",
      "53\n",
      "52\n",
      "51\n",
      "50\n",
      "49\n",
      "48\n",
      "47\n",
      "46\n",
      "45\n",
      "44\n",
      "43\n",
      "42\n",
      "41\n",
      "40\n",
      "39\n",
      "38\n",
      "37\n",
      "36\n",
      "35\n",
      "34\n",
      "33\n",
      "32\n",
      "31\n",
      "30\n",
      "29\n",
      "28\n",
      "27\n",
      "26\n",
      "25\n",
      "24\n",
      "23\n",
      "22\n",
      "21\n",
      "20\n",
      "19\n",
      "18\n",
      "17\n",
      "16\n",
      "15\n",
      "14\n",
      "13\n",
      "12\n",
      "11\n",
      "10\n",
      "9\n",
      "8\n",
      "7\n",
      "6\n",
      "5\n",
      "4\n",
      "3\n",
      "2\n",
      "1\n"
     ]
    }
   ],
   "source": [
    "#73\n",
    "n = int(input())\n",
    "\n",
    "while n != 0:\n",
    "    n -= 1\n",
    "    if n != 0:\n",
    "        print(n)"
   ]
  },
  {
   "cell_type": "code",
   "execution_count": 18,
   "id": "63c78691",
   "metadata": {},
   "outputs": [
    {
     "name": "stdout",
     "output_type": "stream",
     "text": [
      "d\n",
      "a b c d "
     ]
    }
   ],
   "source": [
    "#74 a부터 입력한 문자까지 순서대로 공백을 두고 한 줄로 출력\n",
    "c = ord(input())\n",
    "t = ord('a')\n",
    "while t <= c:\n",
    "    print(chr(t), end=' ') # chr() : 유니코드를 문자열로 변환\n",
    "    t+=1"
   ]
  },
  {
   "cell_type": "code",
   "execution_count": 20,
   "id": "c9280065",
   "metadata": {},
   "outputs": [
    {
     "name": "stdout",
     "output_type": "stream",
     "text": [
      "30\n",
      "0 1 2 3 4 5 6 7 8 9 10 11 12 13 14 15 16 17 18 19 20 21 22 23 24 25 26 27 28 29 30 "
     ]
    }
   ],
   "source": [
    "#75\n",
    "n1 = int(input())\n",
    "n2 = 0\n",
    "while n2 <= n1:\n",
    "    print(n2, end=' ') # 공백이 있게끔 출력하라\n",
    "    n2 += 1"
   ]
  },
  {
   "cell_type": "code",
   "execution_count": 22,
   "id": "d6532c52",
   "metadata": {},
   "outputs": [
    {
     "name": "stdout",
     "output_type": "stream",
     "text": [
      "5\n",
      "0\n",
      "1\n",
      "2\n",
      "3\n",
      "4\n",
      "5\n"
     ]
    }
   ],
   "source": [
    "#76\n",
    "n = int(input())\n",
    "for i in range(n+1):\n",
    "    print(i)"
   ]
  },
  {
   "cell_type": "code",
   "execution_count": 27,
   "id": "6900d4bb",
   "metadata": {},
   "outputs": [
    {
     "name": "stdout",
     "output_type": "stream",
     "text": [
      "5\n",
      "6\n"
     ]
    }
   ],
   "source": [
    "#77 짝수만 더해서 계산하기\n",
    "n = int(input())\n",
    "s = 0\n",
    "\n",
    "for i in range(1, n+1):\n",
    "    if i%2 == 0:\n",
    "        s += i\n",
    "print(s)"
   ]
  },
  {
   "cell_type": "code",
   "execution_count": 4,
   "id": "e6adfefe",
   "metadata": {},
   "outputs": [
    {
     "name": "stdout",
     "output_type": "stream",
     "text": [
      "a\n",
      "a\n",
      "r\n",
      "r\n",
      "d\n",
      "d\n",
      "e\n",
      "e\n",
      "q\n",
      "q\n"
     ]
    }
   ],
   "source": [
    "#78 원하는 문자가 입력될 때까지 반복 출력\n",
    "while(1): #항상 참이므로, 적어도 1번은 출력된다\n",
    "    a = input()\n",
    "    print(a)\n",
    "    if a == 'q': break\n",
    "        \n",
    "        \n",
    "        "
   ]
  },
  {
   "cell_type": "code",
   "execution_count": 2,
   "id": "5bcc72dc",
   "metadata": {},
   "outputs": [
    {
     "name": "stdout",
     "output_type": "stream",
     "text": [
      "56\n",
      "11\n"
     ]
    }
   ],
   "source": [
    "#79\n",
    "a = int(input())\n",
    "i = 1\n",
    "while(1):\n",
    "    s = (i*(i+1))/2\n",
    "    if s < a :\n",
    "        i = i+1\n",
    "    else:\n",
    "        break\n",
    "print(i)\n",
    "        "
   ]
  },
  {
   "cell_type": "code",
   "execution_count": 7,
   "id": "b292178b",
   "metadata": {},
   "outputs": [
    {
     "name": "stdout",
     "output_type": "stream",
     "text": [
      "2 3\n",
      "1 1\n",
      "1 2\n",
      "1 3\n",
      "2 1\n",
      "2 2\n",
      "2 3\n"
     ]
    }
   ],
   "source": [
    "#80 서로 다른 주사위 2개를 던졌을 때, 나올 수 있는 모든 경우\n",
    "n, m = input().split()\n",
    "n = int(n); m = int(m)\n",
    "for i in range(1, n+1):\n",
    "    for j in range(1, m+1):\n",
    "        print(i,j)\n"
   ]
  },
  {
   "cell_type": "code",
   "execution_count": 1,
   "id": "3638fd6f",
   "metadata": {},
   "outputs": [
    {
     "name": "stdout",
     "output_type": "stream",
     "text": [
      "B\n",
      "B*1=B\n",
      "B*2=16\n",
      "B*3=21\n",
      "B*4=2C\n",
      "B*5=37\n",
      "B*6=42\n",
      "B*7=4D\n",
      "B*8=58\n",
      "B*9=63\n",
      "B*A=6E\n",
      "B*B=79\n",
      "B*C=84\n",
      "B*D=8F\n",
      "B*E=9A\n",
      "B*F=A5\n"
     ]
    }
   ],
   "source": [
    "#81\n",
    "a = int(input(), 16) # a를 16진수로 입력받음\n",
    "for i in range(1, 16):\n",
    "    answer = a*i\n",
    "    print(\"%X*%X=%X\" %(a, i, answer))"
   ]
  },
  {
   "cell_type": "code",
   "execution_count": 2,
   "id": "3e15a2de",
   "metadata": {},
   "outputs": [
    {
     "name": "stdout",
     "output_type": "stream",
     "text": [
      "33\n",
      "1 2 X 4 5 X 7 8 X 10 11 12 X 14 15 X 17 18 X 20 21 22 X 24 25 X 27 28 X X XX 30 X XX 31 X XX 32 X XX X "
     ]
    }
   ],
   "source": [
    "#82\n",
    "a = int(input())\n",
    "for i in range(1, a+1):\n",
    "    if i%10 == 3:\n",
    "        print(\"X\", end =' ')\n",
    "    elif i%10 == 6:\n",
    "        print(\"X\", end = ' ')\n",
    "    elif i%10 == 9:\n",
    "        print(\"X\", end = ' ')\n",
    "    else:\n",
    "        print(i, end = ' ')\n",
    " \n"
   ]
  },
  {
   "cell_type": "code",
   "execution_count": 1,
   "id": "5b435216",
   "metadata": {},
   "outputs": [
    {
     "name": "stdout",
     "output_type": "stream",
     "text": [
      "2 2 2\n",
      "0 0 0\n",
      "0 0 1\n",
      "0 1 0\n",
      "0 1 1\n",
      "1 0 0\n",
      "1 0 1\n",
      "1 1 0\n",
      "1 1 1\n",
      "8\n"
     ]
    }
   ],
   "source": [
    "#83\n",
    "a,b,c = map(int, input().split())\n",
    "for i in range(a):\n",
    "    for j in range(b):\n",
    "        for k in range(c):\n",
    "            print(i, j, k)\n",
    "print(a*b*c)\n",
    "    "
   ]
  },
  {
   "cell_type": "code",
   "execution_count": 23,
   "id": "763eecb4",
   "metadata": {},
   "outputs": [
    {
     "name": "stdout",
     "output_type": "stream",
     "text": [
      "44100 16 2 10\n",
      "1.7  MB\n"
     ]
    }
   ],
   "source": [
    "# 84\n",
    "h, b, c, s = map(int, input().split())\n",
    "def mb():\n",
    "    if h > 48000 or b>32 or c> 5 or s>6000:\n",
    "        return False\n",
    "    elif b%8 != 0:\n",
    "        return False\n",
    "    else:\n",
    "        return h*b*c*s/(8*1024**2)   \n",
    "print(round(mb(), 1), \" MB\")\n",
    "    \n",
    "    \n"
   ]
  },
  {
   "cell_type": "code",
   "execution_count": 25,
   "id": "e0e5c857",
   "metadata": {},
   "outputs": [
    {
     "name": "stdout",
     "output_type": "stream",
     "text": [
      "1024 768 24\n",
      "2.25  MB\n"
     ]
    }
   ],
   "source": [
    "#85\n",
    "w, h, b = map(int, input().split())\n",
    "def a():\n",
    "    if w <=0 or h <= 0 :\n",
    "        return False\n",
    "    if w > 1024 or h > 1024:\n",
    "        return False\n",
    "    elif b%4 != 0 or b > 40:\n",
    "        return False\n",
    "    else:\n",
    "        return w*h*b/(8*1024**2)\n",
    "\n",
    "print(round(a(),3), \" MB\")\n",
    "    "
   ]
  },
  {
   "cell_type": "code",
   "execution_count": 16,
   "id": "093a8c07",
   "metadata": {},
   "outputs": [
    {
     "name": "stdout",
     "output_type": "stream",
     "text": [
      "57\n",
      "66\n"
     ]
    }
   ],
   "source": [
    "#86\n",
    "a = int(input())\n",
    "s=0; i=1;\n",
    "while s < a:\n",
    "    s += i\n",
    "    i += 1\n",
    "print(s)"
   ]
  },
  {
   "cell_type": "code",
   "execution_count": 21,
   "id": "98e33969",
   "metadata": {},
   "outputs": [
    {
     "name": "stdout",
     "output_type": "stream",
     "text": [
      "20\n",
      "1 2 4 5 7 8 10 11 13 14 16 17 19 20 "
     ]
    }
   ],
   "source": [
    "#87\n",
    "a = int(input())\n",
    "for i in range(1, a+1):\n",
    "    if i%3 == 0:\n",
    "        continue\n",
    "    print(i, end=' ')"
   ]
  },
  {
   "cell_type": "code",
   "execution_count": 31,
   "id": "2a232a79",
   "metadata": {},
   "outputs": [
    {
     "name": "stdout",
     "output_type": "stream",
     "text": [
      "1 3 5\n",
      "13\n"
     ]
    }
   ],
   "source": [
    "#88\n",
    "a, d, n =  map(int, input().split())\n",
    "def seq():\n",
    "    if 0 <= a < 101 and 0 <= d < 101 and 0 <= n < 101:\n",
    "        return a + d*(n-1)\n",
    "    else:\n",
    "        return False\n",
    "print(seq())\n",
    "    "
   ]
  },
  {
   "cell_type": "code",
   "execution_count": 33,
   "id": "1ff35404",
   "metadata": {},
   "outputs": [
    {
     "name": "stdout",
     "output_type": "stream",
     "text": [
      "2 3 7\n",
      "1458\n"
     ]
    }
   ],
   "source": [
    "# 89\n",
    "a, r, n = map(int, input().split())\n",
    "def seq2():\n",
    "    if 0 <= a < 11 and 0 <= r < 11 and 0 <= n < 11:\n",
    "        return a*r**(n-1)\n",
    "    else:\n",
    "        return False\n",
    "print(seq2())"
   ]
  },
  {
   "cell_type": "code",
   "execution_count": 46,
   "id": "0e22f257",
   "metadata": {},
   "outputs": [
    {
     "name": "stdout",
     "output_type": "stream",
     "text": [
      "1 -2 1 8\n",
      "-85\n"
     ]
    }
   ],
   "source": [
    "#90\n",
    "a, m, d, n = map(int, input().split())\n",
    "for i in range(n-1):\n",
    "    a = a*m+d\n",
    "print(a)\n"
   ]
  },
  {
   "cell_type": "code",
   "execution_count": 47,
   "id": "bc6dbfcd",
   "metadata": {},
   "outputs": [
    {
     "name": "stdout",
     "output_type": "stream",
     "text": [
      "3 7 9\n",
      "63\n"
     ]
    }
   ],
   "source": [
    "#91\n",
    "a, b, c = map(int, input().split())\n",
    "d = 1\n",
    "while d%a !=0 or d%b != 0 or d%c !=0:\n",
    "    d += 1\n",
    "print(d)"
   ]
  },
  {
   "cell_type": "code",
   "execution_count": 3,
   "id": "974b8ada",
   "metadata": {},
   "outputs": [
    {
     "name": "stdout",
     "output_type": "stream",
     "text": [
      "10\n",
      "1 3 2 2 5 6 7 4 5 9\n",
      "1 2 1 1 2 1 1 0 1 0 0 0 0 0 0 0 0 0 0 0 0 0 0 "
     ]
    }
   ],
   "source": [
    "#92 랜덤 출석\n",
    "n = int(input()) #개수를 입력받아 n에 정수로 저장\n",
    "a = input().split() #공백을 기준으로 잘라 a에 순서대로 저장\n",
    "\n",
    "for i in range(n): #0부터 n-1까지\n",
    "    a[i] = int(a[i]) #a에 순서대로 저장되어 있는 각 값을 정수로 변환\n",
    "\n",
    "d = [] #d라는 이름의 빈 리스트 [] 변수를 만듦. 대괄호 기호 []를 사용한다\n",
    "for i in range(24): #[0,0,0, ..., 0]과 같이 24개의 정수 값 0을 추가해 넣음\n",
    "    d.append(0) # 각 값은 d[0], d[1], d[2],... 으로 값을 읽고 저장할 수 있음\n",
    "\n",
    "for i in range(n): #번호를 부를 때마다, 그 번호에 대한 카운트 1씩 증가\n",
    "    d[a[i]] += 1\n",
    "    \n",
    "for i in range(1,24): # 카운트한 값을 공백을 두고 출력\n",
    "    print(d[i], end=' ')"
   ]
  },
  {
   "cell_type": "code",
   "execution_count": 4,
   "id": "3621af9b",
   "metadata": {},
   "outputs": [
    {
     "name": "stdout",
     "output_type": "stream",
     "text": [
      "10\n",
      "10 4 2 3 6 6 7 9 8 5\n",
      "5 8 9 7 6 6 3 2 4 10 "
     ]
    }
   ],
   "source": [
    "#93 출석을 부른 순서를 바꾸어 공백을 두고 출력하기\n",
    "n = int(input())\n",
    "a = input().split()\n",
    "\n",
    "for i in range(n-1, -1, -1):\n",
    "    print(a[i], end=' ')\n",
    "    "
   ]
  },
  {
   "cell_type": "code",
   "execution_count": 21,
   "id": "68b21eee",
   "metadata": {},
   "outputs": [
    {
     "name": "stdout",
     "output_type": "stream",
     "text": [
      "10\n",
      "10 -2 3 4 5 5 4 3 2 5\n",
      "-2\n"
     ]
    }
   ],
   "source": [
    "#94\n",
    "n = int(input())\n",
    "k = list(map(int, input().split()))\n",
    "a = k[0]\n",
    "\n",
    "for i in range(n):\n",
    "    if a > k[i]:\n",
    "        a = k[i]\n",
    "\n",
    "print(a)"
   ]
  },
  {
   "cell_type": "code",
   "execution_count": 23,
   "id": "1d99b2a6",
   "metadata": {},
   "outputs": [
    {
     "name": "stdout",
     "output_type": "stream",
     "text": [
      "5\n",
      "1 1\n",
      "2 2\n",
      "3 3\n",
      "4 4\n",
      "19 19\n",
      "1 0 0 0 0 0 0 0 0 0 0 0 0 0 0 0 0 0 0 \n",
      "0 1 0 0 0 0 0 0 0 0 0 0 0 0 0 0 0 0 0 \n",
      "0 0 1 0 0 0 0 0 0 0 0 0 0 0 0 0 0 0 0 \n",
      "0 0 0 1 0 0 0 0 0 0 0 0 0 0 0 0 0 0 0 \n",
      "0 0 0 0 0 0 0 0 0 0 0 0 0 0 0 0 0 0 0 \n",
      "0 0 0 0 0 0 0 0 0 0 0 0 0 0 0 0 0 0 0 \n",
      "0 0 0 0 0 0 0 0 0 0 0 0 0 0 0 0 0 0 0 \n",
      "0 0 0 0 0 0 0 0 0 0 0 0 0 0 0 0 0 0 0 \n",
      "0 0 0 0 0 0 0 0 0 0 0 0 0 0 0 0 0 0 0 \n",
      "0 0 0 0 0 0 0 0 0 0 0 0 0 0 0 0 0 0 0 \n",
      "0 0 0 0 0 0 0 0 0 0 0 0 0 0 0 0 0 0 0 \n",
      "0 0 0 0 0 0 0 0 0 0 0 0 0 0 0 0 0 0 0 \n",
      "0 0 0 0 0 0 0 0 0 0 0 0 0 0 0 0 0 0 0 \n",
      "0 0 0 0 0 0 0 0 0 0 0 0 0 0 0 0 0 0 0 \n",
      "0 0 0 0 0 0 0 0 0 0 0 0 0 0 0 0 0 0 0 \n",
      "0 0 0 0 0 0 0 0 0 0 0 0 0 0 0 0 0 0 0 \n",
      "0 0 0 0 0 0 0 0 0 0 0 0 0 0 0 0 0 0 0 \n",
      "0 0 0 0 0 0 0 0 0 0 0 0 0 0 0 0 0 0 0 \n",
      "0 0 0 0 0 0 0 0 0 0 0 0 0 0 0 0 0 0 1 \n"
     ]
    }
   ],
   "source": [
    "#95 바둑알\n",
    "\n",
    "d = []\n",
    "for i in range(20):\n",
    "    d.append([])\n",
    "    for j in range(20):\n",
    "        d[i].append(0)\n",
    "n = int(input())\n",
    "for i in range(n):\n",
    "    x, y = input().split()\n",
    "    d[int(x)][int(y)] = 1\n",
    "for i in range(1, 20):\n",
    "    for j in range(1, 20):\n",
    "        print(d[i][j], end=' ')\n",
    "    print()\n",
    "#  d = [[0 for j in range(20)] for i in range(20)]"
   ]
  },
  {
   "cell_type": "code",
   "execution_count": 2,
   "id": "9141d690",
   "metadata": {},
   "outputs": [
    {
     "name": "stdout",
     "output_type": "stream",
     "text": [
      "0 0 0 0 0 0 0 0 0 1 0 1 0 0 0 0 0 0 0\n",
      "0 0 0 0 0 0 0 0 0 1 0 1 0 0 0 0 0 0 0\n",
      "0 0 0 0 0 0 0 0 0 1 0 1 0 0 0 0 0 0 0\n",
      "0 0 0 0 0 0 0 0 0 1 0 1 0 0 0 0 0 0 0\n",
      "0 0 0 0 0 0 0 0 0 1 0 1 0 0 0 0 0 0 0\n",
      "0 0 0 0 0 0 0 0 0 1 0 1 0 0 0 0 0 0 0\n",
      "0 0 0 0 0 0 0 0 0 1 0 1 0 0 0 0 0 0 0\n",
      "0 0 0 0 0 0 0 0 0 1 0 1 0 0 0 0 0 0 0\n",
      "0 0 0 0 0 0 0 0 0 1 0 1 0 0 0 0 0 0 0\n",
      "1 1 1 1 1 1 1 1 1 1 1 1 1 1 1 1 1 1 1\n",
      "0 0 0 0 0 0 0 0 0 1 0 1 0 0 0 0 0 0 0\n",
      "1 1 1 1 1 1 1 1 1 1 1 1 1 1 1 1 1 1 1\n",
      "0 0 0 0 0 0 0 0 0 1 0 1 0 0 0 0 0 0 0\n",
      "0 0 0 0 0 0 0 0 0 1 0 1 0 0 0 0 0 0 0\n",
      "0 0 0 0 0 0 0 0 0 1 0 1 0 0 0 0 0 0 0\n",
      "0 0 0 0 0 0 0 0 0 1 0 1 0 0 0 0 0 0 0\n",
      "0 0 0 0 0 0 0 0 0 1 0 1 0 0 0 0 0 0 0\n",
      "0 0 0 0 0 0 0 0 0 1 0 1 0 0 0 0 0 0 0\n",
      "0 0 0 0 0 0 0 0 0 1 0 1 0 0 0 0 0 0 0\n",
      "2\n",
      "10 10\n",
      "12 12\n",
      "0 0 0 0 0 0 0 0 0 0 0 0 0 0 0 0 0 0 0\n",
      "0 0 0 0 0 0 0 0 0 0 0 0 0 0 0 0 0 0 0\n",
      "0 0 0 0 0 0 0 0 0 0 0 0 0 0 0 0 0 0 0\n",
      "0 0 0 0 0 0 0 0 0 0 0 0 0 0 0 0 0 0 0\n",
      "0 0 0 0 0 0 0 0 0 0 0 0 0 0 0 0 0 0 0\n",
      "0 0 0 0 0 0 0 0 0 0 0 0 0 0 0 0 0 0 0\n",
      "0 0 0 0 0 0 0 0 0 0 0 0 0 0 0 0 0 0 0\n",
      "0 0 0 0 0 0 0 0 0 0 0 0 0 0 0 0 0 0 0\n",
      "0 0 0 0 0 0 0 0 0 0 0 0 0 0 0 0 0 0 0\n",
      "0 0 0 0 0 0 0 0 0 1 0 1 0 0 0 0 0 0 0\n",
      "0 0 0 0 0 0 0 0 0 0 0 0 0 0 0 0 0 0 0\n",
      "0 0 0 0 0 0 0 0 0 1 0 1 0 0 0 0 0 0 0\n",
      "0 0 0 0 0 0 0 0 0 0 0 0 0 0 0 0 0 0 0\n",
      "0 0 0 0 0 0 0 0 0 0 0 0 0 0 0 0 0 0 0\n",
      "0 0 0 0 0 0 0 0 0 0 0 0 0 0 0 0 0 0 0\n",
      "0 0 0 0 0 0 0 0 0 0 0 0 0 0 0 0 0 0 0\n",
      "0 0 0 0 0 0 0 0 0 0 0 0 0 0 0 0 0 0 0\n",
      "0 0 0 0 0 0 0 0 0 0 0 0 0 0 0 0 0 0 0\n",
      "0 0 0 0 0 0 0 0 0 0 0 0 0 0 0 0 0 0 0\n"
     ]
    }
   ],
   "source": [
    "#96\n",
    "d = [[0 for i in range(19)] for j in range(19)]\n",
    "\n",
    "for i in range(19):\n",
    "    d[i] = list(map(int, input().split()))\n",
    "\n",
    "n = int(input())\n",
    "    \n",
    "for j in range(n):\n",
    "    x,y = map(int, input().split())\n",
    "    \n",
    "    for k in range(len(d)):\n",
    "        if d[x-1][k] == 0:\n",
    "            d[x-1][k] = 1\n",
    "        else:\n",
    "            d[x-1][k] = 0\n",
    "            \n",
    "        if d[k][y-1] == 0:\n",
    "            d[k][y-1] = 1\n",
    "        else:\n",
    "            d[k][y-1] = 0\n",
    "for idx in range(len(d)):\n",
    "    print(' '.join(map(str, d[idx])))\n",
    "    \n",
    "    "
   ]
  },
  {
   "cell_type": "code",
   "execution_count": 5,
   "id": "e9f198f3",
   "metadata": {},
   "outputs": [
    {
     "name": "stdout",
     "output_type": "stream",
     "text": [
      "5 5\n",
      "3\n",
      "2 0 1 1\n",
      "3 1 2 3\n",
      "4 1 2 5\n",
      "1 1 0 0 0 \n",
      "0 0 1 0 1 \n",
      "0 0 1 0 1 \n",
      "0 0 1 0 1 \n",
      "0 0 0 0 1 \n"
     ]
    }
   ],
   "source": [
    "#97\n",
    "w, h = map(int, input().split())\n",
    "plot = [[0 for j in range(w)] for i in range(h)]\n",
    "\n",
    "n = int(input())\n",
    "for k in range(n):\n",
    "    l, d, x, y = map(int, input().split())\n",
    "    if d==0:\n",
    "        for j in range(l):\n",
    "            plot[x-1][y-1+j]=1\n",
    "    else:\n",
    "        for j in range(l):\n",
    "            plot[x-1+j][y-1]=1\n",
    "\n",
    "for i in range(h):\n",
    "    for j in range(w):\n",
    "        print(plot[i][j], end =' ')\n",
    "    print()\n",
    "    \n",
    "    "
   ]
  },
  {
   "cell_type": "code",
   "execution_count": 7,
   "id": "ff429e83",
   "metadata": {},
   "outputs": [
    {
     "name": "stdout",
     "output_type": "stream",
     "text": [
      "1 1 1 1 1 1 1 1 1 1\n",
      "1 0 0 1 0 0 0 0 0 1\n",
      "1 0 0 1 1 1 0 0 0 1\n",
      "1 0 0 0 0 0 0 1 0 1\n",
      "1 0 0 0 0 0 0 1 0 1\n",
      "1 0 0 0 0 1 0 1 0 1\n",
      "1 0 0 0 0 1 2 1 0 1\n",
      "1 0 0 0 0 1 0 0 0 1\n",
      "1 0 0 0 0 0 0 0 0 1\n",
      "1 1 1 1 1 1 1 1 1 1\n",
      "1 1 1 1 1 1 1 1 1 1 \n",
      "1 9 9 1 0 0 0 0 0 1 \n",
      "1 0 9 1 1 1 0 0 0 1 \n",
      "1 0 9 9 9 9 9 1 0 1 \n",
      "1 0 0 0 0 0 9 1 0 1 \n",
      "1 0 0 0 0 1 9 1 0 1 \n",
      "1 0 0 0 0 1 9 1 0 1 \n",
      "1 0 0 0 0 1 0 0 0 1 \n",
      "1 0 0 0 0 0 0 0 0 1 \n",
      "1 1 1 1 1 1 1 1 1 1 \n"
     ]
    }
   ],
   "source": [
    "#98\n",
    "maze = []\n",
    "\n",
    "for i in range(10):\n",
    "    maze.append(list(map(int, input().split())))\n",
    "\n",
    "x,y = 1,1\n",
    "\n",
    "while True:\n",
    "    if maze[x][y] == 0:\n",
    "        maze[x][y] = 9\n",
    "    elif maze[x][y] == 2:\n",
    "        maze[x][y] = 9\n",
    "        break\n",
    "    \n",
    "    if maze[x][y+1] ==1 and maze[x+1][y] == 1:\n",
    "        break\n",
    "    \n",
    "    if maze[x][y+1] != 1:\n",
    "        y += 1\n",
    "    elif maze[x+1][y] != 1:\n",
    "        x += 1\n",
    "\n",
    "for i in range(10):\n",
    "    for j in range(10):\n",
    "        print(maze[i][j], end= ' ')\n",
    "    print()\n",
    "\n",
    "\n"
   ]
  }
 ],
 "metadata": {
  "kernelspec": {
   "display_name": "Python 3",
   "language": "python",
   "name": "python3"
  },
  "language_info": {
   "codemirror_mode": {
    "name": "ipython",
    "version": 3
   },
   "file_extension": ".py",
   "mimetype": "text/x-python",
   "name": "python",
   "nbconvert_exporter": "python",
   "pygments_lexer": "ipython3",
   "version": "3.8.8"
  }
 },
 "nbformat": 4,
 "nbformat_minor": 5
}
