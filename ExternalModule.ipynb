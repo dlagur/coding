{
  "nbformat": 4,
  "nbformat_minor": 0,
  "metadata": {
    "colab": {
      "name": "ExternalModule.ipynb",
      "provenance": [],
      "collapsed_sections": [],
      "authorship_tag": "ABX9TyMdyaZnQdc9JnA93Xn2KWAi",
      "include_colab_link": true
    },
    "kernelspec": {
      "name": "python3",
      "display_name": "Python 3"
    },
    "language_info": {
      "name": "python"
    }
  },
  "cells": [
    {
      "cell_type": "markdown",
      "metadata": {
        "id": "view-in-github",
        "colab_type": "text"
      },
      "source": [
        "<a href=\"https://colab.research.google.com/github/dlagur/coding/blob/main/ExternalModule.ipynb\" target=\"_parent\"><img src=\"https://colab.research.google.com/assets/colab-badge.svg\" alt=\"Open In Colab\"/></a>"
      ]
    },
    {
      "cell_type": "markdown",
      "source": [
        "- pip install 모듈 이름"
      ],
      "metadata": {
        "id": "X7wV_FCMrpZA"
      }
    },
    {
      "cell_type": "markdown",
      "source": [
        "# BeautifulSoup - > 웹 스크레이핑 관련 모듈"
      ],
      "metadata": {
        "id": "jSZPI2JfvC14"
      }
    },
    {
      "cell_type": "code",
      "execution_count": 1,
      "metadata": {
        "colab": {
          "base_uri": "https://localhost:8080/"
        },
        "id": "FXw13YkariCY",
        "outputId": "2fc94394-1399-49da-93a0-b7c81ab2b132"
      },
      "outputs": [
        {
          "output_type": "stream",
          "name": "stdout",
          "text": [
            "도시: 서울\n",
            "날씨: 구름많음\n",
            "최저기온: 5\n",
            "최고기온: 14\n",
            "\n",
            "도시: 인천\n",
            "날씨: 구름많음\n",
            "최저기온: 4\n",
            "최고기온: 10\n",
            "\n",
            "도시: 수원\n",
            "날씨: 구름많음\n",
            "최저기온: 5\n",
            "최고기온: 14\n",
            "\n",
            "도시: 파주\n",
            "날씨: 구름많음\n",
            "최저기온: 2\n",
            "최고기온: 14\n",
            "\n",
            "도시: 이천\n",
            "날씨: 구름많음\n",
            "최저기온: 5\n",
            "최고기온: 16\n",
            "\n",
            "도시: 평택\n",
            "날씨: 구름많음\n",
            "최저기온: 4\n",
            "최고기온: 15\n",
            "\n",
            "도시: 춘천\n",
            "날씨: 구름많음\n",
            "최저기온: 4\n",
            "최고기온: 16\n",
            "\n",
            "도시: 원주\n",
            "날씨: 구름많음\n",
            "최저기온: 6\n",
            "최고기온: 17\n",
            "\n",
            "도시: 강릉\n",
            "날씨: 구름많음\n",
            "최저기온: 6\n",
            "최고기온: 14\n",
            "\n",
            "도시: 대전\n",
            "날씨: 구름많음\n",
            "최저기온: 6\n",
            "최고기온: 17\n",
            "\n",
            "도시: 세종\n",
            "날씨: 구름많음\n",
            "최저기온: 6\n",
            "최고기온: 16\n",
            "\n",
            "도시: 홍성\n",
            "날씨: 구름많음\n",
            "최저기온: 4\n",
            "최고기온: 16\n",
            "\n",
            "도시: 청주\n",
            "날씨: 구름많음\n",
            "최저기온: 7\n",
            "최고기온: 17\n",
            "\n",
            "도시: 충주\n",
            "날씨: 구름많음\n",
            "최저기온: 5\n",
            "최고기온: 16\n",
            "\n",
            "도시: 영동\n",
            "날씨: 구름많음\n",
            "최저기온: 4\n",
            "최고기온: 18\n",
            "\n",
            "도시: 광주\n",
            "날씨: 구름많음\n",
            "최저기온: 7\n",
            "최고기온: 21\n",
            "\n",
            "도시: 목포\n",
            "날씨: 구름많음\n",
            "최저기온: 5\n",
            "최고기온: 15\n",
            "\n",
            "도시: 여수\n",
            "날씨: 구름많음\n",
            "최저기온: 8\n",
            "최고기온: 15\n",
            "\n",
            "도시: 순천\n",
            "날씨: 구름많음\n",
            "최저기온: 8\n",
            "최고기온: 19\n",
            "\n",
            "도시: 광양\n",
            "날씨: 구름많음\n",
            "최저기온: 8\n",
            "최고기온: 20\n",
            "\n",
            "도시: 나주\n",
            "날씨: 구름많음\n",
            "최저기온: 4\n",
            "최고기온: 20\n",
            "\n",
            "도시: 전주\n",
            "날씨: 구름많음\n",
            "최저기온: 6\n",
            "최고기온: 18\n",
            "\n",
            "도시: 군산\n",
            "날씨: 구름많음\n",
            "최저기온: 5\n",
            "최고기온: 15\n",
            "\n",
            "도시: 정읍\n",
            "날씨: 구름많음\n",
            "최저기온: 5\n",
            "최고기온: 18\n",
            "\n",
            "도시: 남원\n",
            "날씨: 구름많음\n",
            "최저기온: 6\n",
            "최고기온: 21\n",
            "\n",
            "도시: 고창\n",
            "날씨: 구름많음\n",
            "최저기온: 4\n",
            "최고기온: 18\n",
            "\n",
            "도시: 무주\n",
            "날씨: 구름많음\n",
            "최저기온: 3\n",
            "최고기온: 19\n",
            "\n",
            "도시: 부산\n",
            "날씨: 맑음\n",
            "최저기온: 10\n",
            "최고기온: 17\n",
            "\n",
            "도시: 울산\n",
            "날씨: 맑음\n",
            "최저기온: 7\n",
            "최고기온: 17\n",
            "\n",
            "도시: 창원\n",
            "날씨: 맑음\n",
            "최저기온: 8\n",
            "최고기온: 18\n",
            "\n",
            "도시: 진주\n",
            "날씨: 맑음\n",
            "최저기온: 5\n",
            "최고기온: 20\n",
            "\n",
            "도시: 거창\n",
            "날씨: 맑음\n",
            "최저기온: 3\n",
            "최고기온: 21\n",
            "\n",
            "도시: 통영\n",
            "날씨: 맑음\n",
            "최저기온: 7\n",
            "최고기온: 16\n",
            "\n",
            "도시: 대구\n",
            "날씨: 구름많음\n",
            "최저기온: 8\n",
            "최고기온: 20\n",
            "\n",
            "도시: 안동\n",
            "날씨: 구름많음\n",
            "최저기온: 6\n",
            "최고기온: 17\n",
            "\n",
            "도시: 포항\n",
            "날씨: 구름많음\n",
            "최저기온: 8\n",
            "최고기온: 15\n",
            "\n",
            "도시: 경주\n",
            "날씨: 구름많음\n",
            "최저기온: 6\n",
            "최고기온: 19\n",
            "\n",
            "도시: 울진\n",
            "날씨: 구름많음\n",
            "최저기온: 6\n",
            "최고기온: 13\n",
            "\n",
            "도시: 울릉도\n",
            "날씨: 구름많음\n",
            "최저기온: 6\n",
            "최고기온: 11\n",
            "\n",
            "도시: 제주\n",
            "날씨: 구름많음\n",
            "최저기온: 9\n",
            "최고기온: 17\n",
            "\n",
            "도시: 서귀포\n",
            "날씨: 구름많음\n",
            "최저기온: 12\n",
            "최고기온: 18\n",
            "\n"
          ]
        }
      ],
      "source": [
        "from urllib import request\n",
        "from bs4 import BeautifulSoup\n",
        "\n",
        "# urlopen(): 기상청의 전국 날씨 읽기\n",
        "\n",
        "target = request.urlopen(\"http://www.kma.go.kr/weather/forecast/mid-term-rss3.jsp?stnId=108\")\n",
        "\n",
        "# BeautifulSoup을 사용해 웹 페이지를 분석\n",
        "soup = BeautifulSoup(target, \"html.parser\")\n",
        "\n",
        "# location 태그를 찾습니다\n",
        "for location in soup.select(\"location\"):\n",
        "    # 내부의 city, wf, tmn, tmx 태그를 찾아 출력합니다.\n",
        "    print(\"도시:\", location.select_one(\"city\").string)\n",
        "    print(\"날씨:\", location.select_one(\"wf\").string)\n",
        "    print(\"최저기온:\", location.select_one(\"tmn\").string)\n",
        "    print(\"최고기온:\", location.select_one(\"tmx\").string)\n",
        "    print()"
      ]
    },
    {
      "cell_type": "markdown",
      "source": [
        "# Flask 모듈"
      ],
      "metadata": {
        "id": "6fvELSuvvBiG"
      }
    },
    {
      "cell_type": "code",
      "source": [
        "from flask import Flask\n",
        "app = Flask(__name__)\n",
        "\n",
        "@app.route(\"/\") # 데코레이터\n",
        "def hello():\n",
        "    return \"<h1>Hello World!</h1>\""
      ],
      "metadata": {
        "id": "1Wraz0-SuSrl"
      },
      "execution_count": 2,
      "outputs": []
    },
    {
      "cell_type": "markdown",
      "source": [
        "- set FLASK_APP=파일 이름.py <br/>\n",
        "flask run\n",
        "<br/> 경로에 들어갈 때 실행할 함수를 지정하는 형태로 사용"
      ],
      "metadata": {
        "id": "uVsE6dMZvxA-"
      }
    },
    {
      "cell_type": "code",
      "source": [
        "!pip install flask_ngrok"
      ],
      "metadata": {
        "colab": {
          "base_uri": "https://localhost:8080/"
        },
        "id": "IJbdYkAu1fNn",
        "outputId": "1327f624-580e-409d-866c-eb287e82d6de"
      },
      "execution_count": 7,
      "outputs": [
        {
          "output_type": "stream",
          "name": "stdout",
          "text": [
            "Collecting flask_ngrok\n",
            "  Downloading flask_ngrok-0.0.25-py3-none-any.whl (3.1 kB)\n",
            "Requirement already satisfied: requests in /usr/local/lib/python3.7/dist-packages (from flask_ngrok) (2.23.0)\n",
            "Requirement already satisfied: Flask>=0.8 in /usr/local/lib/python3.7/dist-packages (from flask_ngrok) (1.1.4)\n",
            "Requirement already satisfied: click<8.0,>=5.1 in /usr/local/lib/python3.7/dist-packages (from Flask>=0.8->flask_ngrok) (7.1.2)\n",
            "Requirement already satisfied: itsdangerous<2.0,>=0.24 in /usr/local/lib/python3.7/dist-packages (from Flask>=0.8->flask_ngrok) (1.1.0)\n",
            "Requirement already satisfied: Jinja2<3.0,>=2.10.1 in /usr/local/lib/python3.7/dist-packages (from Flask>=0.8->flask_ngrok) (2.11.3)\n",
            "Requirement already satisfied: Werkzeug<2.0,>=0.15 in /usr/local/lib/python3.7/dist-packages (from Flask>=0.8->flask_ngrok) (1.0.1)\n",
            "Requirement already satisfied: MarkupSafe>=0.23 in /usr/local/lib/python3.7/dist-packages (from Jinja2<3.0,>=2.10.1->Flask>=0.8->flask_ngrok) (2.0.1)\n",
            "Requirement already satisfied: chardet<4,>=3.0.2 in /usr/local/lib/python3.7/dist-packages (from requests->flask_ngrok) (3.0.4)\n",
            "Requirement already satisfied: certifi>=2017.4.17 in /usr/local/lib/python3.7/dist-packages (from requests->flask_ngrok) (2021.10.8)\n",
            "Requirement already satisfied: urllib3!=1.25.0,!=1.25.1,<1.26,>=1.21.1 in /usr/local/lib/python3.7/dist-packages (from requests->flask_ngrok) (1.24.3)\n",
            "Requirement already satisfied: idna<3,>=2.5 in /usr/local/lib/python3.7/dist-packages (from requests->flask_ngrok) (2.10)\n",
            "Installing collected packages: flask-ngrok\n",
            "Successfully installed flask-ngrok-0.0.25\n"
          ]
        }
      ]
    },
    {
      "cell_type": "code",
      "source": [
        "from flask import Flask\n",
        "from flask_ngrok import run_with_ngrok\n",
        "from urllib import request\n",
        "from bs4 import BeautifulSoup\n",
        "\n",
        "# 웹 서버 생성\n",
        "app = Flask(__name__)\n",
        "run_with_ngrok(app)\n",
        "@app.route(\"/\")\n",
        "\n",
        "def hello():\n",
        "    #urlopen() 함수로 기상청의 전국 날씨를 읽습니다.\n",
        "    target = request.urlopen(\"http://www.kma.go.kr/weather/forecast/mid-term-rss3.jsp?stnId=108\")\n",
        "\n",
        "    #BeautifulSoup를 사용해 웹 페이지를 분석\n",
        "    soup = BeautifulSoup(target, \"html.parser\")\n",
        "\n",
        "    #location 태그를 찾습니다.\n",
        "    output = \"\"\n",
        "    for location in soup.select(\"location\"):\n",
        "        output += \"<h3>{}</h3>\".format(location.select_one(\"city\").string)\n",
        "        output += \"날씨:{}<br/>\".format(location.select_one(\"wf\").string)\n",
        "        output += \"최저/최고 기온: {}/{}\"\\\n",
        "                    .format(\\\n",
        "                            location.select_one(\"tmn\").string,\\\n",
        "                            location.select_one(\"tmx\").string\\\n",
        "                            )\n",
        "        output += \"<hr/>\"\n",
        "    return output\n",
        "\n",
        "if __name__ == '__main__':\n",
        "      app.run()"
      ],
      "metadata": {
        "colab": {
          "base_uri": "https://localhost:8080/"
        },
        "id": "jMmFHyIUvscm",
        "outputId": "d2714387-9a17-4091-d7a5-98330a829e31"
      },
      "execution_count": 11,
      "outputs": [
        {
          "output_type": "stream",
          "name": "stdout",
          "text": [
            " * Serving Flask app \"__main__\" (lazy loading)\n",
            " * Environment: production\n",
            "\u001b[31m   WARNING: This is a development server. Do not use it in a production deployment.\u001b[0m\n",
            "\u001b[2m   Use a production WSGI server instead.\u001b[0m\n",
            " * Debug mode: off\n"
          ]
        },
        {
          "output_type": "stream",
          "name": "stderr",
          "text": [
            " * Running on http://127.0.0.1:5000/ (Press CTRL+C to quit)\n"
          ]
        },
        {
          "output_type": "stream",
          "name": "stdout",
          "text": [
            " * Running on http://f59f-35-185-23-70.ngrok.io\n",
            " * Traffic stats available on http://127.0.0.1:4040\n"
          ]
        }
      ]
    },
    {
      "cell_type": "markdown",
      "source": [
        "|구분|설명|\n",
        "|---|---|\n",
        "|라이브러리(library)|정상적인 제어를 하는 모듈|\n",
        "|프레임워크(framework)|제어 역전이 발생하는 모듈|"
      ],
      "metadata": {
        "id": "Po3ut3Z420d8"
      }
    },
    {
      "cell_type": "markdown",
      "source": [
        "## 라이브러리"
      ],
      "metadata": {
        "id": "sq8oVIGN3nHK"
      }
    },
    {
      "cell_type": "code",
      "source": [
        "from math import sin, cos, tan, floor, ceil\n",
        "\n",
        "#sin, cos, tan를 구합니다\n",
        "print(\"sin(1):\", sin(1))\n",
        "print(\"cos(1):\", cos(1))\n",
        "print(\"tan(1):\", tan(1))\n",
        "\n",
        "# 내림과 올림\n",
        "print(\"floor(2.5):\", floor(2.5))\n",
        "print(\"ceil(2.5):\", ceil(2.5))"
      ],
      "metadata": {
        "colab": {
          "base_uri": "https://localhost:8080/"
        },
        "id": "Fie4WCcTwGg3",
        "outputId": "d5120293-f4c6-4885-b3fc-5a970bc89ba3"
      },
      "execution_count": 12,
      "outputs": [
        {
          "output_type": "stream",
          "name": "stdout",
          "text": [
            "sin(1): 0.8414709848078965\n",
            "cos(1): 0.5403023058681398\n",
            "tan(1): 1.5574077246549023\n",
            "floor(2.5): 2\n",
            "ceil(2.5): 3\n"
          ]
        }
      ]
    },
    {
      "cell_type": "markdown",
      "source": [
        "## 프레임워크"
      ],
      "metadata": {
        "id": "4B9mYhRc4gFg"
      }
    },
    {
      "cell_type": "code",
      "source": [
        "from flask import Flask\n",
        "app = Flask(__name__)\n",
        "\n",
        "@app.route(\"/\")\n",
        "def hello():\n",
        "    return \"<h1>Hello World!</h1>\""
      ],
      "metadata": {
        "id": "-_w-mG3F4fNx"
      },
      "execution_count": null,
      "outputs": []
    },
    {
      "cell_type": "markdown",
      "source": [
        "    > set FLASK_APP=flask_basic.py\n",
        "    > flask run\n",
        "    > *Serving Flask app \"flask_basic.py\"\n",
        "    > *Running on http://127.0.0.1:5000/(Press CTRL+C to quit)\n",
        "\n",
        "- Flask 모듈이 제공하는 명령어를 실행하면 Flask가 내부적으로 서버를 실행한 뒤 지정한 파일을 읽어 들여 적절한 상황에 스스로 실행하게 됩니다. 이처럼 모듈이 개발자가 작성한 코드를 실행하는 형태의 모듈을 프레임워크라고 한다. \n",
        "- 일반적으로 개발자가 모듈의 함수를 호출하는 것이 일반적인 제어흐름. 이와 반대로 개발자가 만든 함수를 모듈이 실행하는 것은 제어가 역전된 것. 이것이 바로 제어 역전이다."
      ],
      "metadata": {
        "id": "Gc82XRhK41NA"
      }
    },
    {
      "cell_type": "markdown",
      "source": [
        "## 함수 데코레이터"
      ],
      "metadata": {
        "id": "b8cJkkyb_SDw"
      }
    },
    {
      "cell_type": "code",
      "source": [
        "def hello():\n",
        "    print(\"hello\")"
      ],
      "metadata": {
        "id": "OxTX7ugF-JtG"
      },
      "execution_count": 13,
      "outputs": []
    },
    {
      "cell_type": "code",
      "source": [
        "# 함수 데코레이터를 생성합니다\n",
        "def test(function):\n",
        "    def wrapper():\n",
        "        print(\"인사가 시작되었습니다\")\n",
        "        function()\n",
        "        print(\"인사가 종료되었습니다\")\n",
        "    return wrapper\n",
        "\n",
        "#데코레이터를 붙여 함수를 만듭니다.\n",
        "@test\n",
        "def hello():\n",
        "    print(\"hello\")\n",
        "\n",
        "#함수를 호출합니다.\n",
        "hello()"
      ],
      "metadata": {
        "colab": {
          "base_uri": "https://localhost:8080/"
        },
        "id": "kvIGhZ0q_-tx",
        "outputId": "49f92e5e-c287-4be3-f792-35210899cde3"
      },
      "execution_count": 14,
      "outputs": [
        {
          "output_type": "stream",
          "name": "stdout",
          "text": [
            "인사가 시작되었습니다\n",
            "hello\n",
            "인사가 종료되었습니다\n"
          ]
        }
      ]
    },
    {
      "cell_type": "markdown",
      "source": [
        "- test() 함수에서 wrapper() 함수를 리턴하므로, 최종적으로 hello에 함수가 들어가 hello() 형태로 호출이 가능"
      ],
      "metadata": {
        "id": "2q7gTxTVBwHw"
      }
    },
    {
      "cell_type": "code",
      "source": [
        "from functools import wraps\n",
        "\n",
        "def test(function):\n",
        "    @wraps(function)\n",
        "    def wrapper(*arg, **kwags):\n",
        "        print(\"인사가 시작되었습니다\")\n",
        "        function(*arg, **kwags)\n",
        "        print(\"인사가 종료되었습니다\")\n",
        "    return wrapper"
      ],
      "metadata": {
        "id": "RvNtwgBkBoGI"
      },
      "execution_count": 20,
      "outputs": []
    },
    {
      "cell_type": "code",
      "source": [
        ""
      ],
      "metadata": {
        "id": "LgtPJSWEHKsl"
      },
      "execution_count": null,
      "outputs": []
    },
    {
      "cell_type": "markdown",
      "source": [
        "- 웹 서버 개발: Django, Flask\n",
        "- 인공지능 개발: scikit-learn, tensorflow, keras\n",
        "- 데이터 분석: pandas, matplotlib\n",
        "- 크롤러 개발: BeautifulSoup, requests, scrapy"
      ],
      "metadata": {
        "id": "491Rqpn5GsG9"
      }
    }
  ]
}