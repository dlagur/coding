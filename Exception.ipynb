{
  "nbformat": 4,
  "nbformat_minor": 0,
  "metadata": {
    "colab": {
      "name": "Exception.ipynb",
      "provenance": [],
      "collapsed_sections": [],
      "authorship_tag": "ABX9TyOacywTU1s22hhcdp8ZHzHU",
      "include_colab_link": true
    },
    "kernelspec": {
      "name": "python3",
      "display_name": "Python 3"
    },
    "language_info": {
      "name": "python"
    }
  },
  "cells": [
    {
      "cell_type": "markdown",
      "metadata": {
        "id": "view-in-github",
        "colab_type": "text"
      },
      "source": [
        "<a href=\"https://colab.research.google.com/github/dlagur/coding/blob/main/Exception.ipynb\" target=\"_parent\"><img src=\"https://colab.research.google.com/assets/colab-badge.svg\" alt=\"Open In Colab\"/></a>"
      ]
    },
    {
      "cell_type": "markdown",
      "source": [
        "## 제너레이터\n",
        "* 이터레이터를 직접 만들때 사용하는 코드\n",
        "* yield 키워드를 사용하면 해당 함수는 제너레이터 함수가 된다.<br/>\n",
        "일반 함수와 달리 함수를 호출해도 함수 내부의 코드가 실행되지 않는다."
      ],
      "metadata": {
        "id": "q_u3QT8Bgj6a"
      }
    },
    {
      "cell_type": "code",
      "execution_count": null,
      "metadata": {
        "colab": {
          "base_uri": "https://localhost:8080/"
        },
        "id": "aQzXhw4_gfjY",
        "outputId": "2bdbe557-9c64-46be-cf27-69ec97cdb3ec"
      },
      "outputs": [
        {
          "output_type": "stream",
          "name": "stdout",
          "text": [
            "A 지점 통과\n",
            "B 지점 통과\n",
            "<generator object test at 0x7f1c0f0a8950>\n"
          ]
        }
      ],
      "source": [
        "def test():\n",
        "    print(\"함수가 호출되었습니다\")\n",
        "    yield \"test\"\n",
        "\n",
        "# 함수 호출\n",
        "print(\"A 지점 통과\")\n",
        "test()\n",
        "\n",
        "print(\"B 지점 통과\")\n",
        "test()\n",
        "print(test())"
      ]
    },
    {
      "cell_type": "markdown",
      "source": [
        "* next() 함수를 사용해 함수 내부의 코드를 실행, <br/>\n",
        "이때 yield 키워드 부분까지만 실행하며, next() 함수의 리턴값으로 yield 키워드 뒤에 입력한 값이 출력"
      ],
      "metadata": {
        "id": "0L74pF0YibHx"
      }
    },
    {
      "cell_type": "code",
      "source": [
        "def test():\n",
        "    print(\"A 지점 통과\")\n",
        "    yield 1\n",
        "    print(\"B 지점 통과\")\n",
        "    yield 2\n",
        "    print(\"C 지점 통과\")\n",
        "\n",
        "output = test()\n",
        "\n",
        "print(\"D 지점 통과\")\n",
        "a = next(output)\n",
        "print(a)\n",
        "print(\"E 지점 통과\")\n",
        "b = next(output)\n",
        "print(b)\n",
        "print(\"F 지점 통과\")\n",
        "c = next(output)\n",
        "print(c)\n",
        "\n",
        "next(output)"
      ],
      "metadata": {
        "colab": {
          "base_uri": "https://localhost:8080/",
          "height": 386
        },
        "id": "lsm0ajhgg-u-",
        "outputId": "c7d89c0b-7f81-4655-d5ae-fc2b1aaa4449"
      },
      "execution_count": null,
      "outputs": [
        {
          "output_type": "stream",
          "name": "stdout",
          "text": [
            "D 지점 통과\n",
            "A 지점 통과\n",
            "1\n",
            "E 지점 통과\n",
            "B 지점 통과\n",
            "2\n",
            "F 지점 통과\n",
            "C 지점 통과\n"
          ]
        },
        {
          "output_type": "error",
          "ename": "StopIteration",
          "evalue": "ignored",
          "traceback": [
            "\u001b[0;31m---------------------------------------------------------------------------\u001b[0m",
            "\u001b[0;31mStopIteration\u001b[0m                             Traceback (most recent call last)",
            "\u001b[0;32m<ipython-input-3-87bcec861657>\u001b[0m in \u001b[0;36m<module>\u001b[0;34m()\u001b[0m\n\u001b[1;32m     15\u001b[0m \u001b[0mprint\u001b[0m\u001b[0;34m(\u001b[0m\u001b[0mb\u001b[0m\u001b[0;34m)\u001b[0m\u001b[0;34m\u001b[0m\u001b[0;34m\u001b[0m\u001b[0m\n\u001b[1;32m     16\u001b[0m \u001b[0mprint\u001b[0m\u001b[0;34m(\u001b[0m\u001b[0;34m\"F 지점 통과\"\u001b[0m\u001b[0;34m)\u001b[0m\u001b[0;34m\u001b[0m\u001b[0;34m\u001b[0m\u001b[0m\n\u001b[0;32m---> 17\u001b[0;31m \u001b[0mc\u001b[0m \u001b[0;34m=\u001b[0m \u001b[0mnext\u001b[0m\u001b[0;34m(\u001b[0m\u001b[0moutput\u001b[0m\u001b[0;34m)\u001b[0m\u001b[0;34m\u001b[0m\u001b[0;34m\u001b[0m\u001b[0m\n\u001b[0m\u001b[1;32m     18\u001b[0m \u001b[0mprint\u001b[0m\u001b[0;34m(\u001b[0m\u001b[0mc\u001b[0m\u001b[0;34m)\u001b[0m\u001b[0;34m\u001b[0m\u001b[0;34m\u001b[0m\u001b[0m\n\u001b[1;32m     19\u001b[0m \u001b[0;34m\u001b[0m\u001b[0m\n",
            "\u001b[0;31mStopIteration\u001b[0m: "
          ]
        }
      ]
    },
    {
      "cell_type": "markdown",
      "source": [
        "* next() 함수를 호출한 이후 yield 키워드를 만나지 못하고 함수가 끝나면 StopIteration 이라는 예외 발생"
      ],
      "metadata": {
        "id": "5PzE-O0pjs7j"
      }
    },
    {
      "cell_type": "code",
      "source": [
        "numbers = [1,2,3,4,5,6]\n",
        "\n",
        "print(\"::\".join(map(str, numbers)))"
      ],
      "metadata": {
        "colab": {
          "base_uri": "https://localhost:8080/"
        },
        "id": "5XGY8-hojHmT",
        "outputId": "5f84c607-762e-4868-f8c5-f4eb3a162ef7"
      },
      "execution_count": null,
      "outputs": [
        {
          "output_type": "stream",
          "name": "stdout",
          "text": [
            "1::2::3::4::5::6\n"
          ]
        }
      ]
    },
    {
      "cell_type": "code",
      "source": [
        "numbers = list(range(1, 10 +1))\n",
        "\n",
        "print(\"# 홀수만 추출하기\")\n",
        "print(list(filter(lambda x: x%2 != 0, numbers)))\n",
        "print()\n",
        "\n",
        "print(\"# 3 이상, 7 미만 추출하기\")\n",
        "print(list(filter(lambda x: 3 <= x < 7, numbers)))\n",
        "\n",
        "print(\"# 제곱해서 50미만 추출하기\")\n",
        "print(list(filter(lambda x: x*x < 50, numbers)))\n"
      ],
      "metadata": {
        "colab": {
          "base_uri": "https://localhost:8080/"
        },
        "id": "kwNEVWFjpayB",
        "outputId": "ac1a66a6-ffcf-4941-bd0b-f890e34deb31"
      },
      "execution_count": null,
      "outputs": [
        {
          "output_type": "stream",
          "name": "stdout",
          "text": [
            "# 홀수만 추출하기\n",
            "[1, 3, 5, 7, 9]\n",
            "\n",
            "# 3 이상, 7 미만 추출하기\n",
            "[3, 4, 5, 6]\n",
            "# 제곱해서 50미만 추출하기\n",
            "[1, 2, 3, 4, 5, 6, 7]\n"
          ]
        }
      ]
    },
    {
      "cell_type": "code",
      "source": [
        "user_input_a = input(\"정수 입력> \")\n",
        "PI = 3.14\n",
        "if user_input_a.isdigit():\n",
        "    number_input_a = int(user_input_a)\n",
        "    print(\"원의 반지름:\", number_input_a)\n",
        "    print(\"원의 둘레:\", 2 * PI * number_input_a)\n",
        "    print(\"원의 넓이:\", PI * number_input_a * number_input_a)\n",
        "\n",
        "else:\n",
        "    print(\"정수를 입력하지 않았습니다\")"
      ],
      "metadata": {
        "colab": {
          "base_uri": "https://localhost:8080/"
        },
        "id": "dUSYFhrkqL5Y",
        "outputId": "66ffdaca-0560-4c42-843a-a42dc875cf3e"
      },
      "execution_count": null,
      "outputs": [
        {
          "output_type": "stream",
          "name": "stdout",
          "text": [
            "정수 입력> 0\n",
            "원의 반지름: 0\n",
            "원의 둘레: 0.0\n",
            "원의 넓이: 0.0\n"
          ]
        }
      ]
    },
    {
      "cell_type": "markdown",
      "source": [
        "* try: <br/> 예외가 발생할 가능성이 있는 코드<br/> except: <br/> 예외가 발생했을 때 실행할 코드"
      ],
      "metadata": {
        "id": "UaBuTGXaIo7N"
      }
    },
    {
      "cell_type": "code",
      "source": [
        "try:\n",
        "    number_input_a = int(input(\"정수입력> \"))\n",
        "\n",
        "    print(\"원의 반지름:\", number_input_a)\n",
        "    print(\"원의 둘레:\", 2 * PI * number_input_a)\n",
        "    print(\"원의 넓이:\", PI * number_input_a * number_input_a)\n",
        "\n",
        "except:\n",
        "    print(\"무언가 잘못되었습니다.\")\n"
      ],
      "metadata": {
        "colab": {
          "base_uri": "https://localhost:8080/"
        },
        "id": "zz65PKLaIYvS",
        "outputId": "a577c2f7-48e5-40c0-e05c-e663ad40dcdf"
      },
      "execution_count": null,
      "outputs": [
        {
          "output_type": "stream",
          "name": "stdout",
          "text": [
            "정수입력> 6\n",
            "원의 반지름: 6\n",
            "원의 둘레: 37.68\n",
            "원의 넓이: 113.03999999999999\n"
          ]
        }
      ]
    },
    {
      "cell_type": "code",
      "source": [
        "list_input_a = [\"52\", \"273\", \"32\", \"스파이\", \"103\"]\n",
        "\n",
        "list_number = []\n",
        "for item in list_input_a:\n",
        "    try:\n",
        "        float(item) # 숫자로 변환할 수 없는 문자열이라면 float(item)을 실행할 때 예외 발생\n",
        "        list_number.append(item)\n",
        "    except:\n",
        "        pass\n",
        "\n",
        "print(\"{} 내부에 있는 숫자는\".format(list_input_a))\n",
        "print(\"{}입니다.\".format(list_number))"
      ],
      "metadata": {
        "colab": {
          "base_uri": "https://localhost:8080/"
        },
        "id": "99bXY69tJXJ0",
        "outputId": "9d98b5e9-72f0-4057-8bb7-a83d2468c8c5"
      },
      "execution_count": null,
      "outputs": [
        {
          "output_type": "stream",
          "name": "stdout",
          "text": [
            "['52', '273', '32', '스파이', '103'] 내부에 있는 숫자는\n",
            "['52', '273', '32', '103']입니다.\n"
          ]
        }
      ]
    },
    {
      "cell_type": "code",
      "source": [
        "try:\n",
        "    number_input_a = int(input(\"정수 입력> \"))\n",
        "except:\n",
        "    print(\"정수를 입력하지 않았습니다\")\n",
        "else:\n",
        "    print(\"원의 반지름:\", number_input_a)\n",
        "    print(\"원의 둘레:\", 2 * PI * number_input_a)\n",
        "    print(\"원의 넓이:\", PI * number_input_a * number_input_a)"
      ],
      "metadata": {
        "colab": {
          "base_uri": "https://localhost:8080/"
        },
        "id": "3l2Bp90TKIL4",
        "outputId": "1c15e366-7043-4f65-9c91-2e56e6b64002"
      },
      "execution_count": null,
      "outputs": [
        {
          "output_type": "stream",
          "name": "stdout",
          "text": [
            "정수 입력> 3\n",
            "원의 반지름: 3\n",
            "원의 둘레: 18.84\n",
            "원의 넓이: 28.259999999999998\n"
          ]
        }
      ]
    },
    {
      "cell_type": "markdown",
      "source": [
        "* try: <br/>\n",
        "예외가 발생할 가능성이 있는 코드\n",
        "* except: <br/>\n",
        "예외가 발생했을 때 실행할 코드\n",
        "* else: <br/>\n",
        "예외가 발생하지 않았을 때 실행할 코드\n",
        "* finally: <br/>\n",
        "무조건 실행할 코드"
      ],
      "metadata": {
        "id": "Cg5Nr_hkd_yf"
      }
    },
    {
      "cell_type": "code",
      "source": [
        "PI = 3.14\n",
        "try:\n",
        "    number_input_a = int(input(\"정수 입력> \"))\n",
        "    print(\"원의 반지름:\", number_input_a)\n",
        "    print(\"원의 둘레:\", 2 * PI * number_input_a)\n",
        "    print(\"원의 넓이:\", PI * number_input_a * number_input_a)\n",
        "\n",
        "except:\n",
        "    print(\"정수를 입력해달라고 했잖아요!\")\n",
        "\n",
        "else:\n",
        "    print(\"예외가 발생하지 않았습니다\")\n",
        "\n",
        "finally:\n",
        "    print(\"일단 프로그램이 어떻게든 끝났습니다\")"
      ],
      "metadata": {
        "id": "_3LEpo7gLLHe",
        "colab": {
          "base_uri": "https://localhost:8080/"
        },
        "outputId": "f025341e-650e-4a31-bb07-3a1a5c551d67"
      },
      "execution_count": null,
      "outputs": [
        {
          "output_type": "stream",
          "name": "stdout",
          "text": [
            "정수 입력> ㅎ\n",
            "정수를 입력해달라고 했잖아요!\n",
            "일단 프로그램이 어떻게든 끝났습니다\n"
          ]
        }
      ]
    },
    {
      "cell_type": "code",
      "source": [
        "try:\n",
        "    file = open(\"info.txt\", \"w\")\n",
        "    # 여러 가지 처리를 수행합니다\n",
        "    # 파일을 닫습니다\n",
        "    file.close()\n",
        "\n",
        "except Exception as e:\n",
        "    print(e)\n",
        "\n",
        "print(\"# 파일이 제대로 닫혔는지 확인하기\")\n",
        "print(\"file.closed:\", file.closed)"
      ],
      "metadata": {
        "colab": {
          "base_uri": "https://localhost:8080/"
        },
        "id": "B4h17tB_fZpU",
        "outputId": "49988378-4e17-4ac7-91f4-12c6322a71b8"
      },
      "execution_count": null,
      "outputs": [
        {
          "output_type": "stream",
          "name": "stdout",
          "text": [
            "# 파일이 제대로 닫혔는지 확인하기\n",
            "file.closed: True\n"
          ]
        }
      ]
    },
    {
      "cell_type": "code",
      "source": [
        "try:\n",
        "    file = open(\"info.txt\", \"w\")\n",
        "    예외.발생해라()\n",
        "    file.close()\n",
        "except Exception as e: # 예외가 발생하면 실행하라\n",
        "    print(e)\n",
        "\n",
        "print(\"# 파일이 제대로 닫혔는지 확인하기\")\n",
        "print(\"file.closed:\", file.closed)"
      ],
      "metadata": {
        "colab": {
          "base_uri": "https://localhost:8080/"
        },
        "id": "VSWY2ffSt0L5",
        "outputId": "1b22b0f6-8bdd-4c0f-e4f9-09af504f13c2"
      },
      "execution_count": null,
      "outputs": [
        {
          "output_type": "stream",
          "name": "stdout",
          "text": [
            "name '예외' is not defined\n",
            "# 파일이 제대로 닫혔는지 확인하기\n",
            "file.closed: False\n"
          ]
        }
      ]
    },
    {
      "cell_type": "code",
      "source": [
        "try:\n",
        "    file = open(\"info.txt\", \"w\")\n",
        "    예외.발생해라()\n",
        "\n",
        "except Exception as e:\n",
        "    print(e)\n",
        "finally:\n",
        "    file.close()\n",
        "\n",
        "print(\"# 파일이 제대로 닫혔는지 확인하기\")\n",
        "print(\"file.closed:\", file.closed)"
      ],
      "metadata": {
        "colab": {
          "base_uri": "https://localhost:8080/"
        },
        "id": "4U97o9eowxK2",
        "outputId": "6a903995-8f2d-4ddf-d3b7-e2b90790c945"
      },
      "execution_count": null,
      "outputs": [
        {
          "output_type": "stream",
          "name": "stdout",
          "text": [
            "name '예외' is not defined\n",
            "# 파일이 제대로 닫혔는지 확인하기\n",
            "file.closed: True\n"
          ]
        }
      ]
    },
    {
      "cell_type": "code",
      "source": [
        "try:\n",
        "    file = open(\"info.txt\", \"w\")\n",
        "    예외.발생해라()\n",
        "except Exception as e:\n",
        "    print(e)\n",
        "\n",
        "file.close()\n",
        "print(\"# 파일이 제대로 닫혔는지 확인하기\")\n",
        "print(\"file.closed:\", file.closed)"
      ],
      "metadata": {
        "colab": {
          "base_uri": "https://localhost:8080/"
        },
        "id": "fAKW94XqzUkU",
        "outputId": "1d37e86a-c6ae-429d-d689-03829e5619b0"
      },
      "execution_count": null,
      "outputs": [
        {
          "output_type": "stream",
          "name": "stdout",
          "text": [
            "name '예외' is not defined\n",
            "# 파일이 제대로 닫혔는지 확인하기\n",
            "file.closed: True\n"
          ]
        }
      ]
    },
    {
      "cell_type": "code",
      "source": [
        "def test():\n",
        "    print(\"test() 함수의 첫 줄입니다\")\n",
        "    try:\n",
        "        print(\"try 구문이 실행되었습니다\")\n",
        "        return\n",
        "        print(\"try 구문의 return 키워드 뒤입니다\")\n",
        "    except:\n",
        "        print(\"except 구문이 실행되었습니다\")\n",
        "    else:\n",
        "        print(\"else 구문이 실행되었습니다\")\n",
        "    finally:\n",
        "        print(\"finally 구문이 실행되었습니다\")\n",
        "    print(\"test() 함수의 마지막 줄입니다\")\n",
        "\n",
        "test()"
      ],
      "metadata": {
        "colab": {
          "base_uri": "https://localhost:8080/"
        },
        "id": "mv893KGJzxxC",
        "outputId": "9bd7e405-9891-4101-8aef-06f7b58c36c4"
      },
      "execution_count": null,
      "outputs": [
        {
          "output_type": "stream",
          "name": "stdout",
          "text": [
            "test() 함수의 첫 줄입니다\n",
            "try 구문이 실행되었습니다\n",
            "finally 구문이 실행되었습니다\n"
          ]
        }
      ]
    },
    {
      "cell_type": "code",
      "source": [
        "def write_text_file(filename, text):\n",
        "    try:\n",
        "        file = open(filename, \"w\")\n",
        "        return # 함수를 빠져나가려는 시도\n",
        "        file.write(text)\n",
        "    except Exception as e:\n",
        "        print(e)\n",
        "    finally:\n",
        "        file.close()\n",
        "\n",
        "write_text_file(\"test.txt\", \"안녕하세요!\")"
      ],
      "metadata": {
        "id": "ipyFTK3k0n2R"
      },
      "execution_count": null,
      "outputs": []
    },
    {
      "cell_type": "code",
      "source": [
        "print(\"프로그램이 시작되었습니다\")\n",
        "\n",
        "while True:\n",
        "    try:\n",
        "        print(\"try 구문이 실행되었습니다\")\n",
        "        break\n",
        "        print(\"try 구문의 break 키워드 뒤입니다\")\n",
        "    except:\n",
        "        print(\"except 구문이 실행되었습니다\")\n",
        "    finally:\n",
        "        print(\"finally 구문이 실행되었습니다\")\n",
        "    \n",
        "    print(\"while 반복문의 마지막 줄입니다\")\n",
        "\n",
        "print(\"프로그램이 종료되었습니다\")\n"
      ],
      "metadata": {
        "colab": {
          "base_uri": "https://localhost:8080/"
        },
        "id": "ifUeLLhz1izm",
        "outputId": "866a5140-538f-415d-c14d-2a2a2b3793ce"
      },
      "execution_count": null,
      "outputs": [
        {
          "output_type": "stream",
          "name": "stdout",
          "text": [
            "프로그램이 시작되었습니다\n",
            "try 구문이 실행되었습니다\n",
            "finally 구문이 실행되었습니다\n",
            "프로그램이 종료되었습니다\n"
          ]
        }
      ]
    },
    {
      "cell_type": "code",
      "source": [
        "numbers = [52, 273, 32, 103, 90, 10, 275]\n",
        "\n",
        "print(\"# (1) 요소 내부에 있는 값 찾기\")\n",
        "print(\"- {}는 {} 위치에 있습니다.\".format(52, numbers.index(52)))\n",
        "print()\n",
        "\n",
        "print(\"# (2) 요소 내부에 있는 값 찾기\")\n",
        "number = 10000\n",
        "if number in numbers:\n",
        "    print(\"- {}는 {} 위치에 있습니다.\".format(52, numbers.index(52)))\n",
        "else:\n",
        "    print(\"-리스트 내부에 없는 값입니다.\")\n",
        "    print()\n",
        "\n",
        "print(\"--- 정상적으로 종료되었습니다. ---\")"
      ],
      "metadata": {
        "colab": {
          "base_uri": "https://localhost:8080/"
        },
        "id": "MJnyrTc67Htp",
        "outputId": "f491478d-3973-4930-9d5e-e7000557777f"
      },
      "execution_count": null,
      "outputs": [
        {
          "output_type": "stream",
          "name": "stdout",
          "text": [
            "# (1) 요소 내부에 있는 값 찾기\n",
            "- 52는 0 위치에 있습니다.\n",
            "\n",
            "# (2) 요소 내부에 있는 값 찾기\n",
            "-리스트 내부에 없는 값입니다.\n",
            "\n",
            "--- 정상적으로 종료되었습니다. ---\n"
          ]
        }
      ]
    },
    {
      "cell_type": "code",
      "source": [
        "numbers = [52, 273, 32, 103, 90, 10, 275]\n",
        "\n",
        "print(\"# (1) 요소 내부에 있는 값 찾기\")\n",
        "print(\"- {}는 {} 위치에 있습니다.\".format(52, numbers.index(52)))\n",
        "print()\n",
        "\n",
        "print(\"# (2) 요소 내부에 있는 값 찾기\")\n",
        "number = 10000\n",
        "try:\n",
        "    print(\"-{}는 {} 위치에 있습니다.\".format(number, numbers.index(number)))\n",
        "except:\n",
        "    print(\"- 리스트 내부에 없는 값입니다.\")\n",
        "print()\n",
        "\n",
        "print(\"--- 정상적으로 종료되었습니다.\")\n",
        "    "
      ],
      "metadata": {
        "id": "oZbLXZcJ80Xi",
        "colab": {
          "base_uri": "https://localhost:8080/"
        },
        "outputId": "9951ae8f-9b42-4344-fde9-6cbdfec3c8e7"
      },
      "execution_count": null,
      "outputs": [
        {
          "output_type": "stream",
          "name": "stdout",
          "text": [
            "# (1) 요소 내부에 있는 값 찾기\n",
            "- 52는 0 위치에 있습니다.\n",
            "\n",
            "# (2) 요소 내부에 있는 값 찾기\n",
            "- 리스트 내부에 없는 값입니다.\n",
            "\n",
            "--- 정상적으로 종료되었습니다.\n"
          ]
        }
      ]
    },
    {
      "cell_type": "markdown",
      "source": [
        "* 예외가 발생하면 예외와 관련된 정보가 생긴다.\n",
        "<br/> try: <br/>   예외가 발생할 가능성이 있는 구문\n",
        "<br/> except 예외의 종류 as 예외 객체를 활용할 변수 이름: <br/> 예외가 발생했을 때 실행할 구문"
      ],
      "metadata": {
        "id": "LiKKd9lpqjeZ"
      }
    },
    {
      "cell_type": "code",
      "source": [
        "try:\n",
        "    number_input_a = int(input(\"정수 입력> \"))\n",
        "    print(\"원의 반지름:\", number_input_a)\n",
        "    print(\"원의 둘레:\", 2 * 3.14 * number_input_a)\n",
        "    print(\"원의 넓이:\", 3.14 * number_input_a * number_input_a)\n",
        "\n",
        "except Exception as exception:\n",
        "    print(\"type(exception):\", type(excpetion))\n",
        "    print(\"exception:\", exception)"
      ],
      "metadata": {
        "colab": {
          "base_uri": "https://localhost:8080/"
        },
        "id": "F-X7tvSIplPq",
        "outputId": "c670e8b3-a3f3-4959-bf52-fa2410b480bb"
      },
      "execution_count": null,
      "outputs": [
        {
          "output_type": "stream",
          "name": "stdout",
          "text": [
            "정수 입력> 3\n",
            "원의 반지름: 3\n",
            "원의 둘레: 18.84\n",
            "원의 넓이: 28.259999999999998\n"
          ]
        }
      ]
    },
    {
      "cell_type": "code",
      "source": [
        "list_number = [52, 273, 32, 72, 100]\n",
        "\n",
        "try:\n",
        "    number_input = int(input(\"정수 입력> \"))\n",
        "    print(\"{}번째 요소: {}\".format(number_input, list_number[number_input]))\n",
        "except Exception as exception:\n",
        "    print(\"type(exception):\", type(exception))\n",
        "    print(\"exception:\", exception)"
      ],
      "metadata": {
        "colab": {
          "base_uri": "https://localhost:8080/"
        },
        "id": "y8FhLOvRryx-",
        "outputId": "f1ceb5e2-b104-4cde-bc07-4bbb04fad262"
      },
      "execution_count": 1,
      "outputs": [
        {
          "output_type": "stream",
          "name": "stdout",
          "text": [
            "정수 입력> 3\n",
            "3번째 요소: 72\n"
          ]
        }
      ]
    },
    {
      "cell_type": "code",
      "source": [
        "list_number = [52, 273, 32, 72, 100]\n",
        "\n",
        "try:\n",
        "    number_input = int(input(\"정수 입력> \"))\n",
        "    print(\"{}번째 요소: {}\".format(number_input, list_number[number_input]))\n",
        "except ValueError:\n",
        "    print(\"정수를 입력해주세요!\")\n",
        "except IndexError:\n",
        "    print(\"리스트의 인덱스를 벗어났어요!\")"
      ],
      "metadata": {
        "colab": {
          "base_uri": "https://localhost:8080/"
        },
        "id": "9Sby3HIzff2S",
        "outputId": "e33a5f9b-7ce4-408e-8b03-147a0012393d"
      },
      "execution_count": 2,
      "outputs": [
        {
          "output_type": "stream",
          "name": "stdout",
          "text": [
            "정수 입력> 2\n",
            "2번째 요소: 32\n"
          ]
        }
      ]
    },
    {
      "cell_type": "code",
      "source": [
        "list_number = [52, 273, 32, 72, 100]\n",
        "\n",
        "try:\n",
        "    number_input = int(input(\"정수 입력> \"))\n",
        "    print(\"{}번째 요소: {}\".format(number_input, list_number[number_input]))\n",
        "\n",
        "except ValueError as exception:\n",
        "    print(\"정수를 입력해 주세요!\")\n",
        "    print(\"exception:\", exception)\n",
        "except IndexError as exception:\n",
        "    print(\"리스트가 인덱스를 벗어났어요!\")\n",
        "    print(\"exception:\", exception)"
      ],
      "metadata": {
        "colab": {
          "base_uri": "https://localhost:8080/"
        },
        "id": "7magQI3xgFG3",
        "outputId": "74d08d15-2f8d-44ad-a13f-54761b6d7e8b"
      },
      "execution_count": 3,
      "outputs": [
        {
          "output_type": "stream",
          "name": "stdout",
          "text": [
            "정수 입력> 7\n",
            "리스트가 인덱스를 벗어났어요!\n",
            "exception: list index out of range\n"
          ]
        }
      ]
    },
    {
      "cell_type": "code",
      "source": [
        "list_number = [52, 273, 32, 72, 100]\n",
        "\n",
        "try:\n",
        "    number_input = int(input(\"정수 입력> \"))\n",
        "    print(\"{}번째 요소: {}\".format(number_input, list_number[number_input]))\n",
        "    예외.발생해주세요()\n",
        "except ValueError as exception:\n",
        "    print(\"정수를 입력해 주세요!\")\n",
        "    print(type(exception), exception)\n",
        "except IndexError as exception:\n",
        "    print(\"리스트의 인덱스를 벗어났어요!\")\n",
        "    print(type(exception), exception)"
      ],
      "metadata": {
        "colab": {
          "base_uri": "https://localhost:8080/",
          "height": 279
        },
        "id": "jW5OOlJYg0L-",
        "outputId": "5ff07eab-c18e-47c0-b73e-70ff5e12cadb"
      },
      "execution_count": 4,
      "outputs": [
        {
          "output_type": "stream",
          "name": "stdout",
          "text": [
            "정수 입력> 2\n",
            "2번째 요소: 32\n"
          ]
        },
        {
          "output_type": "error",
          "ename": "NameError",
          "evalue": "ignored",
          "traceback": [
            "\u001b[0;31m---------------------------------------------------------------------------\u001b[0m",
            "\u001b[0;31mNameError\u001b[0m                                 Traceback (most recent call last)",
            "\u001b[0;32m<ipython-input-4-d763bda0841f>\u001b[0m in \u001b[0;36m<module>\u001b[0;34m()\u001b[0m\n\u001b[1;32m      4\u001b[0m     \u001b[0mnumber_input\u001b[0m \u001b[0;34m=\u001b[0m \u001b[0mint\u001b[0m\u001b[0;34m(\u001b[0m\u001b[0minput\u001b[0m\u001b[0;34m(\u001b[0m\u001b[0;34m\"정수 입력> \"\u001b[0m\u001b[0;34m)\u001b[0m\u001b[0;34m)\u001b[0m\u001b[0;34m\u001b[0m\u001b[0;34m\u001b[0m\u001b[0m\n\u001b[1;32m      5\u001b[0m     \u001b[0mprint\u001b[0m\u001b[0;34m(\u001b[0m\u001b[0;34m\"{}번째 요소: {}\"\u001b[0m\u001b[0;34m.\u001b[0m\u001b[0mformat\u001b[0m\u001b[0;34m(\u001b[0m\u001b[0mnumber_input\u001b[0m\u001b[0;34m,\u001b[0m \u001b[0mlist_number\u001b[0m\u001b[0;34m[\u001b[0m\u001b[0mnumber_input\u001b[0m\u001b[0;34m]\u001b[0m\u001b[0;34m)\u001b[0m\u001b[0;34m)\u001b[0m\u001b[0;34m\u001b[0m\u001b[0;34m\u001b[0m\u001b[0m\n\u001b[0;32m----> 6\u001b[0;31m     \u001b[0m예외\u001b[0m\u001b[0;34m.\u001b[0m\u001b[0m발생해주세요\u001b[0m\u001b[0;34m(\u001b[0m\u001b[0;34m)\u001b[0m\u001b[0;34m\u001b[0m\u001b[0;34m\u001b[0m\u001b[0m\n\u001b[0m\u001b[1;32m      7\u001b[0m \u001b[0;32mexcept\u001b[0m \u001b[0mValueError\u001b[0m \u001b[0;32mas\u001b[0m \u001b[0mexception\u001b[0m\u001b[0;34m:\u001b[0m\u001b[0;34m\u001b[0m\u001b[0;34m\u001b[0m\u001b[0m\n\u001b[1;32m      8\u001b[0m     \u001b[0mprint\u001b[0m\u001b[0;34m(\u001b[0m\u001b[0;34m\"정수를 입력해 주세요!\"\u001b[0m\u001b[0;34m)\u001b[0m\u001b[0;34m\u001b[0m\u001b[0;34m\u001b[0m\u001b[0m\n",
            "\u001b[0;31mNameError\u001b[0m: name '예외' is not defined"
          ]
        }
      ]
    },
    {
      "cell_type": "code",
      "source": [
        "list_number = [52, 273, 32, 72, 100]\n",
        "\n",
        "try:\n",
        "    number_input = int(input(\"정수 입력> \"))\n",
        "    print(\"{}번째 요소: {}\".format(number_input, list_number[number_input]))\n",
        "    예외.발생해주세요()\n",
        "\n",
        "except ValueError as exception:\n",
        "    print(\"정수를 입력해 주세요!\")\n",
        "    print(type(exception), exception)\n",
        "\n",
        "except IndexError as exception:\n",
        "    print(\"리스트의 인덱스를 벗어났어요!\")\n",
        "    print(type(exception), exception)\n",
        "\n",
        "except Exception as exception: # 모든 예외의 부모\n",
        "    print(\"미리 파악하지 못한 예외가 발생했습니다\")\n",
        "    print(type(exception), exception)"
      ],
      "metadata": {
        "colab": {
          "base_uri": "https://localhost:8080/"
        },
        "id": "XyScVNbwhktG",
        "outputId": "4525c5e4-5d76-4892-85d1-9e348343b969"
      },
      "execution_count": 7,
      "outputs": [
        {
          "output_type": "stream",
          "name": "stdout",
          "text": [
            "정수 입력> 2\n",
            "2번째 요소: 32\n",
            "미리 파악하지 못한 예외가 발생했습니다\n",
            "<class 'NameError'> name '예외' is not defined\n"
          ]
        }
      ]
    },
    {
      "cell_type": "markdown",
      "source": [
        "* raise 예외객체: 아직 구현되지 않은 부분에 일부러 예외를 발생시켜 프로그램을 죽게 만들어 잊어버리지 않도록 하는 것"
      ],
      "metadata": {
        "id": "IIFwMvUljibj"
      }
    },
    {
      "cell_type": "code",
      "source": [
        "number = input(\"정수 입력> \")\n",
        "number = int(number)\n",
        "\n",
        "if number > 0:\n",
        "    # 양수일 때 : 아직 미구현 상태입니다.\n",
        "    raise NotImplementedError\n",
        "else:\n",
        "    # 음수, 0일 때: 아직 미구현 상태입니다.\n",
        "    raise NotImplementedError"
      ],
      "metadata": {
        "colab": {
          "base_uri": "https://localhost:8080/",
          "height": 261
        },
        "id": "vSZLacZRirBl",
        "outputId": "428109de-48c8-403f-888f-92d68299e261"
      },
      "execution_count": 8,
      "outputs": [
        {
          "name": "stdout",
          "output_type": "stream",
          "text": [
            "정수 입력> 1\n"
          ]
        },
        {
          "output_type": "error",
          "ename": "NotImplementedError",
          "evalue": "ignored",
          "traceback": [
            "\u001b[0;31m---------------------------------------------------------------------------\u001b[0m",
            "\u001b[0;31mNotImplementedError\u001b[0m                       Traceback (most recent call last)",
            "\u001b[0;32m<ipython-input-8-4573be922887>\u001b[0m in \u001b[0;36m<module>\u001b[0;34m()\u001b[0m\n\u001b[1;32m      4\u001b[0m \u001b[0;32mif\u001b[0m \u001b[0mnumber\u001b[0m \u001b[0;34m>\u001b[0m \u001b[0;36m0\u001b[0m\u001b[0;34m:\u001b[0m\u001b[0;34m\u001b[0m\u001b[0;34m\u001b[0m\u001b[0m\n\u001b[1;32m      5\u001b[0m     \u001b[0;31m# 양수일 때 : 아직 미구현 상태입니다.\u001b[0m\u001b[0;34m\u001b[0m\u001b[0;34m\u001b[0m\u001b[0;34m\u001b[0m\u001b[0m\n\u001b[0;32m----> 6\u001b[0;31m     \u001b[0;32mraise\u001b[0m \u001b[0mNotImplementedError\u001b[0m\u001b[0;34m\u001b[0m\u001b[0;34m\u001b[0m\u001b[0m\n\u001b[0m\u001b[1;32m      7\u001b[0m \u001b[0;32melse\u001b[0m\u001b[0;34m:\u001b[0m\u001b[0;34m\u001b[0m\u001b[0;34m\u001b[0m\u001b[0m\n\u001b[1;32m      8\u001b[0m     \u001b[0;31m# 음수, 0일 때: 아직 미구현 상태입니다.\u001b[0m\u001b[0;34m\u001b[0m\u001b[0;34m\u001b[0m\u001b[0;34m\u001b[0m\u001b[0m\n",
            "\u001b[0;31mNotImplementedError\u001b[0m: "
          ]
        }
      ]
    }
  ]
}