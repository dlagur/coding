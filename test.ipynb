{
 "cells": [
  {
   "cell_type": "code",
   "execution_count": 1,
   "id": "initial_id",
   "metadata": {
    "collapsed": true,
    "ExecuteTime": {
     "end_time": "2024-04-01T14:14:41.283645Z",
     "start_time": "2024-04-01T14:14:11.639268Z"
    }
   },
   "outputs": [
    {
     "name": "stdout",
     "output_type": "stream",
     "text": [
      "-1\n",
      "-1\n",
      "123\n",
      "123\n",
      "-1\n",
      "-1\n"
     ]
    }
   ],
   "source": [
    "from collections import deque\n",
    "\n",
    "n = int(input())\n",
    "\n",
    "stack = deque()\n",
    "\n",
    "for _ in range(n):\n",
    "    order = input()\n",
    "    if 'push' in order:\n",
    "        x = int(order.split(' ')[1])\n",
    "        stack.append(x)\n",
    "    \n",
    "    elif 'pop' in order:\n",
    "        if len(stack) > 0:\n",
    "            print(stack.popleft())\n",
    "        else:\n",
    "            print(-1)\n",
    "    \n",
    "    elif 'size' in order:\n",
    "        print(len(stack))\n",
    "    \n",
    "    elif 'empty' in order:\n",
    "        print(len(stack) == 0)\n",
    "    \n",
    "    else:\n",
    "        if len(stack) == 0:\n",
    "            print(-1)\n",
    "        else:\n",
    "            print(stack[-1])"
   ]
  },
  {
   "cell_type": "code",
   "execution_count": 9,
   "outputs": [
    {
     "name": "stdout",
     "output_type": "stream",
     "text": [
      "False\n"
     ]
    }
   ],
   "source": [
    "A = deque()\n",
    "\n",
    "print(A == 0)"
   ],
   "metadata": {
    "collapsed": false,
    "ExecuteTime": {
     "end_time": "2024-04-01T14:20:01.020160Z",
     "start_time": "2024-04-01T14:20:01.015251Z"
    }
   },
   "id": "18229bfc28b92027"
  },
  {
   "cell_type": "code",
   "execution_count": 10,
   "outputs": [
    {
     "data": {
      "text/plain": "['A', 'C']"
     },
     "execution_count": 10,
     "metadata": {},
     "output_type": "execute_result"
    }
   ],
   "source": [
    "B = 'A C'\n",
    "B.split()"
   ],
   "metadata": {
    "collapsed": false,
    "ExecuteTime": {
     "end_time": "2024-04-01T14:24:31.707144Z",
     "start_time": "2024-04-01T14:24:31.280035Z"
    }
   },
   "id": "2b8f26f332c537d6"
  },
  {
   "cell_type": "code",
   "execution_count": 11,
   "outputs": [
    {
     "data": {
      "text/plain": "Counter({'p': 2, 'a': 1, 'l': 1, 'e': 1})"
     },
     "execution_count": 11,
     "metadata": {},
     "output_type": "execute_result"
    }
   ],
   "source": [
    "from collections import Counter\n",
    "word = 'apple'\n",
    "Counter(word)"
   ],
   "metadata": {
    "collapsed": false,
    "ExecuteTime": {
     "end_time": "2024-04-02T03:00:29.559061Z",
     "start_time": "2024-04-02T03:00:29.213264Z"
    }
   },
   "id": "2a9df69d4d43d85b"
  },
  {
   "cell_type": "code",
   "execution_count": null,
   "outputs": [],
   "source": [],
   "metadata": {
    "collapsed": false
   },
   "id": "336abf10388e720f"
  },
  {
   "cell_type": "code",
   "execution_count": 31,
   "outputs": [
    {
     "ename": "TypeError",
     "evalue": "'str' object does not support item assignment",
     "output_type": "error",
     "traceback": [
      "\u001B[0;31m---------------------------------------------------------------------------\u001B[0m",
      "\u001B[0;31mTypeError\u001B[0m                                 Traceback (most recent call last)",
      "Cell \u001B[0;32mIn[31], line 24\u001B[0m\n\u001B[1;32m     17\u001B[0m         result\u001B[38;5;241m.\u001B[39mremove((i,j))\n\u001B[1;32m     19\u001B[0m     rep \u001B[38;5;241m=\u001B[39m (backtrack(i\u001B[38;5;241m+\u001B[39m\u001B[38;5;241m1\u001B[39m, j) \u001B[38;5;129;01mor\u001B[39;00m\n\u001B[1;32m     20\u001B[0m            backtrack(i\u001B[38;5;241m-\u001B[39m\u001B[38;5;241m1\u001B[39m, j) \u001B[38;5;129;01mor\u001B[39;00m\n\u001B[1;32m     21\u001B[0m            backtrack(i, j\u001B[38;5;241m+\u001B[39m\u001B[38;5;241m1\u001B[39m) \u001B[38;5;129;01mor\u001B[39;00m\n\u001B[1;32m     22\u001B[0m            backtrack(i, j\u001B[38;5;241m-\u001B[39m\u001B[38;5;241m1\u001B[39m))\n\u001B[0;32m---> 24\u001B[0m backtrack(\u001B[38;5;241m1\u001B[39m, \u001B[38;5;241m1\u001B[39m)\n",
      "Cell \u001B[0;32mIn[31], line 11\u001B[0m, in \u001B[0;36mbacktrack\u001B[0;34m(i, j)\u001B[0m\n\u001B[1;32m      9\u001B[0m \u001B[38;5;28;01mdef\u001B[39;00m \u001B[38;5;21mbacktrack\u001B[39m(i, j):\n\u001B[1;32m     10\u001B[0m     result\u001B[38;5;241m.\u001B[39madd((i, j))\n\u001B[0;32m---> 11\u001B[0m     path[i][j] \u001B[38;5;241m=\u001B[39m \u001B[38;5;124m'\u001B[39m\u001B[38;5;124m0\u001B[39m\u001B[38;5;124m'\u001B[39m\n\u001B[1;32m     12\u001B[0m     \u001B[38;5;28;01mif\u001B[39;00m i \u001B[38;5;241m==\u001B[39m n \u001B[38;5;129;01mand\u001B[39;00m j \u001B[38;5;241m==\u001B[39m m:\n\u001B[1;32m     13\u001B[0m         \u001B[38;5;28;01mreturn\u001B[39;00m \u001B[38;5;28mlen\u001B[39m(result)\n",
      "\u001B[0;31mTypeError\u001B[0m: 'str' object does not support item assignment"
     ]
    }
   ],
   "source": [
    "n, m = map(int, input().split())\n",
    "\n",
    "path = []\n",
    "for _ in range(n):\n",
    "    row = input()\n",
    "    path.append(row)\n",
    "\n",
    "result = set()\n",
    "def backtrack(i, j):\n",
    "    result.add((i, j))\n",
    "    path[i][j] = '0'\n",
    "    if i == n and j == m:\n",
    "        return len(result)\n",
    "    if (i >= n or j >= m or i < 0 or j < 0 \n",
    "        or (path[i+1][j] == '0' and path[i-1][j] == '0'\n",
    "    and path[i][j+1] == '0' and path[i][j-1] == '0')):\n",
    "        result.remove((i,j))\n",
    "        \n",
    "    rep = (backtrack(i+1, j) or\n",
    "           backtrack(i-1, j) or\n",
    "           backtrack(i, j+1) or\n",
    "           backtrack(i, j-1))\n",
    "\n",
    "backtrack(1, 1)"
   ],
   "metadata": {
    "collapsed": false,
    "ExecuteTime": {
     "end_time": "2024-04-07T09:15:40.319796Z",
     "start_time": "2024-04-07T09:15:19.321288Z"
    }
   },
   "id": "94fd2aff6f2b4323"
  },
  {
   "cell_type": "code",
   "execution_count": 30,
   "outputs": [
    {
     "data": {
      "text/plain": "'123,4'"
     },
     "execution_count": 30,
     "metadata": {},
     "output_type": "execute_result"
    }
   ],
   "source": [
    "A = '123,4'\n",
    "\n",
    "A.strip('')"
   ],
   "metadata": {
    "collapsed": false,
    "ExecuteTime": {
     "end_time": "2024-04-07T09:14:25.086200Z",
     "start_time": "2024-04-07T09:14:25.080511Z"
    }
   },
   "id": "59328b992bf2a76e"
  },
  {
   "cell_type": "code",
   "execution_count": null,
   "outputs": [],
   "source": [],
   "metadata": {
    "collapsed": false
   },
   "id": "f91436cd3607fa3a"
  }
 ],
 "metadata": {
  "kernelspec": {
   "display_name": "Python 3",
   "language": "python",
   "name": "python3"
  },
  "language_info": {
   "codemirror_mode": {
    "name": "ipython",
    "version": 2
   },
   "file_extension": ".py",
   "mimetype": "text/x-python",
   "name": "python",
   "nbconvert_exporter": "python",
   "pygments_lexer": "ipython2",
   "version": "2.7.6"
  }
 },
 "nbformat": 4,
 "nbformat_minor": 5
}
