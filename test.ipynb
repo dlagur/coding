{
 "cells": [
  {
   "cell_type": "code",
   "execution_count": 3,
   "id": "initial_id",
   "metadata": {
    "collapsed": true,
    "ExecuteTime": {
     "end_time": "2024-02-24T09:49:08.881628Z",
     "start_time": "2024-02-24T09:49:06.286768Z"
    }
   },
   "outputs": [
    {
     "name": "stdout",
     "output_type": "stream",
     "text": [
      "6\n"
     ]
    }
   ],
   "source": [
    "S = list(input()) # 입력 값 리스트로 받기\n",
    "\n",
    "nums = [int(i) for i in S]\n",
    "result = 0\n",
    "\n",
    "for num in nums:\n",
    "    # num이나 result 값이 0, 1의 값을 가질 때, 덧셈 진행\n",
    "    if num in [0, 1] or result in [0, 1]: \n",
    "        result += num\n",
    "    else:\n",
    "    # 그 외 곱셈 진행\n",
    "        result *= num\n",
    "        \n",
    "print(result)"
   ]
  },
  {
   "cell_type": "code",
   "execution_count": 6,
   "outputs": [
    {
     "name": "stdout",
     "output_type": "stream",
     "text": [
      "4 0\n"
     ]
    }
   ],
   "source": [
    "N = int(input())\n",
    "plans = input().split()\n",
    "\n",
    "# 연산 횟수는 이동 횟수에 비례하게 된다\n",
    "# 이동 횟수가 N번 --> O(N)\n",
    "\n",
    "# 일련의 명령에 따라서 개체를 차례대로 이동시킨다는 점에서 Simulation 유형으로 분류\n",
    "\n",
    "x, y = 1, 1\n",
    "\n",
    "# LRUD에 따른 이동 방향\n",
    "dx = [-1,1,0,0]\n",
    "dy = [0, 0, 1, -1]\n",
    "move_type = ['L', 'R', 'U', 'D']\n",
    "\n",
    "for plan in plans:\n",
    "    for i in range(len(move_type)):\n",
    "        if plan == move_type[i]:\n",
    "            nx = x + dx[i]\n",
    "            ny = y + dy[i]\n",
    "\n",
    "        if nx < 1 or ny < 1 or nx > N or ny > N:\n",
    "            continue\n",
    "        \n",
    "    x, y = nx, ny\n",
    "\n",
    "print(x, y)"
   ],
   "metadata": {
    "collapsed": false,
    "ExecuteTime": {
     "end_time": "2024-03-02T08:44:42.082244Z",
     "start_time": "2024-03-02T08:44:34.278934Z"
    }
   },
   "id": "18229bfc28b92027"
  },
  {
   "cell_type": "code",
   "execution_count": null,
   "outputs": [],
   "source": [],
   "metadata": {
    "collapsed": false
   },
   "id": "2b8f26f332c537d6"
  }
 ],
 "metadata": {
  "kernelspec": {
   "display_name": "Python 3",
   "language": "python",
   "name": "python3"
  },
  "language_info": {
   "codemirror_mode": {
    "name": "ipython",
    "version": 2
   },
   "file_extension": ".py",
   "mimetype": "text/x-python",
   "name": "python",
   "nbconvert_exporter": "python",
   "pygments_lexer": "ipython2",
   "version": "2.7.6"
  }
 },
 "nbformat": 4,
 "nbformat_minor": 5
}
