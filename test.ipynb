{
 "cells": [
  {
   "cell_type": "code",
   "execution_count": 1,
   "id": "initial_id",
   "metadata": {
    "collapsed": true,
    "ExecuteTime": {
     "end_time": "2024-04-01T14:14:41.283645Z",
     "start_time": "2024-04-01T14:14:11.639268Z"
    }
   },
   "outputs": [
    {
     "name": "stdout",
     "output_type": "stream",
     "text": [
      "-1\n",
      "-1\n",
      "123\n",
      "123\n",
      "-1\n",
      "-1\n"
     ]
    }
   ],
   "source": [
    "from collections import deque\n",
    "\n",
    "n = int(input())\n",
    "\n",
    "stack = deque()\n",
    "\n",
    "for _ in range(n):\n",
    "    order = input()\n",
    "    if 'push' in order:\n",
    "        x = int(order.split(' ')[1])\n",
    "        stack.append(x)\n",
    "    \n",
    "    elif 'pop' in order:\n",
    "        if len(stack) > 0:\n",
    "            print(stack.popleft())\n",
    "        else:\n",
    "            print(-1)\n",
    "    \n",
    "    elif 'size' in order:\n",
    "        print(len(stack))\n",
    "    \n",
    "    elif 'empty' in order:\n",
    "        print(len(stack) == 0)\n",
    "    \n",
    "    else:\n",
    "        if len(stack) == 0:\n",
    "            print(-1)\n",
    "        else:\n",
    "            print(stack[-1])"
   ]
  },
  {
   "cell_type": "code",
   "execution_count": 9,
   "outputs": [
    {
     "name": "stdout",
     "output_type": "stream",
     "text": [
      "False\n"
     ]
    }
   ],
   "source": [
    "A = deque()\n",
    "\n",
    "print(A == 0)"
   ],
   "metadata": {
    "collapsed": false,
    "ExecuteTime": {
     "end_time": "2024-04-01T14:20:01.020160Z",
     "start_time": "2024-04-01T14:20:01.015251Z"
    }
   },
   "id": "18229bfc28b92027"
  },
  {
   "cell_type": "code",
   "execution_count": 10,
   "outputs": [
    {
     "data": {
      "text/plain": "['A', 'C']"
     },
     "execution_count": 10,
     "metadata": {},
     "output_type": "execute_result"
    }
   ],
   "source": [
    "B = 'A C'\n",
    "B.split()"
   ],
   "metadata": {
    "collapsed": false,
    "ExecuteTime": {
     "end_time": "2024-04-01T14:24:31.707144Z",
     "start_time": "2024-04-01T14:24:31.280035Z"
    }
   },
   "id": "2b8f26f332c537d6"
  },
  {
   "cell_type": "code",
   "execution_count": 11,
   "outputs": [
    {
     "data": {
      "text/plain": "Counter({'p': 2, 'a': 1, 'l': 1, 'e': 1})"
     },
     "execution_count": 11,
     "metadata": {},
     "output_type": "execute_result"
    }
   ],
   "source": [
    "from collections import Counter\n",
    "word = 'apple'\n",
    "Counter(word)"
   ],
   "metadata": {
    "collapsed": false,
    "ExecuteTime": {
     "end_time": "2024-04-02T03:00:29.559061Z",
     "start_time": "2024-04-02T03:00:29.213264Z"
    }
   },
   "id": "2a9df69d4d43d85b"
  },
  {
   "cell_type": "code",
   "execution_count": 64,
   "outputs": [
    {
     "name": "stdout",
     "output_type": "stream",
     "text": [
      "3\n"
     ]
    }
   ],
   "source": [
    "n = int(input())\n",
    "a, b = map(int, input().split())\n",
    "m = int(input())\n",
    "\n",
    "graph = [[] for _ in range(n+1)]\n",
    "for _ in range(m):\n",
    "    x, y = map(int, input().split())\n",
    "    graph[x].append(y)\n",
    "    graph[y].append(x)\n",
    "\n",
    "visited = [False]*(n+1)\n",
    "\n",
    "def dfs(v, count):\n",
    "    global flag\n",
    "    visited[v] = True\n",
    "    if v == b: \n",
    "        flag = True\n",
    "        print(count)\n",
    "\n",
    "    for i in graph[v]:\n",
    "        if not visited[i]:\n",
    "            dfs(i, count+1)\n",
    "# main\n",
    "flag = False\n",
    "dfs(a, 0)\n",
    "\n",
    "if not flag:\n",
    "    print(-1)\n",
    "\n",
    "\n"
   ],
   "metadata": {
    "collapsed": false,
    "ExecuteTime": {
     "end_time": "2024-04-10T09:06:26.274498Z",
     "start_time": "2024-04-10T09:06:13.452218Z"
    }
   },
   "id": "336abf10388e720f"
  },
  {
   "cell_type": "code",
   "execution_count": 36,
   "outputs": [
    {
     "ename": "ValueError",
     "evalue": "not enough values to unpack (expected 2, got 1)",
     "output_type": "error",
     "traceback": [
      "\u001B[0;31m---------------------------------------------------------------------------\u001B[0m",
      "\u001B[0;31mValueError\u001B[0m                                Traceback (most recent call last)",
      "Cell \u001B[0;32mIn[36], line 1\u001B[0m\n\u001B[0;32m----> 1\u001B[0m n, m \u001B[38;5;241m=\u001B[39m \u001B[38;5;28mmap\u001B[39m(\u001B[38;5;28mint\u001B[39m, \u001B[38;5;28minput\u001B[39m()\u001B[38;5;241m.\u001B[39msplit())\n\u001B[1;32m      3\u001B[0m path \u001B[38;5;241m=\u001B[39m []\n\u001B[1;32m      4\u001B[0m \u001B[38;5;28;01mfor\u001B[39;00m _ \u001B[38;5;129;01min\u001B[39;00m \u001B[38;5;28mrange\u001B[39m(n):\n",
      "\u001B[0;31mValueError\u001B[0m: not enough values to unpack (expected 2, got 1)"
     ]
    }
   ],
   "source": [
    "n, m = map(int, input().split())\n",
    "\n",
    "path = []\n",
    "for _ in range(n):\n",
    "    row = input()\n",
    "    path.append(row)\n",
    "\n",
    "result = set()\n",
    "def backtrack(i, j):\n",
    "    result.add((i, j))\n",
    "    path[i][j] = '0'\n",
    "    if i == n and j == m:\n",
    "        return len(result)\n",
    "    if (i >= n or j >= m or i < 0 or j < 0 \n",
    "        or (path[i+1][j] == '0' and path[i-1][j] == '0'\n",
    "    and path[i][j+1] == '0' and path[i][j-1] == '0')):\n",
    "        result.remove((i,j))\n",
    "        \n",
    "    rep = (backtrack(i+1, j) or\n",
    "           backtrack(i-1, j) or\n",
    "           backtrack(i, j+1) or\n",
    "           backtrack(i, j-1))\n",
    "backtrack(1, 1)"
   ],
   "metadata": {
    "collapsed": false,
    "ExecuteTime": {
     "end_time": "2024-04-08T14:14:35.865627Z",
     "start_time": "2024-04-08T14:14:34.232654Z"
    }
   },
   "id": "94fd2aff6f2b4323"
  },
  {
   "cell_type": "code",
   "execution_count": 42,
   "outputs": [
    {
     "data": {
      "text/plain": "[[]]"
     },
     "execution_count": 42,
     "metadata": {},
     "output_type": "execute_result"
    }
   ],
   "source": [
    "graph = [[]]\n",
    "graph"
   ],
   "metadata": {
    "collapsed": false,
    "ExecuteTime": {
     "end_time": "2024-04-10T08:23:20.168965Z",
     "start_time": "2024-04-10T08:23:20.165573Z"
    }
   },
   "id": "59328b992bf2a76e"
  },
  {
   "cell_type": "code",
   "execution_count": 65,
   "outputs": [
    {
     "data": {
      "text/plain": "deque([1, 2, 3])"
     },
     "execution_count": 65,
     "metadata": {},
     "output_type": "execute_result"
    }
   ],
   "source": [
    "from collections import deque\n",
    "\n",
    "queue = deque((1,2,3))\n",
    "queue"
   ],
   "metadata": {
    "collapsed": false,
    "ExecuteTime": {
     "end_time": "2024-04-10T10:47:33.185584Z",
     "start_time": "2024-04-10T10:47:32.977177Z"
    }
   },
   "id": "f91436cd3607fa3a"
  },
  {
   "cell_type": "code",
   "execution_count": 107,
   "outputs": [
    {
     "name": "stdout",
     "output_type": "stream",
     "text": [
      "use the stairs\n"
     ]
    }
   ],
   "source": [
    "from collections import deque\n",
    "\n",
    "f, s, g, u, d = map(int, input().split())\n",
    "\n",
    "graph = [0]*(f+1)\n",
    "\n",
    "def bfs(s, g, u, d, graph):\n",
    "    q = deque()\n",
    "    q.append(s)\n",
    "\n",
    "    # s < g이고, up 버튼을 누르면 f를 초과할 경우\n",
    "    # s > g이고, down 버튼을 누르면 1 미만일 경우\n",
    "    # s + u != g 이고, u == d일 경우(무한 루프)\n",
    "    if ((s < g and s + u > f) or\n",
    "            (s + u != g and u == d) or\n",
    "            (s > g and (s - d < 1 or d == 0))):\n",
    "        return \"use the stairs\"\n",
    "\n",
    "    while q:\n",
    "        x = q.popleft()\n",
    "        \n",
    "        if x == g:\n",
    "            return graph[x]\n",
    "        \n",
    "        for move in [x+u, x-d]:\n",
    "            if (move > f or move < 1):\n",
    "                continue\n",
    "            else:\n",
    "                graph[move] = graph[x] + 1\n",
    "                q.append(move)\n",
    "\n",
    "\n",
    "print(bfs(s, g, u, d, graph))\n"
   ],
   "metadata": {
    "collapsed": false,
    "ExecuteTime": {
     "end_time": "2024-04-13T10:54:05.473287Z",
     "start_time": "2024-04-13T10:54:01.720021Z"
    }
   },
   "id": "73325ffccaaadea3"
  },
  {
   "cell_type": "code",
   "execution_count": 76,
   "outputs": [],
   "source": [
    "for i in range(0):\n",
    "    print(i)"
   ],
   "metadata": {
    "collapsed": false,
    "ExecuteTime": {
     "end_time": "2024-04-10T10:55:15.917033Z",
     "start_time": "2024-04-10T10:55:15.861186Z"
    }
   },
   "id": "80c15a9951b26b3"
  },
  {
   "cell_type": "code",
   "execution_count": 85,
   "outputs": [
    {
     "data": {
      "text/plain": "True"
     },
     "execution_count": 85,
     "metadata": {},
     "output_type": "execute_result"
    }
   ],
   "source": [
    "a = 0\n",
    "not a"
   ],
   "metadata": {
    "collapsed": false,
    "ExecuteTime": {
     "end_time": "2024-04-10T15:31:51.875666Z",
     "start_time": "2024-04-10T15:31:51.811445Z"
    }
   },
   "id": "9071e334f2566aff"
  },
  {
   "cell_type": "code",
   "execution_count": 98,
   "outputs": [
    {
     "name": "stdout",
     "output_type": "stream",
     "text": [
      "1\n",
      "5\n"
     ]
    }
   ],
   "source": [
    "for i in [1,5]:\n",
    "    print(i)"
   ],
   "metadata": {
    "collapsed": false,
    "ExecuteTime": {
     "end_time": "2024-04-13T10:44:02.875585Z",
     "start_time": "2024-04-13T10:44:02.824598Z"
    }
   },
   "id": "7cd203e96cf443df"
  },
  {
   "cell_type": "code",
   "execution_count": 11,
   "outputs": [
    {
     "data": {
      "text/plain": "2"
     },
     "execution_count": 11,
     "metadata": {},
     "output_type": "execute_result"
    }
   ],
   "source": [
    "for i in range(11, 1, -1):\n",
    "    print(i)"
   ],
   "metadata": {
    "collapsed": false,
    "ExecuteTime": {
     "end_time": "2024-04-21T14:41:36.478971Z",
     "start_time": "2024-04-21T14:41:36.254752Z"
    }
   },
   "id": "7739a4ef20a9fabe"
  },
  {
   "cell_type": "code",
   "execution_count": 4,
   "outputs": [
    {
     "name": "stdout",
     "output_type": "stream",
     "text": [
      "1\n"
     ]
    }
   ],
   "source": [
    "from collections import deque\n",
    "\n",
    "t = int(input()) # 테스트 개수\n",
    "\n",
    "def bfs(x, y, graph):\n",
    "    # 한 박스당 1000m 이동 가능(50*20)\n",
    "    # 1000M 내로 편의점 / 목적지 도달 실패 ==> sad\n",
    "    # 편의점을 들리지 않고 도달하는 경우\n",
    "    \n",
    "    end_x, end_y = graph.pop()\n",
    "    while graph:\n",
    "        a, b = graph.popleft()\n",
    "        \n",
    "        if (abs(x-a) + abs(y-b) >= 1000):\n",
    "            print(\"sad\")\n",
    "            return False\n",
    "        # 더 갈 수 있으니..?\n",
    "        \n",
    "        else:\n",
    "            x, y = a, b\n",
    "            \n",
    "    print(\"happy\")\n",
    "    return True\n",
    "\n",
    "\n",
    "# main\n",
    "for _ in range(t):\n",
    "    n = int(input()) # 맥주를 파는 편의점의 개수\n",
    "    \n",
    "    graph = deque()\n",
    "    start_x, start_y = map(int, input().split()) # 집의 위치\n",
    "\n",
    "    # 편의점 위치\n",
    "    for _ in range(n+1):\n",
    "        x, y = map(int, input().split())\n",
    "        graph.append((x, y))\n",
    "\n",
    "    bfs(start_x, start_y, graph)\n",
    "\n"
   ],
   "metadata": {
    "collapsed": false,
    "ExecuteTime": {
     "end_time": "2024-04-21T07:55:32.453025Z",
     "start_time": "2024-04-21T07:55:19.068153Z"
    }
   },
   "id": "5cdfe31da0ff5173"
  },
  {
   "cell_type": "code",
   "execution_count": 23,
   "outputs": [
    {
     "name": "stdout",
     "output_type": "stream",
     "text": [
      "8\n"
     ]
    }
   ],
   "source": [],
   "metadata": {
    "collapsed": false,
    "ExecuteTime": {
     "end_time": "2024-04-26T01:00:22.337864Z",
     "start_time": "2024-04-26T00:59:58.958764Z"
    }
   },
   "id": "4c858cc2aed6869b"
  }
 ],
 "metadata": {
  "kernelspec": {
   "display_name": "Python 3",
   "language": "python",
   "name": "python3"
  },
  "language_info": {
   "codemirror_mode": {
    "name": "ipython",
    "version": 2
   },
   "file_extension": ".py",
   "mimetype": "text/x-python",
   "name": "python",
   "nbconvert_exporter": "python",
   "pygments_lexer": "ipython2",
   "version": "2.7.6"
  }
 },
 "nbformat": 4,
 "nbformat_minor": 5
}
