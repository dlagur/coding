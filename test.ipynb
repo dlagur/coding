{
 "cells": [
  {
   "cell_type": "code",
   "execution_count": 3,
   "id": "initial_id",
   "metadata": {
    "collapsed": true,
    "ExecuteTime": {
     "end_time": "2024-02-24T09:49:08.881628Z",
     "start_time": "2024-02-24T09:49:06.286768Z"
    }
   },
   "outputs": [
    {
     "name": "stdout",
     "output_type": "stream",
     "text": [
      "6\n"
     ]
    }
   ],
   "source": [
    "S = list(input()) # 입력 값 리스트로 받기\n",
    "\n",
    "nums = [int(i) for i in S]\n",
    "result = 0\n",
    "\n",
    "for num in nums:\n",
    "    # num이나 result 값이 0, 1의 값을 가질 때, 덧셈 진행\n",
    "    if num in [0, 1] or result in [0, 1]: \n",
    "        result += num\n",
    "    else:\n",
    "    # 그 외 곱셈 진행\n",
    "        result *= num\n",
    "        \n",
    "print(result)"
   ]
  },
  {
   "cell_type": "code",
   "execution_count": null,
   "outputs": [],
   "source": [],
   "metadata": {
    "collapsed": false
   },
   "id": "18229bfc28b92027"
  }
 ],
 "metadata": {
  "kernelspec": {
   "display_name": "Python 3",
   "language": "python",
   "name": "python3"
  },
  "language_info": {
   "codemirror_mode": {
    "name": "ipython",
    "version": 2
   },
   "file_extension": ".py",
   "mimetype": "text/x-python",
   "name": "python",
   "nbconvert_exporter": "python",
   "pygments_lexer": "ipython2",
   "version": "2.7.6"
  }
 },
 "nbformat": 4,
 "nbformat_minor": 5
}
