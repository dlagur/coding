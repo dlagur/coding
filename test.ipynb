{
 "cells": [
  {
   "cell_type": "code",
   "execution_count": 1,
   "id": "initial_id",
   "metadata": {
    "collapsed": true,
    "ExecuteTime": {
     "end_time": "2024-04-01T14:14:41.283645Z",
     "start_time": "2024-04-01T14:14:11.639268Z"
    }
   },
   "outputs": [
    {
     "name": "stdout",
     "output_type": "stream",
     "text": [
      "-1\n",
      "-1\n",
      "123\n",
      "123\n",
      "-1\n",
      "-1\n"
     ]
    }
   ],
   "source": [
    "from collections import deque\n",
    "\n",
    "n = int(input())\n",
    "\n",
    "stack = deque()\n",
    "\n",
    "for _ in range(n):\n",
    "    order = input()\n",
    "    if 'push' in order:\n",
    "        x = int(order.split(' ')[1])\n",
    "        stack.append(x)\n",
    "    \n",
    "    elif 'pop' in order:\n",
    "        if len(stack) > 0:\n",
    "            print(stack.popleft())\n",
    "        else:\n",
    "            print(-1)\n",
    "    \n",
    "    elif 'size' in order:\n",
    "        print(len(stack))\n",
    "    \n",
    "    elif 'empty' in order:\n",
    "        print(len(stack) == 0)\n",
    "    \n",
    "    else:\n",
    "        if len(stack) == 0:\n",
    "            print(-1)\n",
    "        else:\n",
    "            print(stack[-1])"
   ]
  },
  {
   "cell_type": "code",
   "execution_count": 9,
   "outputs": [
    {
     "name": "stdout",
     "output_type": "stream",
     "text": [
      "False\n"
     ]
    }
   ],
   "source": [
    "A = deque()\n",
    "\n",
    "print(A == 0)"
   ],
   "metadata": {
    "collapsed": false,
    "ExecuteTime": {
     "end_time": "2024-04-01T14:20:01.020160Z",
     "start_time": "2024-04-01T14:20:01.015251Z"
    }
   },
   "id": "18229bfc28b92027"
  },
  {
   "cell_type": "code",
   "execution_count": 10,
   "outputs": [
    {
     "data": {
      "text/plain": "['A', 'C']"
     },
     "execution_count": 10,
     "metadata": {},
     "output_type": "execute_result"
    }
   ],
   "source": [
    "B = 'A C'\n",
    "B.split()"
   ],
   "metadata": {
    "collapsed": false,
    "ExecuteTime": {
     "end_time": "2024-04-01T14:24:31.707144Z",
     "start_time": "2024-04-01T14:24:31.280035Z"
    }
   },
   "id": "2b8f26f332c537d6"
  },
  {
   "cell_type": "code",
   "execution_count": null,
   "outputs": [],
   "source": [],
   "metadata": {
    "collapsed": false
   },
   "id": "2a9df69d4d43d85b"
  }
 ],
 "metadata": {
  "kernelspec": {
   "display_name": "Python 3",
   "language": "python",
   "name": "python3"
  },
  "language_info": {
   "codemirror_mode": {
    "name": "ipython",
    "version": 2
   },
   "file_extension": ".py",
   "mimetype": "text/x-python",
   "name": "python",
   "nbconvert_exporter": "python",
   "pygments_lexer": "ipython2",
   "version": "2.7.6"
  }
 },
 "nbformat": 4,
 "nbformat_minor": 5
}
