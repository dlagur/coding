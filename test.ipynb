{
 "cells": [
  {
   "cell_type": "code",
   "execution_count": 1,
   "id": "initial_id",
   "metadata": {
    "collapsed": true,
    "ExecuteTime": {
     "end_time": "2024-04-01T14:14:41.283645Z",
     "start_time": "2024-04-01T14:14:11.639268Z"
    }
   },
   "outputs": [
    {
     "name": "stdout",
     "output_type": "stream",
     "text": [
      "-1\n",
      "-1\n",
      "123\n",
      "123\n",
      "-1\n",
      "-1\n"
     ]
    }
   ],
   "source": [
    "from collections import deque\n",
    "\n",
    "n = int(input())\n",
    "\n",
    "stack = deque()\n",
    "\n",
    "for _ in range(n):\n",
    "    order = input()\n",
    "    if 'push' in order:\n",
    "        x = int(order.split(' ')[1])\n",
    "        stack.append(x)\n",
    "    \n",
    "    elif 'pop' in order:\n",
    "        if len(stack) > 0:\n",
    "            print(stack.popleft())\n",
    "        else:\n",
    "            print(-1)\n",
    "    \n",
    "    elif 'size' in order:\n",
    "        print(len(stack))\n",
    "    \n",
    "    elif 'empty' in order:\n",
    "        print(len(stack) == 0)\n",
    "    \n",
    "    else:\n",
    "        if len(stack) == 0:\n",
    "            print(-1)\n",
    "        else:\n",
    "            print(stack[-1])"
   ]
  },
  {
   "cell_type": "code",
   "execution_count": 9,
   "outputs": [
    {
     "name": "stdout",
     "output_type": "stream",
     "text": [
      "False\n"
     ]
    }
   ],
   "source": [
    "A = deque()\n",
    "\n",
    "print(A == 0)"
   ],
   "metadata": {
    "collapsed": false,
    "ExecuteTime": {
     "end_time": "2024-04-01T14:20:01.020160Z",
     "start_time": "2024-04-01T14:20:01.015251Z"
    }
   },
   "id": "18229bfc28b92027"
  },
  {
   "cell_type": "code",
   "execution_count": 10,
   "outputs": [
    {
     "data": {
      "text/plain": "['A', 'C']"
     },
     "execution_count": 10,
     "metadata": {},
     "output_type": "execute_result"
    }
   ],
   "source": [
    "B = 'A C'\n",
    "B.split()"
   ],
   "metadata": {
    "collapsed": false,
    "ExecuteTime": {
     "end_time": "2024-04-01T14:24:31.707144Z",
     "start_time": "2024-04-01T14:24:31.280035Z"
    }
   },
   "id": "2b8f26f332c537d6"
  },
  {
   "cell_type": "code",
   "execution_count": 11,
   "outputs": [
    {
     "data": {
      "text/plain": "Counter({'p': 2, 'a': 1, 'l': 1, 'e': 1})"
     },
     "execution_count": 11,
     "metadata": {},
     "output_type": "execute_result"
    }
   ],
   "source": [
    "from collections import Counter\n",
    "word = 'apple'\n",
    "Counter(word)"
   ],
   "metadata": {
    "collapsed": false,
    "ExecuteTime": {
     "end_time": "2024-04-02T03:00:29.559061Z",
     "start_time": "2024-04-02T03:00:29.213264Z"
    }
   },
   "id": "2a9df69d4d43d85b"
  },
  {
   "cell_type": "code",
   "execution_count": 64,
   "outputs": [
    {
     "name": "stdout",
     "output_type": "stream",
     "text": [
      "3\n"
     ]
    }
   ],
   "source": [
    "n = int(input())\n",
    "a, b = map(int, input().split())\n",
    "m = int(input())\n",
    "\n",
    "graph = [[] for _ in range(n+1)]\n",
    "for _ in range(m):\n",
    "    x, y = map(int, input().split())\n",
    "    graph[x].append(y)\n",
    "    graph[y].append(x)\n",
    "\n",
    "visited = [False]*(n+1)\n",
    "\n",
    "def dfs(v, count):\n",
    "    global flag\n",
    "    visited[v] = True\n",
    "    if v == b: \n",
    "        flag = True\n",
    "        print(count)\n",
    "\n",
    "    for i in graph[v]:\n",
    "        if not visited[i]:\n",
    "            dfs(i, count+1)\n",
    "# main\n",
    "flag = False\n",
    "dfs(a, 0)\n",
    "\n",
    "if not flag:\n",
    "    print(-1)\n",
    "\n",
    "\n"
   ],
   "metadata": {
    "collapsed": false,
    "ExecuteTime": {
     "end_time": "2024-04-10T09:06:26.274498Z",
     "start_time": "2024-04-10T09:06:13.452218Z"
    }
   },
   "id": "336abf10388e720f"
  },
  {
   "cell_type": "code",
   "execution_count": 36,
   "outputs": [
    {
     "ename": "ValueError",
     "evalue": "not enough values to unpack (expected 2, got 1)",
     "output_type": "error",
     "traceback": [
      "\u001B[0;31m---------------------------------------------------------------------------\u001B[0m",
      "\u001B[0;31mValueError\u001B[0m                                Traceback (most recent call last)",
      "Cell \u001B[0;32mIn[36], line 1\u001B[0m\n\u001B[0;32m----> 1\u001B[0m n, m \u001B[38;5;241m=\u001B[39m \u001B[38;5;28mmap\u001B[39m(\u001B[38;5;28mint\u001B[39m, \u001B[38;5;28minput\u001B[39m()\u001B[38;5;241m.\u001B[39msplit())\n\u001B[1;32m      3\u001B[0m path \u001B[38;5;241m=\u001B[39m []\n\u001B[1;32m      4\u001B[0m \u001B[38;5;28;01mfor\u001B[39;00m _ \u001B[38;5;129;01min\u001B[39;00m \u001B[38;5;28mrange\u001B[39m(n):\n",
      "\u001B[0;31mValueError\u001B[0m: not enough values to unpack (expected 2, got 1)"
     ]
    }
   ],
   "source": [
    "n, m = map(int, input().split())\n",
    "\n",
    "path = []\n",
    "for _ in range(n):\n",
    "    row = input()\n",
    "    path.append(row)\n",
    "\n",
    "result = set()\n",
    "def backtrack(i, j):\n",
    "    result.add((i, j))\n",
    "    path[i][j] = '0'\n",
    "    if i == n and j == m:\n",
    "        return len(result)\n",
    "    if (i >= n or j >= m or i < 0 or j < 0 \n",
    "        or (path[i+1][j] == '0' and path[i-1][j] == '0'\n",
    "    and path[i][j+1] == '0' and path[i][j-1] == '0')):\n",
    "        result.remove((i,j))\n",
    "        \n",
    "    rep = (backtrack(i+1, j) or\n",
    "           backtrack(i-1, j) or\n",
    "           backtrack(i, j+1) or\n",
    "           backtrack(i, j-1))\n",
    "backtrack(1, 1)"
   ],
   "metadata": {
    "collapsed": false,
    "ExecuteTime": {
     "end_time": "2024-04-08T14:14:35.865627Z",
     "start_time": "2024-04-08T14:14:34.232654Z"
    }
   },
   "id": "94fd2aff6f2b4323"
  },
  {
   "cell_type": "code",
   "execution_count": 42,
   "outputs": [
    {
     "data": {
      "text/plain": "[[]]"
     },
     "execution_count": 42,
     "metadata": {},
     "output_type": "execute_result"
    }
   ],
   "source": [
    "graph = [[]]\n",
    "graph"
   ],
   "metadata": {
    "collapsed": false,
    "ExecuteTime": {
     "end_time": "2024-04-10T08:23:20.168965Z",
     "start_time": "2024-04-10T08:23:20.165573Z"
    }
   },
   "id": "59328b992bf2a76e"
  },
  {
   "cell_type": "code",
   "execution_count": 65,
   "outputs": [
    {
     "data": {
      "text/plain": "deque([1, 2, 3])"
     },
     "execution_count": 65,
     "metadata": {},
     "output_type": "execute_result"
    }
   ],
   "source": [
    "from collections import deque\n",
    "\n",
    "queue = deque((1,2,3))\n",
    "queue"
   ],
   "metadata": {
    "collapsed": false,
    "ExecuteTime": {
     "end_time": "2024-04-10T10:47:33.185584Z",
     "start_time": "2024-04-10T10:47:32.977177Z"
    }
   },
   "id": "f91436cd3607fa3a"
  },
  {
   "cell_type": "code",
   "execution_count": 73,
   "outputs": [
    {
     "ename": "ValueError",
     "evalue": "invalid literal for int() with base 10: ' '",
     "output_type": "error",
     "traceback": [
      "\u001B[0;31m---------------------------------------------------------------------------\u001B[0m",
      "\u001B[0;31mValueError\u001B[0m                                Traceback (most recent call last)",
      "Cell \u001B[0;32mIn[73], line 9\u001B[0m\n\u001B[1;32m      7\u001B[0m \u001B[38;5;28;01mfor\u001B[39;00m i \u001B[38;5;129;01min\u001B[39;00m \u001B[38;5;28mrange\u001B[39m(h):\n\u001B[1;32m      8\u001B[0m     \u001B[38;5;28;01mfor\u001B[39;00m j \u001B[38;5;129;01min\u001B[39;00m \u001B[38;5;28mrange\u001B[39m(n):\n\u001B[0;32m----> 9\u001B[0m         row \u001B[38;5;241m=\u001B[39m \u001B[38;5;28mlist\u001B[39m(\u001B[38;5;28mmap\u001B[39m(\u001B[38;5;28mint\u001B[39m, \u001B[38;5;124m'\u001B[39m\u001B[38;5;124m \u001B[39m\u001B[38;5;124m'\u001B[39m\u001B[38;5;241m.\u001B[39mjoin(\u001B[38;5;28minput\u001B[39m()\u001B[38;5;241m.\u001B[39msplit())))\n\u001B[1;32m     10\u001B[0m         graph[i][j]\u001B[38;5;241m.\u001B[39mappend(row)\n\u001B[1;32m     12\u001B[0m dx \u001B[38;5;241m=\u001B[39m [\u001B[38;5;241m1\u001B[39m, \u001B[38;5;241m-\u001B[39m\u001B[38;5;241m1\u001B[39m, \u001B[38;5;241m0\u001B[39m, \u001B[38;5;241m0\u001B[39m, \u001B[38;5;241m0\u001B[39m, \u001B[38;5;241m0\u001B[39m]\n",
      "\u001B[0;31mValueError\u001B[0m: invalid literal for int() with base 10: ' '"
     ]
    }
   ],
   "source": [
    "from collections import deque\n",
    "\n",
    "m, n, h = map(int, input().split())\n",
    "\n",
    "graph = [[[] for _ in range(n+1)] for _ in range(h+1)]\n",
    "\n",
    "for i in range(1, h+1):\n",
    "    for j in range(1, n+1):\n",
    "        row = list(map(int,input().split()))\n",
    "        graph[i][j].append(row)\n",
    "\n",
    "dx = [1, -1, 0, 0, 0, 0]\n",
    "dy = [0, 0, 1, -1, 0, 0]\n",
    "dz = [0, 0, 0, 0, 1, -1]\n",
    "\n",
    "count = 0\n",
    "def bfs(graph, x, y, z):\n",
    "    minus = 0\n",
    "    queue = deque((x,y,z))\n",
    "    global count\n",
    "\n",
    "    while queue:\n",
    "        x, y, z = queue.popleft()\n",
    "        if graph[x][y][z] == 0:\n",
    "            graph[x][y][z] = 1\n",
    "            count += 1\n",
    "            for i in range(6):\n",
    "                nx, ny, nz = x + dx[i], y + dy[i], z + dz[i]\n",
    "                if (nx < 0 or nx >= h or\n",
    "                        ny < 0 or ny >= n or\n",
    "                        nz < 0 or nz >= m):\n",
    "                    continue\n",
    "\n",
    "                # 1. 상, 하, 좌, 우, 앞, 뒤에 토마토가 없는 경우\n",
    "                elif graph[nx][ny][nz] == -1:\n",
    "                    minus += 1\n",
    "                    if minus == 6:\n",
    "                        count = -1\n",
    "                        break\n",
    "                else:\n",
    "                    queue.append((nx, ny, nz))\n",
    "one_count = 0\n",
    "for i in range(1, h+1):\n",
    "    for j in range(1, n+1):\n",
    "        for k in range(m):\n",
    "            if graph[i][j][k] == 1:\n",
    "                bfs(graph, i, j, k)\n",
    "            else:\n",
    "                one_count += 1\n",
    "                # 익은 토마토가 하나도 없는 경우\n",
    "                if one_count == m*n*h:\n",
    "                    count = -1\n",
    "\n",
    "\n",
    "print(count)\n",
    "# 토마토가 모두 익지 못하는 상황이면?\n",
    "# 1. 상, 하, 좌, 우, 앞, 뒤에 토마토가 없는 경우\n",
    "# 2. 익은 토마토가 하나도 없는 경우\n"
   ],
   "metadata": {
    "collapsed": false,
    "ExecuteTime": {
     "end_time": "2024-04-10T10:52:35.705912Z",
     "start_time": "2024-04-10T10:52:27.887761Z"
    }
   },
   "id": "73325ffccaaadea3"
  },
  {
   "cell_type": "code",
   "execution_count": 76,
   "outputs": [],
   "source": [
    "for i in range(0):\n",
    "    print(i)"
   ],
   "metadata": {
    "collapsed": false,
    "ExecuteTime": {
     "end_time": "2024-04-10T10:55:15.917033Z",
     "start_time": "2024-04-10T10:55:15.861186Z"
    }
   },
   "id": "80c15a9951b26b3"
  },
  {
   "cell_type": "code",
   "execution_count": null,
   "outputs": [],
   "source": [],
   "metadata": {
    "collapsed": false
   },
   "id": "9071e334f2566aff"
  }
 ],
 "metadata": {
  "kernelspec": {
   "display_name": "Python 3",
   "language": "python",
   "name": "python3"
  },
  "language_info": {
   "codemirror_mode": {
    "name": "ipython",
    "version": 2
   },
   "file_extension": ".py",
   "mimetype": "text/x-python",
   "name": "python",
   "nbconvert_exporter": "python",
   "pygments_lexer": "ipython2",
   "version": "2.7.6"
  }
 },
 "nbformat": 4,
 "nbformat_minor": 5
}
