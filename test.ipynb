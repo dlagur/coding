{
 "cells": [
  {
   "cell_type": "code",
   "execution_count": 7,
   "id": "initial_id",
   "metadata": {
    "collapsed": true,
    "ExecuteTime": {
     "end_time": "2024-05-19T04:47:32.755626Z",
     "start_time": "2024-05-19T04:47:32.539142Z"
    }
   },
   "outputs": [
    {
     "data": {
      "text/plain": "'012'"
     },
     "execution_count": 7,
     "metadata": {},
     "output_type": "execute_result"
    }
   ],
   "source": [
    "from collections import deque\n",
    "\n",
    "n = int(input())\n",
    "\n",
    "stack = deque()\n",
    "\n",
    "for _ in range(n):\n",
    "    order = input()\n",
    "    if 'push' in order:\n",
    "        x = int(order.split(' ')[1])\n",
    "        stack.append(x)\n",
    "    \n",
    "    elif 'pop' in order:\n",
    "        if len(stack) > 0:\n",
    "            print(stack.popleft())\n",
    "        else:\n",
    "            print(-1)\n",
    "    \n",
    "    elif 'size' in order:\n",
    "        print(len(stack))\n",
    "    \n",
    "    elif 'empty' in order:\n",
    "        print(len(stack) == 0)\n",
    "    \n",
    "    else:\n",
    "        if len(stack) == 0:\n",
    "            print(-1)\n",
    "        else:\n",
    "            print(stack[-1])"
   ]
  },
  {
   "cell_type": "code",
   "execution_count": 41,
   "outputs": [
    {
     "name": "stdout",
     "output_type": "stream",
     "text": [
      "312\n"
     ]
    }
   ],
   "source": [
    "A = deque()\n",
    "\n",
    "print(A == 0)"
   ],
   "metadata": {
    "collapsed": false,
    "ExecuteTime": {
     "end_time": "2024-05-19T06:10:48.079130Z",
     "start_time": "2024-05-19T06:10:46.441299Z"
    }
   },
   "id": "18229bfc28b92027"
  },
  {
   "cell_type": "code",
   "execution_count": 44,
   "outputs": [
    {
     "name": "stdout",
     "output_type": "stream",
     "text": [
      "312\n"
     ]
    }
   ],
   "source": [
    "B = 'A C'\n",
    "B.split()"
   ],
   "metadata": {
    "collapsed": false,
    "ExecuteTime": {
     "end_time": "2024-05-19T06:20:34.999073Z",
     "start_time": "2024-05-19T06:20:33.267441Z"
    }
   },
   "id": "2b8f26f332c537d6"
  },
  {
   "cell_type": "code",
   "execution_count": 11,
   "outputs": [
    {
     "data": {
      "text/plain": "Counter({'p': 2, 'a': 1, 'l': 1, 'e': 1})"
     },
     "execution_count": 11,
     "metadata": {},
     "output_type": "execute_result"
    }
   ],
   "source": [
    "from collections import Counter\n",
    "word = 'apple'\n",
    "Counter(word)"
   ],
   "metadata": {
    "collapsed": false,
    "ExecuteTime": {
     "end_time": "2024-04-02T03:00:29.559061Z",
     "start_time": "2024-04-02T03:00:29.213264Z"
    }
   },
   "id": "2a9df69d4d43d85b"
  },
  {
   "cell_type": "code",
   "execution_count": 45,
   "outputs": [
    {
     "name": "stdout",
     "output_type": "stream",
     "text": [
      "-20\n"
     ]
    }
   ],
   "source": [
    "n = int(input())\n",
    "a, b = map(int, input().split())\n",
    "m = int(input())\n",
    "\n",
    "graph = [[] for _ in range(n+1)]\n",
    "for _ in range(m):\n",
    "    x, y = map(int, input().split())\n",
    "    graph[x].append(y)\n",
    "    graph[y].append(x)\n",
    "\n",
    "visited = [False]*(n+1)\n",
    "\n",
    "def dfs(v, count):\n",
    "    global flag\n",
    "    visited[v] = True\n",
    "    if v == b: \n",
    "        flag = True\n",
    "        print(count)\n",
    "\n",
    "    for i in graph[v]:\n",
    "        if not visited[i]:\n",
    "            dfs(i, count+1)\n",
    "# main\n",
    "flag = False\n",
    "dfs(a, 0)\n",
    "\n",
    "if not flag:\n",
    "    print(-1)\n",
    "\n",
    "\n"
   ],
   "metadata": {
    "collapsed": false,
    "ExecuteTime": {
     "end_time": "2024-05-19T07:44:01.492828Z",
     "start_time": "2024-05-19T07:43:47.162059Z"
    }
   },
   "id": "336abf10388e720f"
  },
  {
   "cell_type": "code",
   "execution_count": 36,
   "outputs": [
    {
     "ename": "ValueError",
     "evalue": "not enough values to unpack (expected 2, got 1)",
     "output_type": "error",
     "traceback": [
      "\u001B[0;31m---------------------------------------------------------------------------\u001B[0m",
      "\u001B[0;31mValueError\u001B[0m                                Traceback (most recent call last)",
      "Cell \u001B[0;32mIn[36], line 1\u001B[0m\n\u001B[0;32m----> 1\u001B[0m n, m \u001B[38;5;241m=\u001B[39m \u001B[38;5;28mmap\u001B[39m(\u001B[38;5;28mint\u001B[39m, \u001B[38;5;28minput\u001B[39m()\u001B[38;5;241m.\u001B[39msplit())\n\u001B[1;32m      3\u001B[0m path \u001B[38;5;241m=\u001B[39m []\n\u001B[1;32m      4\u001B[0m \u001B[38;5;28;01mfor\u001B[39;00m _ \u001B[38;5;129;01min\u001B[39;00m \u001B[38;5;28mrange\u001B[39m(n):\n",
      "\u001B[0;31mValueError\u001B[0m: not enough values to unpack (expected 2, got 1)"
     ]
    }
   ],
   "source": [
    "n, m = map(int, input().split())\n",
    "\n",
    "path = []\n",
    "for _ in range(n):\n",
    "    row = input()\n",
    "    path.append(row)\n",
    "\n",
    "result = set()\n",
    "def backtrack(i, j):\n",
    "    result.add((i, j))\n",
    "    path[i][j] = '0'\n",
    "    if i == n and j == m:\n",
    "        return len(result)\n",
    "    if (i >= n or j >= m or i < 0 or j < 0 \n",
    "        or (path[i+1][j] == '0' and path[i-1][j] == '0'\n",
    "    and path[i][j+1] == '0' and path[i][j-1] == '0')):\n",
    "        result.remove((i,j))\n",
    "        \n",
    "    rep = (backtrack(i+1, j) or\n",
    "           backtrack(i-1, j) or\n",
    "           backtrack(i, j+1) or\n",
    "           backtrack(i, j-1))\n",
    "backtrack(1, 1)"
   ],
   "metadata": {
    "collapsed": false,
    "ExecuteTime": {
     "end_time": "2024-04-08T14:14:35.865627Z",
     "start_time": "2024-04-08T14:14:34.232654Z"
    }
   },
   "id": "94fd2aff6f2b4323"
  },
  {
   "cell_type": "code",
   "execution_count": 42,
   "outputs": [
    {
     "data": {
      "text/plain": "[[]]"
     },
     "execution_count": 42,
     "metadata": {},
     "output_type": "execute_result"
    }
   ],
   "source": [
    "graph = [[]]\n",
    "graph"
   ],
   "metadata": {
    "collapsed": false,
    "ExecuteTime": {
     "end_time": "2024-04-10T08:23:20.168965Z",
     "start_time": "2024-04-10T08:23:20.165573Z"
    }
   },
   "id": "59328b992bf2a76e"
  },
  {
   "cell_type": "code",
   "execution_count": 65,
   "outputs": [
    {
     "data": {
      "text/plain": "deque([1, 2, 3])"
     },
     "execution_count": 65,
     "metadata": {},
     "output_type": "execute_result"
    }
   ],
   "source": [
    "from collections import deque\n",
    "\n",
    "queue = deque((1,2,3))\n",
    "queue"
   ],
   "metadata": {
    "collapsed": false,
    "ExecuteTime": {
     "end_time": "2024-04-10T10:47:33.185584Z",
     "start_time": "2024-04-10T10:47:32.977177Z"
    }
   },
   "id": "f91436cd3607fa3a"
  },
  {
   "cell_type": "code",
   "execution_count": 107,
   "outputs": [
    {
     "name": "stdout",
     "output_type": "stream",
     "text": [
      "use the stairs\n"
     ]
    }
   ],
   "source": [
    "from collections import deque\n",
    "\n",
    "f, s, g, u, d = map(int, input().split())\n",
    "\n",
    "graph = [0]*(f+1)\n",
    "\n",
    "def bfs(s, g, u, d, graph):\n",
    "    q = deque()\n",
    "    q.append(s)\n",
    "\n",
    "    # s < g이고, up 버튼을 누르면 f를 초과할 경우\n",
    "    # s > g이고, down 버튼을 누르면 1 미만일 경우\n",
    "    # s + u != g 이고, u == d일 경우(무한 루프)\n",
    "    if ((s < g and s + u > f) or\n",
    "            (s + u != g and u == d) or\n",
    "            (s > g and (s - d < 1 or d == 0))):\n",
    "        return \"use the stairs\"\n",
    "\n",
    "    while q:\n",
    "        x = q.popleft()\n",
    "        \n",
    "        if x == g:\n",
    "            return graph[x]\n",
    "        \n",
    "        for move in [x+u, x-d]:\n",
    "            if (move > f or move < 1):\n",
    "                continue\n",
    "            else:\n",
    "                graph[move] = graph[x] + 1\n",
    "                q.append(move)\n",
    "\n",
    "\n",
    "print(bfs(s, g, u, d, graph))\n"
   ],
   "metadata": {
    "collapsed": false,
    "ExecuteTime": {
     "end_time": "2024-04-13T10:54:05.473287Z",
     "start_time": "2024-04-13T10:54:01.720021Z"
    }
   },
   "id": "73325ffccaaadea3"
  },
  {
   "cell_type": "code",
   "execution_count": 76,
   "outputs": [],
   "source": [
    "for i in range(0):\n",
    "    print(i)"
   ],
   "metadata": {
    "collapsed": false,
    "ExecuteTime": {
     "end_time": "2024-04-10T10:55:15.917033Z",
     "start_time": "2024-04-10T10:55:15.861186Z"
    }
   },
   "id": "80c15a9951b26b3"
  },
  {
   "cell_type": "code",
   "execution_count": 48,
   "outputs": [
    {
     "data": {
      "text/plain": "2"
     },
     "execution_count": 48,
     "metadata": {},
     "output_type": "execute_result"
    }
   ],
   "source": [
    "import numpy as np\n",
    "int(np.log10(101))"
   ],
   "metadata": {
    "collapsed": false,
    "ExecuteTime": {
     "end_time": "2024-05-12T02:58:18.489472Z",
     "start_time": "2024-05-12T02:58:17.781605Z"
    }
   },
   "id": "9071e334f2566aff"
  },
  {
   "cell_type": "code",
   "execution_count": 61,
   "outputs": [
    {
     "name": "stdout",
     "output_type": "stream",
     "text": [
      "0 111 111 111 111 111 111 111 111 111 "
     ]
    }
   ],
   "source": [
    "import numpy as np\n",
    "\n",
    "n = int(input()) # 999\n",
    "\n",
    "dp = [0]*10\n",
    "\n",
    "k = int(np.log10(n))\n",
    "# 9999 -> 999 -> 99 -> 9\n",
    "\n",
    "# k -> 0\n",
    "# k -1 -> 1\n",
    "# k -2 -> 2 \n",
    "for i in range(k, 0, -1):\n",
    "    value, res = n // (10**i), n % (10**i) # 9, 99\n",
    "    \n",
    "    value %= 10 # 9\n",
    "     \n",
    "    for j in range(value):\n",
    "        dp[j] += 10**i\n",
    "\n",
    "    dp[value] += res + 1\n",
    "    dp[0] -= 10**i\n",
    "\n",
    "\n",
    "\n",
    "\n",
    "for i in dp:\n",
    "    print(i, end=' ')\n"
   ],
   "metadata": {
    "collapsed": false,
    "ExecuteTime": {
     "end_time": "2024-05-12T23:37:43.336571Z",
     "start_time": "2024-05-12T23:37:41.250830Z"
    }
   },
   "id": "7cd203e96cf443df"
  },
  {
   "cell_type": "code",
   "execution_count": 73,
   "outputs": [
    {
     "name": "stdout",
     "output_type": "stream",
     "text": [
      "Hing\n",
      "Hing\n",
      "Hing\n",
      "Hing\n",
      "HaruHaru\n",
      "Hing\n",
      "Hing\n"
     ]
    }
   ],
   "source": [
    "from collections import deque\n",
    "\n",
    "n = int(input())\n",
    "\n",
    "graph = [list(map(int, input().split())) for _ in range(n)]\n",
    "\n",
    "result = \"Hing\"\n",
    "\n",
    "def bfs(x, y):\n",
    "    q = deque()\n",
    "    \n",
    "    q.append((0,0))\n",
    "    move = graph[x][y]\n",
    "    dx = [0, move]\n",
    "    dy = [move, 0]\n",
    "    failure = 0 \n",
    "    \n",
    "    for i in range(2):\n",
    "        nx, ny = x + dx[i],  y + dy[i]\n",
    "        if (0 <= nx < n) and (0 <= ny < n):\n",
    "            if graph[nx][ny] == -1:\n",
    "                print(\"HaruHaru\")\n",
    "                return\n",
    "            else:\n",
    "                q.append((nx, ny))\n",
    "    \n",
    "    if failure == 2:\n",
    "        print(\"Hing\")\n",
    "        return\n",
    "\n",
    "dfs(0,0)"
   ],
   "metadata": {
    "collapsed": false,
    "ExecuteTime": {
     "end_time": "2024-05-13T23:02:21.502811Z",
     "start_time": "2024-05-13T23:02:13.180004Z"
    }
   },
   "id": "7739a4ef20a9fabe"
  },
  {
   "cell_type": "code",
   "execution_count": 78,
   "outputs": [
    {
     "name": "stdout",
     "output_type": "stream",
     "text": [
      "Hing\n"
     ]
    }
   ],
   "source": [
    "from collections import deque\n",
    "\n",
    "n = int(input())\n",
    "\n",
    "graph = [list(map(int, input().split())) for _ in range(n)]\n",
    "\n",
    "Flag = False\n",
    "\n",
    "def dfs():\n",
    "    \n",
    "    q = deque()\n",
    "    q.append((0,0))\n",
    "    \n",
    "    while q:\n",
    "        x, y = q.pop()\n",
    "        move = graph[x][y]\n",
    "        dx = [0, move]\n",
    "        dy = [move, 0]\n",
    "    \n",
    "        for i in range(2):\n",
    "            nx, ny = x + dx[i], y + dy[i]\n",
    "            if (0 <= nx < n) and (0 <= ny < n):\n",
    "                if graph[nx][ny] == -1:\n",
    "                    return True\n",
    "                else:\n",
    "                    q.append((nx, ny))\n",
    "    return False\n",
    "                    \n",
    "if dfs():\n",
    "    print(\"HaruHaru\")\n",
    "else:\n",
    "    print(\"Hing\")\n"
   ],
   "metadata": {
    "collapsed": false,
    "ExecuteTime": {
     "end_time": "2024-05-14T01:15:17.543955Z",
     "start_time": "2024-05-14T01:15:10.844131Z"
    }
   },
   "id": "5cdfe31da0ff5173"
  },
  {
   "cell_type": "code",
   "execution_count": 58,
   "outputs": [
    {
     "name": "stdout",
     "output_type": "stream",
     "text": [
      "1 4 1 1 1 1 1 1 1 1 "
     ]
    }
   ],
   "source": [
    "import numpy as np\n",
    "\n",
    "n = int(input()) # 999\n",
    "start = n\n",
    "dp = [0]*10\n",
    "\n",
    "\n",
    "\n",
    "# 10의 k승 만큼 나누어 계산\n",
    "# 0은 10의 k승만큼 1번씩 빼기\n",
    "\n",
    "k = int(np.log10(n))\n",
    "for i in range(k):\n",
    "    value, res = n // (10**(i+1)), n % (10**(i+1)) # value, res = 99, 9\n",
    "        \n",
    "    for j in range(10):\n",
    "        dp[j] += value*(10**i)\n",
    "        if j <= res:\n",
    "            dp[j] += 10**i\n",
    "    \n",
    "    # 자릿수 고려해서 더하기\n",
    "    # if 10, 11 -> 십의 자리 더하기\n",
    "    dp[0] -= (10**i)\n",
    "\n",
    "dp[n//(10**k)] += n%(10**k) + 1\n",
    "\n",
    "for i in dp:\n",
    "    print(i, end=' ')\n"
   ],
   "metadata": {
    "collapsed": false,
    "ExecuteTime": {
     "end_time": "2024-05-12T23:28:13.197294Z",
     "start_time": "2024-05-12T23:28:11.947208Z"
    }
   },
   "id": "4c858cc2aed6869b"
  }
 ],
 "metadata": {
  "kernelspec": {
   "display_name": "Python 3",
   "language": "python",
   "name": "python3"
  },
  "language_info": {
   "codemirror_mode": {
    "name": "ipython",
    "version": 2
   },
   "file_extension": ".py",
   "mimetype": "text/x-python",
   "name": "python",
   "nbconvert_exporter": "python",
   "pygments_lexer": "ipython2",
   "version": "2.7.6"
  }
 },
 "nbformat": 4,
 "nbformat_minor": 5
}
