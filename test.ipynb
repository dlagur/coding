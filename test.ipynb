{
 "cells": [
  {
   "cell_type": "code",
   "execution_count": 6,
   "id": "initial_id",
   "metadata": {
    "collapsed": true,
    "ExecuteTime": {
     "end_time": "2024-09-02T12:10:59.124239Z",
     "start_time": "2024-09-02T12:10:58.956319Z"
    }
   },
   "outputs": [
    {
     "name": "stdout",
     "output_type": "stream",
     "text": [
      "[0, 50, 10, 20]\n"
     ]
    }
   ],
   "source": [
    "numbers = [10, 20, 50]\n",
    "heap = [0]\n",
    "\n",
    "for number in numbers:\n",
    "    heap.append(number)\n",
    "    current_index = len(heap)-1 # 삽입한 원소의 인덱스\n",
    "    \n",
    "    # 힙 조건을 유지하기 위해 위로 올리기\n",
    "    while current_index > 1 and heap[current_index] > heap[current_index // 2]:\n",
    "        # 부모와 자식 노드를 교환\n",
    "        heap[current_index], heap[current_index // 2] = heap[current_index // 2], heap[current_index]\n",
    "        current_index = current_index // 2\n",
    "        \n",
    "print(heap)"
   ]
  },
  {
   "cell_type": "code",
   "execution_count": 22,
   "outputs": [
    {
     "name": "stdout",
     "output_type": "stream",
     "text": [
      "{2, 4}\n",
      "{1, 3, 5}\n",
      "{2, 4, 6}\n",
      "{1, 3, 5, 7}\n",
      "{2, 4, 6, 8}\n",
      "[1, 2, 3, 3, 4]\n"
     ]
    }
   ],
   "source": [
    "#def sol(exhibitions: list, connections: list) -> list:\n",
    "\n",
    "# Test Case\n",
    "connections = [[1,2], [1,4], [3,4], [4,5], [5,6], [6,7], [7,8]]\n",
    "#5일간 열리는 전시회 목록\n",
    "exhibitions = ['pop', 'pop', 'pop', 'landscape', 'landscape']\n",
    "\n",
    "# 과정 :\n",
    "## 1일차 : 1 관람 -> 2, 4 추천\n",
    "## 2일차 : 2, 4 관람 -> 1, 3, 5 추천\n",
    "## 3일차 : 1,3,5 관람 -> 2,4,6 추천\n",
    "###### 전시 바뀜\n",
    "## 4일차 : 2,4,6 관람 -> 1,3,5,7 추천\n",
    "# 5일차 : 1,3,5,7\n",
    "\n",
    "# output = [1,2,3,3,4]\n",
    "result = []\n",
    "# connections = [[1,2], [1,4], [3,4], [4,5], [5,6], [6,7], [7,8]]\n",
    "def bfs():\n",
    "    q = [1]\n",
    "    i = 0\n",
    "    Flag = exhibitions[0] # 전시회 주제 변경 여부\n",
    "    bp = [0]*(connections[-1][-1] + 1) # 전시회 방문횟수 체크\n",
    "    \n",
    "    while i < len(exhibitions):\n",
    "        if Flag != exhibitions[i]:\n",
    "            Flag = exhibitions[i]\n",
    "            bp = [0] * (connections[-1][-1] + 1)\n",
    "        result.append(len(q))\n",
    "        conn = set()\n",
    "        for n in q:\n",
    "            if bp[n] < 2:\n",
    "                bp[n] += 1\n",
    "                temp = {num[1] if n != num[1] else num[0] for num in connections if n in num} # {2, 4}\n",
    "                conn.update(temp)\n",
    "        print(conn)\n",
    "        q = list(conn)\n",
    "        i += 1\n",
    "\n",
    "bfs()\n",
    "print(result)"
   ],
   "metadata": {
    "collapsed": false,
    "ExecuteTime": {
     "end_time": "2024-09-24T01:12:39.494065Z",
     "start_time": "2024-09-24T01:12:39.409189Z"
    }
   },
   "id": "c0cf4dbae6a8562c"
  },
  {
   "cell_type": "code",
   "execution_count": 6,
   "outputs": [
    {
     "ename": "NameError",
     "evalue": "name 'Optional' is not defined",
     "output_type": "error",
     "traceback": [
      "\u001B[0;31m---------------------------------------------------------------------------\u001B[0m",
      "\u001B[0;31mNameError\u001B[0m                                 Traceback (most recent call last)",
      "Cell \u001B[0;32mIn[6], line 8\u001B[0m\n\u001B[1;32m      5\u001B[0m         \u001B[38;5;28mself\u001B[39m\u001B[38;5;241m.\u001B[39mval \u001B[38;5;241m=\u001B[39m val\n\u001B[1;32m      6\u001B[0m         \u001B[38;5;28mself\u001B[39m\u001B[38;5;241m.\u001B[39mnext \u001B[38;5;241m=\u001B[39m \u001B[38;5;28mnext\u001B[39m\n\u001B[0;32m----> 8\u001B[0m \u001B[38;5;28;01mclass\u001B[39;00m \u001B[38;5;21;01mSolution\u001B[39;00m:\n\u001B[1;32m      9\u001B[0m     \u001B[38;5;28;01mdef\u001B[39;00m \u001B[38;5;21mmergeTwoLists\u001B[39m(\u001B[38;5;28mself\u001B[39m, list1: Optional[ListNode], list2: Optional[ListNode]) \u001B[38;5;241m-\u001B[39m\u001B[38;5;241m>\u001B[39m Optional[ListNode]:\n\u001B[1;32m     10\u001B[0m         dummy \u001B[38;5;241m=\u001B[39m ListNode()\n",
      "Cell \u001B[0;32mIn[6], line 9\u001B[0m, in \u001B[0;36mSolution\u001B[0;34m()\u001B[0m\n\u001B[1;32m      8\u001B[0m \u001B[38;5;28;01mclass\u001B[39;00m \u001B[38;5;21;01mSolution\u001B[39;00m:\n\u001B[0;32m----> 9\u001B[0m     \u001B[38;5;28;01mdef\u001B[39;00m \u001B[38;5;21mmergeTwoLists\u001B[39m(\u001B[38;5;28mself\u001B[39m, list1: Optional[ListNode], list2: Optional[ListNode]) \u001B[38;5;241m-\u001B[39m\u001B[38;5;241m>\u001B[39m Optional[ListNode]:\n\u001B[1;32m     10\u001B[0m         dummy \u001B[38;5;241m=\u001B[39m ListNode()\n\u001B[1;32m     11\u001B[0m         tail \u001B[38;5;241m=\u001B[39m dummy\n",
      "\u001B[0;31mNameError\u001B[0m: name 'Optional' is not defined"
     ]
    }
   ],
   "source": [
    "\n",
    "# 물품의 수, 무게 전달받기\n",
    "n, k = map(int, input().split())\n",
    "\n",
    "# 가져갈 수 있는 물건 리스트\n",
    "packingList = []\n",
    "\n",
    "# 물건의 무게, 가치 전달받아 packingList에 저장하기\n",
    "for _ in range(n):\n",
    "    w, v = map(int, input().split())\n",
    "    packingList.append((w, v))\n",
    "\n",
    "# 물건 리스트 내림차순 정렬\n",
    "# value 기준으로 잡기\n",
    "packingList.sort(key=lambda x: x[1], reverse=True)\n",
    "\n",
    "result = 0\n",
    "# packingWeight, packingValue = 0,0\n",
    "packingWeight, packingValue = 0, 0\n",
    "while packingWeight <= k:\n",
    "    for i in range(n-1):\n",
    "        packingWeight, packingValue = packingList[i]\n",
    "        for weight, value in packingList[i+1:]:\n",
    "            if weight <= k - packingWeight: \n",
    "                packingWeight += weight\n",
    "                packingValue += value\n",
    "            result = max(result, packingValue)\n",
    "print(result)\n",
    "        \n",
    "# 모든 경우의 수를 계산하여 가치 계산 + 최댓값 확인\n",
    "# 끝\n",
    "\n",
    "\n",
    "\n"
   ],
   "metadata": {
    "collapsed": false,
    "ExecuteTime": {
     "end_time": "2024-07-04T23:59:31.510306Z",
     "start_time": "2024-07-04T23:59:31.430110Z"
    }
   },
   "id": "18229bfc28b92027"
  },
  {
   "cell_type": "code",
   "execution_count": 10,
   "outputs": [
    {
     "name": "stdout",
     "output_type": "stream",
     "text": [
      "0\n",
      "2\n",
      "1\n",
      "3\n",
      "2\n",
      "1\n",
      "0\n",
      "0\n"
     ]
    }
   ],
   "source": [
    "n = int(input())\n",
    "\n",
    "heap = [0]\n",
    "for _ in range(n):\n",
    "    x = int(input())\n",
    "    if x == 0:\n",
    "        if len(heap) == 1:\n",
    "            print(0)\n",
    "        else:\n",
    "            print(heap[1])\n",
    "            heap[1], heap[-1] = heap[-1], heap[1]\n",
    "            heap = heap[:-1]       \n",
    "    else:\n",
    "        heap.append(x)\n",
    "        \n",
    "    current_index = len(heap) - 1\n",
    "\n",
    "    while current_index > 1 and heap[current_index] > heap[current_index // 2]:\n",
    "        heap[current_index], heap[current_index // 2] = heap[current_index // 2], heap[current_index]\n",
    "        current_index = current_index // 2\n"
   ],
   "metadata": {
    "collapsed": false,
    "ExecuteTime": {
     "end_time": "2024-09-02T12:27:36.930048Z",
     "start_time": "2024-09-02T12:27:13.135943Z"
    }
   },
   "id": "2b8f26f332c537d6"
  },
  {
   "cell_type": "code",
   "execution_count": 23,
   "outputs": [
    {
     "data": {
      "text/plain": "True"
     },
     "execution_count": 23,
     "metadata": {},
     "output_type": "execute_result"
    }
   ],
   "source": [
    "'765' > '742999'"
   ],
   "metadata": {
    "collapsed": false,
    "ExecuteTime": {
     "end_time": "2024-09-28T09:56:24.080124Z",
     "start_time": "2024-09-28T09:56:24.055927Z"
    }
   },
   "id": "2a9df69d4d43d85b"
  },
  {
   "cell_type": "code",
   "execution_count": 45,
   "outputs": [
    {
     "name": "stdout",
     "output_type": "stream",
     "text": [
      "-20\n"
     ]
    }
   ],
   "source": [
    "n = int(input())\n",
    "a, b = map(int, input().split())\n",
    "m = int(input())\n",
    "\n",
    "graph = [[] for _ in range(n+1)]\n",
    "for _ in range(m):\n",
    "    x, y = map(int, input().split())\n",
    "    graph[x].append(y)\n",
    "    graph[y].append(x)\n",
    "\n",
    "visited = [False]*(n+1)\n",
    "\n",
    "def dfs(v, count):\n",
    "    global flag\n",
    "    visited[v] = True\n",
    "    if v == b: \n",
    "        flag = True\n",
    "        print(count)\n",
    "\n",
    "    for i in graph[v]:\n",
    "        if not visited[i]:\n",
    "            dfs(i, count+1)\n",
    "# main\n",
    "flag = False\n",
    "dfs(a, 0)\n",
    "\n",
    "if not flag:\n",
    "    print(-1)\n",
    "\n",
    "\n"
   ],
   "metadata": {
    "collapsed": false,
    "ExecuteTime": {
     "end_time": "2024-05-19T07:44:01.492828Z",
     "start_time": "2024-05-19T07:43:47.162059Z"
    }
   },
   "id": "336abf10388e720f"
  },
  {
   "cell_type": "code",
   "execution_count": 36,
   "outputs": [
    {
     "ename": "ValueError",
     "evalue": "not enough values to unpack (expected 2, got 1)",
     "output_type": "error",
     "traceback": [
      "\u001B[0;31m---------------------------------------------------------------------------\u001B[0m",
      "\u001B[0;31mValueError\u001B[0m                                Traceback (most recent call last)",
      "Cell \u001B[0;32mIn[36], line 1\u001B[0m\n\u001B[0;32m----> 1\u001B[0m n, m \u001B[38;5;241m=\u001B[39m \u001B[38;5;28mmap\u001B[39m(\u001B[38;5;28mint\u001B[39m, \u001B[38;5;28minput\u001B[39m()\u001B[38;5;241m.\u001B[39msplit())\n\u001B[1;32m      3\u001B[0m path \u001B[38;5;241m=\u001B[39m []\n\u001B[1;32m      4\u001B[0m \u001B[38;5;28;01mfor\u001B[39;00m _ \u001B[38;5;129;01min\u001B[39;00m \u001B[38;5;28mrange\u001B[39m(n):\n",
      "\u001B[0;31mValueError\u001B[0m: not enough values to unpack (expected 2, got 1)"
     ]
    }
   ],
   "source": [
    "n, m = map(int, input().split())\n",
    "\n",
    "path = []\n",
    "for _ in range(n):\n",
    "    row = input()\n",
    "    path.append(row)\n",
    "\n",
    "result = set()\n",
    "def backtrack(i, j):\n",
    "    result.add((i, j))\n",
    "    path[i][j] = '0'\n",
    "    if i == n and j == m:\n",
    "        return len(result)\n",
    "    if (i >= n or j >= m or i < 0 or j < 0 \n",
    "        or (path[i+1][j] == '0' and path[i-1][j] == '0'\n",
    "    and path[i][j+1] == '0' and path[i][j-1] == '0')):\n",
    "        result.remove((i,j))\n",
    "        \n",
    "    rep = (backtrack(i+1, j) or\n",
    "           backtrack(i-1, j) or\n",
    "           backtrack(i, j+1) or\n",
    "           backtrack(i, j-1))\n",
    "backtrack(1, 1)"
   ],
   "metadata": {
    "collapsed": false,
    "ExecuteTime": {
     "end_time": "2024-04-08T14:14:35.865627Z",
     "start_time": "2024-04-08T14:14:34.232654Z"
    }
   },
   "id": "94fd2aff6f2b4323"
  },
  {
   "cell_type": "code",
   "execution_count": 22,
   "outputs": [
    {
     "data": {
      "text/plain": "32"
     },
     "execution_count": 22,
     "metadata": {},
     "output_type": "execute_result"
    }
   ],
   "source": [
    "# GCCGABCGCCGCCGABCGCCGDE"
   ],
   "metadata": {
    "collapsed": false,
    "ExecuteTime": {
     "end_time": "2024-09-04T04:45:49.453280Z",
     "start_time": "2024-09-04T04:45:49.357363Z"
    }
   },
   "id": "59328b992bf2a76e"
  },
  {
   "cell_type": "code",
   "execution_count": 30,
   "outputs": [
    {
     "name": "stdout",
     "output_type": "stream",
     "text": [
      "3\n",
      "34\n",
      "3\n",
      "37\n",
      "4\n",
      "3\n",
      "7\n",
      "34\n",
      "38\n",
      "3\n",
      "37\n",
      "41\n",
      "12\n",
      "3\n",
      "15\n",
      "34\n",
      "46\n",
      "3\n",
      "37\n",
      "49\n",
      "4\n",
      "16\n",
      "3\n",
      "7\n",
      "19\n",
      "34\n",
      "38\n",
      "50\n",
      "3\n",
      "37\n",
      "41\n",
      "53\n",
      "5\n",
      "3\n",
      "8\n",
      "34\n",
      "39\n",
      "3\n",
      "37\n",
      "42\n",
      "4\n",
      "9\n",
      "YES\n"
     ]
    }
   ],
   "source": [
    "def subset_sum(arr, target):\n",
    "    n = len(arr)\n",
    "\n",
    "    # 모든 가능한 부분 집합을 탐색\n",
    "    for mask in range(1 << n):  # 1 << n은 2^n을 의미하며, 모든 부분 집합을 나타냄\n",
    "        subset_sum = 0\n",
    "\n",
    "        # 각 숫자가 부분 집합에 포함되는지 확인\n",
    "        for i in range(n):\n",
    "            if mask & (1 << i):  # i번째 숫자가 부분 집합에 포함된다면\n",
    "                subset_sum += arr[i]\n",
    "                print(subset_sum)\n",
    "\n",
    "        # 부분 집합의 합이 target과 같다면 \"YES\"를 반환\n",
    "        if subset_sum == target:\n",
    "            return \"YES\"\n",
    "\n",
    "    # 모든 부분 집합을 확인했지만 target과 같은 합이 없는 경우 \"NO\"를 반환\n",
    "    return \"NO\"\n",
    "\n",
    "\n",
    "# 입력 예시\n",
    "n = int(input(\"배열의 크기 n을 입력하세요: \"))\n",
    "arr = list(map(int, input(\"배열의 요소를 입력하세요: \").split()))\n",
    "target = int(input(\"목표 정수 target을 입력하세요: \"))\n",
    "\n",
    "# 결과 출력\n",
    "print(subset_sum(arr, target))\n"
   ],
   "metadata": {
    "collapsed": false,
    "ExecuteTime": {
     "end_time": "2024-09-05T01:19:33.321742Z",
     "start_time": "2024-09-05T01:19:16.872037Z"
    }
   },
   "id": "e3c24fbf10e9acf9"
  },
  {
   "cell_type": "code",
   "execution_count": 29,
   "outputs": [
    {
     "name": "stdout",
     "output_type": "stream",
     "text": [
      "mask = 000, subset = []\n",
      "mask = 001, subset = [1]\n",
      "mask = 010, subset = [2]\n",
      "mask = 011, subset = [1, 2]\n",
      "mask = 100, subset = [3]\n",
      "mask = 101, subset = [1, 3]\n",
      "mask = 110, subset = [2, 3]\n",
      "mask = 111, subset = [1, 2, 3]\n"
     ]
    }
   ],
   "source": [
    "arr = [1, 2, 3]\n",
    "n = len(arr)\n",
    "\n",
    "for mask in range(1 << n):  # 1 << 3 = 8, mask는 0부터 7까지\n",
    "    subset = []\n",
    "    for i in range(n):\n",
    "        if mask & (1 << i):\n",
    "            subset.append(arr[i])\n",
    "    print(f\"mask = {mask:03b}, subset = {subset}\")"
   ],
   "metadata": {
    "collapsed": false,
    "ExecuteTime": {
     "end_time": "2024-09-04T09:08:15.467504Z",
     "start_time": "2024-09-04T09:08:15.299640Z"
    }
   },
   "id": "f91436cd3607fa3a"
  },
  {
   "cell_type": "code",
   "execution_count": 107,
   "outputs": [
    {
     "name": "stdout",
     "output_type": "stream",
     "text": [
      "use the stairs\n"
     ]
    }
   ],
   "source": [
    "from collections import deque\n",
    "\n",
    "f, s, g, u, d = map(int, input().split())\n",
    "\n",
    "graph = [0]*(f+1)\n",
    "\n",
    "def bfs(s, g, u, d, graph):\n",
    "    q = deque()\n",
    "    q.append(s)\n",
    "\n",
    "    # s < g이고, up 버튼을 누르면 f를 초과할 경우\n",
    "    # s > g이고, down 버튼을 누르면 1 미만일 경우\n",
    "    # s + u != g 이고, u == d일 경우(무한 루프)\n",
    "    if ((s < g and s + u > f) or\n",
    "            (s + u != g and u == d) or\n",
    "            (s > g and (s - d < 1 or d == 0))):\n",
    "        return \"use the stairs\"\n",
    "\n",
    "    while q:\n",
    "        x = q.popleft()\n",
    "        \n",
    "        if x == g:\n",
    "            return graph[x]\n",
    "        \n",
    "        for move in [x+u, x-d]:\n",
    "            if (move > f or move < 1):\n",
    "                continue\n",
    "            else:\n",
    "                graph[move] = graph[x] + 1\n",
    "                q.append(move)\n",
    "\n",
    "\n",
    "print(bfs(s, g, u, d, graph))\n"
   ],
   "metadata": {
    "collapsed": false,
    "ExecuteTime": {
     "end_time": "2024-04-13T10:54:05.473287Z",
     "start_time": "2024-04-13T10:54:01.720021Z"
    }
   },
   "id": "73325ffccaaadea3"
  },
  {
   "cell_type": "code",
   "execution_count": 48,
   "outputs": [
    {
     "name": "stdout",
     "output_type": "stream",
     "text": [
      "80\n"
     ]
    }
   ],
   "source": [
    "for i in range(0):\n",
    "    print(i)"
   ],
   "metadata": {
    "collapsed": false,
    "ExecuteTime": {
     "end_time": "2024-05-19T09:40:32.125786Z",
     "start_time": "2024-05-19T09:40:24.364079Z"
    }
   },
   "id": "80c15a9951b26b3"
  },
  {
   "cell_type": "code",
   "execution_count": 50,
   "outputs": [
    {
     "data": {
      "text/plain": "[0, 2, 4]"
     },
     "execution_count": 50,
     "metadata": {},
     "output_type": "execute_result"
    }
   ],
   "source": [
    "import numpy as np\n",
    "int(np.log10(101))"
   ],
   "metadata": {
    "collapsed": false,
    "ExecuteTime": {
     "end_time": "2024-05-19T09:47:25.923337Z",
     "start_time": "2024-05-19T09:47:25.745914Z"
    }
   },
   "id": "9071e334f2566aff"
  },
  {
   "cell_type": "code",
   "execution_count": 22,
   "outputs": [
    {
     "name": "stdout",
     "output_type": "stream",
     "text": [
      "[7, 3, 9]\n"
     ]
    },
    {
     "data": {
      "text/plain": "[2, 1]"
     },
     "execution_count": 22,
     "metadata": {},
     "output_type": "execute_result"
    }
   ],
   "source": [
    "def solution(progresses, speeds):\n",
    "    answer = []\n",
    "    # 100 이상이 되게끔 하는 일 수를 찾고\n",
    "    # 앞 원소가 100이 되는 시점과 비교\n",
    "    # 앞 원소의 시점이 현재 원소의 시점보다 늦으면 배포에 포함\n",
    "    \n",
    "    for i in range(len(speeds)):\n",
    "        if (100 - progresses[i])%speeds[i]:\n",
    "            progresses[i] = (100 - progresses[i])//speeds[i] + 1\n",
    "        else:\n",
    "            progresses[i] = (100 - progresses[i])//speeds[i]\n",
    "    \n",
    "    start = progresses[0]\n",
    "    deploy = 1\n",
    "    for i in range(1, len(progresses)):\n",
    "        if start >= progresses[i]:\n",
    "            deploy += 1\n",
    "        else:\n",
    "            start = progresses[i]\n",
    "            deploy = 1\n",
    "        answer.append(deploy)\n",
    "\n",
    "    return answer\n",
    "\n",
    "solution([93, 30, 55], [1, 30, 5])"
   ],
   "metadata": {
    "collapsed": false,
    "ExecuteTime": {
     "end_time": "2024-06-12T12:35:05.550951Z",
     "start_time": "2024-06-12T12:35:05.492509Z"
    }
   },
   "id": "7cd203e96cf443df"
  },
  {
   "cell_type": "code",
   "execution_count": 14,
   "outputs": [
    {
     "name": "stdout",
     "output_type": "stream",
     "text": [
      "0\n",
      "1\n",
      "2\n",
      "3\n"
     ]
    }
   ],
   "source": [
    "a = [1,2,3,4]\n",
    "for i,c in enumerate(a):\n",
    "    print(i)"
   ],
   "metadata": {
    "collapsed": false,
    "ExecuteTime": {
     "end_time": "2024-06-07T06:39:58.855586Z",
     "start_time": "2024-06-07T06:39:58.282708Z"
    }
   },
   "id": "7739a4ef20a9fabe"
  },
  {
   "cell_type": "code",
   "execution_count": 19,
   "outputs": [
    {
     "name": "stdout",
     "output_type": "stream",
     "text": [
      "1 3\n",
      "2 4\n"
     ]
    }
   ],
   "source": [
    "a = [[1,2],[3,4]]\n",
    "for i, j in zip(*a):\n",
    "    print(i,j)"
   ],
   "metadata": {
    "collapsed": false,
    "ExecuteTime": {
     "end_time": "2024-06-07T07:50:20.565970Z",
     "start_time": "2024-06-07T07:50:20.530784Z"
    }
   },
   "id": "5cdfe31da0ff5173"
  },
  {
   "cell_type": "code",
   "execution_count": 69,
   "outputs": [
    {
     "name": "stdout",
     "output_type": "stream",
     "text": [
      "5\n"
     ]
    }
   ],
   "source": [
    "\"\"\"텍스트 한 줄을 단어 길이와 1의 쌍으로 변환\"\"\"\n",
    "import sys\n",
    "\n",
    "def tokenize_input():\n",
    "    \"\"\"표준 입력으로 들어오는 각 줄은 문자열 리스트로 분리\"\"\"\n",
    "    for line in sys.stdin:\n",
    "        yield line.split()\n",
    "    \n",
    "    # 표준 입력으로 각 줄을 읽고 각 단어별로 단어, 탭, 1 형태로 키-값쌍 만들기\n",
    "    \n",
    "    for line in tokenize_input():\n",
    "        for word in line:\n",
    "            print(str(len(word) + '\\t1'))\n",
    "            \n",
    "\"\"\"같은 단어 길이를 갖는 단어 수를 센다\"\"\"\n",
    "import sys\n",
    "from itertools import groupby\n",
    "from operator import itemgetter\n",
    "\n",
    "def tokenize_input():\n",
    "    \"\"\"표준 입력으로 들어오는 각 줄은 문자열 리스트로 분리\"\"\"\n",
    "    for line in sys.stdin:\n",
    "        yield line.split('\\t')\n",
    "\n",
    "# 단어 길이와 단어 수를 탭으로 분리한 키-값 쌍을 만든다\n",
    "for word_length, group in groupby(tokenize_input(), itemgetter(0)):\n",
    "    try:\n",
    "        total = sum(int(count) for word_length, count in group)\n",
    "        print(word_length + '\\t' + str(total))\n",
    "    except ValueError:\n",
    "        pass # 단어 수가 정수가 아니면 해닽 단어 무시\n",
    "        "
   ],
   "metadata": {
    "collapsed": false,
    "ExecuteTime": {
     "end_time": "2024-05-21T02:54:27.667710Z",
     "start_time": "2024-05-21T02:54:27.660603Z"
    }
   },
   "id": "4c858cc2aed6869b"
  }
 ],
 "metadata": {
  "kernelspec": {
   "display_name": "Python 3",
   "language": "python",
   "name": "python3"
  },
  "language_info": {
   "codemirror_mode": {
    "name": "ipython",
    "version": 2
   },
   "file_extension": ".py",
   "mimetype": "text/x-python",
   "name": "python",
   "nbconvert_exporter": "python",
   "pygments_lexer": "ipython2",
   "version": "2.7.6"
  }
 },
 "nbformat": 4,
 "nbformat_minor": 5
}
