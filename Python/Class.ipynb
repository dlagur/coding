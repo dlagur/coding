{
 "cells": [
  {
   "cell_type": "code",
   "execution_count": 4,
   "id": "95d47dc1",
   "metadata": {},
   "outputs": [
    {
     "data": {
      "text/plain": [
       "'C:\\\\Users\\\\limhy'"
      ]
     },
     "execution_count": 4,
     "metadata": {},
     "output_type": "execute_result"
    }
   ],
   "source": [
    "import os\n",
    "os.getcwd()"
   ]
  },
  {
   "cell_type": "code",
   "execution_count": 5,
   "id": "2066dbec",
   "metadata": {},
   "outputs": [],
   "source": [
    "os.chdir('C:/Users/limhy/Downloads/PythonForProgrammers-master/PythonForProgrammers-master/examples/ch10')"
   ]
  },
  {
   "cell_type": "code",
   "execution_count": 3,
   "id": "724b5625",
   "metadata": {},
   "outputs": [],
   "source": [
    "from account import Account"
   ]
  },
  {
   "cell_type": "code",
   "execution_count": 4,
   "id": "4e1dd7e3",
   "metadata": {},
   "outputs": [],
   "source": [
    "from decimal import Decimal"
   ]
  },
  {
   "cell_type": "code",
   "execution_count": 5,
   "id": "4fa2ca2a",
   "metadata": {},
   "outputs": [],
   "source": [
    "value = Decimal('12.34')"
   ]
  },
  {
   "cell_type": "code",
   "execution_count": 6,
   "id": "6021fbd8",
   "metadata": {},
   "outputs": [],
   "source": [
    "account1 = Account('John Green', Decimal('50.00'))"
   ]
  },
  {
   "cell_type": "code",
   "execution_count": 7,
   "id": "49c59f8a",
   "metadata": {},
   "outputs": [
    {
     "data": {
      "text/plain": [
       "'John Green'"
      ]
     },
     "execution_count": 7,
     "metadata": {},
     "output_type": "execute_result"
    }
   ],
   "source": [
    "account1.name"
   ]
  },
  {
   "cell_type": "code",
   "execution_count": 8,
   "id": "d986ee6d",
   "metadata": {},
   "outputs": [
    {
     "data": {
      "text/plain": [
       "Decimal('50.00')"
      ]
     },
     "execution_count": 8,
     "metadata": {},
     "output_type": "execute_result"
    }
   ],
   "source": [
    "account1.balance"
   ]
  },
  {
   "cell_type": "code",
   "execution_count": 9,
   "id": "711bd56a",
   "metadata": {},
   "outputs": [
    {
     "data": {
      "text/plain": [
       "Decimal('75.53')"
      ]
     },
     "execution_count": 9,
     "metadata": {},
     "output_type": "execute_result"
    }
   ],
   "source": [
    "# Account의 deposit 메서드는 돈을 받아서 balance에 저장\n",
    "account1.deposit(Decimal('25.53'))\n",
    "\n",
    "account1.balance"
   ]
  },
  {
   "cell_type": "code",
   "execution_count": 10,
   "id": "6547d903",
   "metadata": {},
   "outputs": [],
   "source": [
    "# account.py\n",
    "\"\"\"Account 클래스 정의\"\"\"\n",
    "from decimal import Decimal\n",
    "\n",
    "class Account:\n",
    "    \"\"\"은행 계좌를 관리하는 Account 클래스\"\"\""
   ]
  },
  {
   "cell_type": "code",
   "execution_count": 11,
   "id": "63ddf5b3",
   "metadata": {},
   "outputs": [
    {
     "ename": "SyntaxError",
     "evalue": "invalid syntax (4162755057.py, line 1)",
     "output_type": "error",
     "traceback": [
      "\u001b[1;36m  Input \u001b[1;32mIn [11]\u001b[1;36m\u001b[0m\n\u001b[1;33m    Account? # 클래스를 설명하는 독스트링 호출\u001b[0m\n\u001b[1;37m           ^\u001b[0m\n\u001b[1;31mSyntaxError\u001b[0m\u001b[1;31m:\u001b[0m invalid syntax\n"
     ]
    }
   ],
   "source": [
    "Account? # 클래스를 설명하는 독스트링 호출"
   ]
  },
  {
   "cell_type": "code",
   "execution_count": 12,
   "id": "0acf92e3",
   "metadata": {},
   "outputs": [],
   "source": [
    "# 데이터 접근을 위한 프로퍼티\n",
    "from timewithproperties import Time\n",
    "\n",
    "wake_up = Time(hour=6, minute=30) # second = 0(기본값) 지정"
   ]
  },
  {
   "cell_type": "code",
   "execution_count": 13,
   "id": "c7a8d051",
   "metadata": {},
   "outputs": [
    {
     "data": {
      "text/plain": [
       "Time(hour=6, minute=30, second=0)"
      ]
     },
     "execution_count": 13,
     "metadata": {},
     "output_type": "execute_result"
    }
   ],
   "source": [
    "wake_up"
   ]
  },
  {
   "cell_type": "code",
   "execution_count": 14,
   "id": "2bd9a11e",
   "metadata": {},
   "outputs": [
    {
     "name": "stdout",
     "output_type": "stream",
     "text": [
      "6:30:00 AM\n"
     ]
    }
   ],
   "source": [
    "print(wake_up)"
   ]
  },
  {
   "cell_type": "code",
   "execution_count": 15,
   "id": "229e304d",
   "metadata": {},
   "outputs": [
    {
     "data": {
      "text/plain": [
       "6"
      ]
     },
     "execution_count": 15,
     "metadata": {},
     "output_type": "execute_result"
    }
   ],
   "source": [
    "wake_up.hour # 데이터 속성의 값을 반환하는 hour 메서드를 호출"
   ]
  },
  {
   "cell_type": "code",
   "execution_count": 16,
   "id": "bec0bf36",
   "metadata": {},
   "outputs": [
    {
     "data": {
      "text/plain": [
       "Time(hour=7, minute=45, second=0)"
      ]
     },
     "execution_count": 16,
     "metadata": {},
     "output_type": "execute_result"
    }
   ],
   "source": [
    "wake_up.set_time(hour=7, minute=45)\n",
    "\n",
    "wake_up"
   ]
  },
  {
   "cell_type": "code",
   "execution_count": 17,
   "id": "d40f8a12",
   "metadata": {},
   "outputs": [
    {
     "data": {
      "text/plain": [
       "Time(hour=6, minute=45, second=0)"
      ]
     },
     "execution_count": 17,
     "metadata": {},
     "output_type": "execute_result"
    }
   ],
   "source": [
    "wake_up.hour = 6 # 6을 인자로 받는 hour 메서드 호출\n",
    "\n",
    "wake_up"
   ]
  },
  {
   "cell_type": "code",
   "execution_count": 18,
   "id": "3eec0867",
   "metadata": {},
   "outputs": [],
   "source": [
    "# timewithproperties.py\n",
    "\n",
    "\"\"\"읽기 전용 프로퍼티를 가진 Time 클래스\"\"\"\n",
    "\n",
    "class Time:\n",
    "    \"\"\"읽기 전용 프로퍼티를 가진 Time 클래스\"\"\"\n",
    "    \n",
    "    def __init__(self, hour=0, minute=0, second=0):\n",
    "        \"\"\"각 속성 초기화\"\"\"\n",
    "        self.hour = hour # 0-23\n",
    "        self.minute = minute # 0-59\n",
    "        self.second = second # 0-59"
   ]
  },
  {
   "cell_type": "code",
   "execution_count": 19,
   "id": "83d6265b",
   "metadata": {},
   "outputs": [],
   "source": [
    "@property\n",
    "def hour(self):\n",
    "    \"\"\"시 반환\"\"\"\n",
    "    return self._hour\n",
    "\n",
    "@hour.setter\n",
    "def hour(self, hour):\n",
    "    \"\"\"시 설정\"\"\"\n",
    "    if not (0 <= hour < 24):\n",
    "        raise ValueError(f'Hour ({hour}) must be 0-23')\n",
    "    \n",
    "    self._hour = hour"
   ]
  },
  {
   "cell_type": "code",
   "execution_count": 20,
   "id": "11600cf7",
   "metadata": {},
   "outputs": [],
   "source": [
    "@property\n",
    "def minute(self):\n",
    "    \"\"\"분 반환\"\"\"\n",
    "    return self._minute\n",
    "\n",
    "@minute.setter\n",
    "def minute(self, minute):\n",
    "    \"\"\"분 설정\"\"\"\n",
    "    if not (0 <= minute < 60):\n",
    "        raise ValueError(f'Minute ({minute}) must be 0-59')\n",
    "    \n",
    "    self._minute = minute\n",
    "    \n",
    "@property\n",
    "def second(self):\n",
    "    \"\"\"초 반환\"\"\"\n",
    "    return self._second\n",
    "\n",
    "@second.setter\n",
    "def second(self, second):\n",
    "    \"\"\"초 설정\"\"\"\n",
    "    if not (0 <= second < 60):\n",
    "        raise ValueError(f'Second({second}) must be 0-59')\n",
    "        \n",
    "    self._second = second"
   ]
  },
  {
   "cell_type": "code",
   "execution_count": 21,
   "id": "aa220f9f",
   "metadata": {},
   "outputs": [],
   "source": [
    "def set_time(self, hour=0, minute=0, second=0):\n",
    "    \"\"\"시, 분, 초 설정\"\"\"\n",
    "    self.hour = hour\n",
    "    self.minute = minute\n",
    "    self.second = second"
   ]
  },
  {
   "cell_type": "code",
   "execution_count": 22,
   "id": "e349e867",
   "metadata": {},
   "outputs": [],
   "source": [
    "def __repr__(self):\n",
    "    \"\"\"repr()를 위한 Time 객체 문자 표현 반환\"\"\"\n",
    "    return (f'Time(hour={self.hour}, minute={self.minute}, second={self.second})')"
   ]
  },
  {
   "cell_type": "code",
   "execution_count": 23,
   "id": "068710cc",
   "metadata": {},
   "outputs": [],
   "source": [
    "def __str__(self):\n",
    "    \"\"\"Time을 12시간으로 반환\"\"\"\n",
    "    return (('12' if self.hour in (0,12) else str(self.hour % 12)) + \n",
    "           f':{self.minute:0>2}:{self.second:0>2}' + \n",
    "            ('AM' if self.hour < 12 else ' PM'))"
   ]
  },
  {
   "cell_type": "code",
   "execution_count": 24,
   "id": "84d4c80f",
   "metadata": {},
   "outputs": [
    {
     "data": {
      "text/plain": [
       "<bound method Time.set_time of Time(hour=6, minute=45, second=0)>"
      ]
     },
     "execution_count": 24,
     "metadata": {},
     "output_type": "execute_result"
    }
   ],
   "source": [
    "wake_up.set_time"
   ]
  },
  {
   "cell_type": "code",
   "execution_count": 25,
   "id": "6d298937",
   "metadata": {},
   "outputs": [],
   "source": [
    "# private.py\n",
    "\"\"\"공개와 비공개 속성을 가진 클래스\"\"\"\n",
    "\n",
    "class PrivateClass:\n",
    "    \"\"\"공개와 비공개 속성을 가진 클래스\"\"\"\n",
    "    \n",
    "    def __init__(self):\n",
    "        \"\"\"공개와 비공개 속성 초기화하기\"\"\"\n",
    "        self.public_data = \"public\" # 공개 속성\n",
    "        self.__public_data = \"private\" # 비공개 속성"
   ]
  },
  {
   "cell_type": "code",
   "execution_count": 26,
   "id": "163d3bfe",
   "metadata": {},
   "outputs": [],
   "source": [
    "from private import PrivateClass\n",
    "my_object = PrivateClass()"
   ]
  },
  {
   "cell_type": "code",
   "execution_count": 27,
   "id": "706d60d9",
   "metadata": {},
   "outputs": [
    {
     "data": {
      "text/plain": [
       "'public'"
      ]
     },
     "execution_count": 27,
     "metadata": {},
     "output_type": "execute_result"
    }
   ],
   "source": [
    "my_object.public_data"
   ]
  },
  {
   "cell_type": "code",
   "execution_count": 28,
   "id": "747c3a09",
   "metadata": {},
   "outputs": [
    {
     "ename": "AttributeError",
     "evalue": "'PrivateClass' object has no attribute '__public_data'",
     "output_type": "error",
     "traceback": [
      "\u001b[1;31m---------------------------------------------------------------------------\u001b[0m",
      "\u001b[1;31mAttributeError\u001b[0m                            Traceback (most recent call last)",
      "Input \u001b[1;32mIn [28]\u001b[0m, in \u001b[0;36m<cell line: 1>\u001b[1;34m()\u001b[0m\n\u001b[1;32m----> 1\u001b[0m \u001b[43mmy_object\u001b[49m\u001b[38;5;241;43m.\u001b[39;49m\u001b[43m__public_data\u001b[49m\n",
      "\u001b[1;31mAttributeError\u001b[0m: 'PrivateClass' object has no attribute '__public_data'"
     ]
    }
   ],
   "source": [
    "my_object.__public_data"
   ]
  },
  {
   "cell_type": "code",
   "execution_count": 29,
   "id": "28a229d6",
   "metadata": {},
   "outputs": [],
   "source": [
    "from deck import DeckOfCards\n",
    "\n",
    "deck_of_cards = DeckOfCards()"
   ]
  },
  {
   "cell_type": "code",
   "execution_count": 30,
   "id": "bdbd9341",
   "metadata": {},
   "outputs": [
    {
     "name": "stdout",
     "output_type": "stream",
     "text": [
      "Ace of Hearts      2 of Hearts        3 of Hearts        4 of Hearts        \n",
      "5 of Hearts        6 of Hearts        7 of Hearts        8 of Hearts        \n",
      "9 of Hearts        10 of Hearts       Jack of Hearts     Queen of Hearts    \n",
      "King of Hearts     Ace of Diamonds    2 of Diamonds      3 of Diamonds      \n",
      "4 of Diamonds      5 of Diamonds      6 of Diamonds      7 of Diamonds      \n",
      "8 of Diamonds      9 of Diamonds      10 of Diamonds     Jack of Diamonds   \n",
      "Queen of Diamonds  King of Diamonds   Ace of Clubs       2 of Clubs         \n",
      "3 of Clubs         4 of Clubs         5 of Clubs         6 of Clubs         \n",
      "7 of Clubs         8 of Clubs         9 of Clubs         10 of Clubs        \n",
      "Jack of Clubs      Queen of Clubs     King of Clubs      Ace of Spades      \n",
      "2 of Spades        3 of Spades        4 of Spades        5 of Spades        \n",
      "6 of Spades        7 of Spades        8 of Spades        9 of Spades        \n",
      "10 of Spades       Jack of Spades     Queen of Spades    King of Spades     \n",
      "\n"
     ]
    }
   ],
   "source": [
    "print(deck_of_cards)"
   ]
  },
  {
   "cell_type": "code",
   "execution_count": 31,
   "id": "9fd3b1c6",
   "metadata": {},
   "outputs": [],
   "source": [
    "deck_of_cards.shuffle()"
   ]
  },
  {
   "cell_type": "code",
   "execution_count": 32,
   "id": "c328cb14",
   "metadata": {},
   "outputs": [
    {
     "name": "stdout",
     "output_type": "stream",
     "text": [
      "King of Spades     3 of Diamonds      8 of Hearts        7 of Hearts        \n",
      "2 of Diamonds      8 of Spades        Queen of Clubs     4 of Clubs         \n",
      "3 of Spades        Ace of Diamonds    9 of Diamonds      Jack of Hearts     \n",
      "Ace of Spades      10 of Hearts       8 of Diamonds      Queen of Spades    \n",
      "2 of Hearts        6 of Hearts        5 of Spades        King of Clubs      \n",
      "King of Diamonds   6 of Clubs         Jack of Diamonds   6 of Spades        \n",
      "4 of Diamonds      Ace of Hearts      9 of Hearts        King of Hearts     \n",
      "7 of Diamonds      4 of Hearts        10 of Clubs        Queen of Hearts    \n",
      "7 of Clubs         5 of Diamonds      Jack of Clubs      9 of Spades        \n",
      "4 of Spades        3 of Clubs         8 of Clubs         5 of Clubs         \n",
      "6 of Diamonds      5 of Hearts        Queen of Diamonds  Jack of Spades     \n",
      "3 of Hearts        2 of Clubs         2 of Spades        10 of Spades       \n",
      "9 of Clubs         7 of Spades        10 of Diamonds     Ace of Clubs       \n",
      "\n"
     ]
    }
   ],
   "source": [
    "print(deck_of_cards)"
   ]
  },
  {
   "cell_type": "code",
   "execution_count": 33,
   "id": "196dcfb3",
   "metadata": {},
   "outputs": [
    {
     "data": {
      "text/plain": [
       "Card(face='King', suit='Spades')"
      ]
     },
     "execution_count": 33,
     "metadata": {},
     "output_type": "execute_result"
    }
   ],
   "source": [
    "deck_of_cards.deal_card()"
   ]
  },
  {
   "cell_type": "code",
   "execution_count": 34,
   "id": "bbcde3b9",
   "metadata": {},
   "outputs": [
    {
     "data": {
      "text/plain": [
       "'3 of Diamonds'"
      ]
     },
     "execution_count": 34,
     "metadata": {},
     "output_type": "execute_result"
    }
   ],
   "source": [
    "card = deck_of_cards.deal_card()\n",
    "\n",
    "str(card)"
   ]
  },
  {
   "cell_type": "code",
   "execution_count": 35,
   "id": "02dcfcae",
   "metadata": {},
   "outputs": [
    {
     "data": {
      "text/plain": [
       "'3_of_Diamonds.png'"
      ]
     },
     "execution_count": 35,
     "metadata": {},
     "output_type": "execute_result"
    }
   ],
   "source": [
    "card.image_name"
   ]
  },
  {
   "cell_type": "code",
   "execution_count": 36,
   "id": "67da49e4",
   "metadata": {},
   "outputs": [],
   "source": [
    "# card.py\n",
    "\"\"\"카드와 그 카드의 이미지 파일명을 표현하는 Card 클래스.\"\"\"\n",
    "\n",
    "class card:\n",
    "    FACES = ['Ace', '1', '2', '3', '4', '5', '6', '7', '8', '9', '10', 'Jack', 'Queen', 'King']\n",
    "    SUITS = ['Hearts', 'Diamonds', 'Clubs', 'Spades']\n",
    "    \n",
    "    def __init__(self, face, suit):\n",
    "        \"\"\"페이스와 스위트로 Card 객체를 초기화한다\"\"\"\n",
    "        self._face = face\n",
    "        self._suit = suit"
   ]
  },
  {
   "cell_type": "code",
   "execution_count": 37,
   "id": "b5af341c",
   "metadata": {},
   "outputs": [],
   "source": [
    "@property\n",
    "def face(self):\n",
    "    \"\"\"Card의 self._face를 반환한다\"\"\"\n",
    "    return self._face\n",
    "\n",
    "@property\n",
    "def suit(self):\n",
    "    \"\"\"Card의 self._suit를 반환한다\"\"\"\n",
    "    return self._suit\n",
    "\n",
    "@property\n",
    "def image_name(self):\n",
    "    \"\"\"Card의 이미지 파일명을 반환한다\"\"\"\n",
    "    return str(self).replace(' ', '_') + '.png'"
   ]
  },
  {
   "cell_type": "code",
   "execution_count": 38,
   "id": "3f7e100e",
   "metadata": {},
   "outputs": [],
   "source": [
    "def __repr__(self):\n",
    "    \"\"\"repr() 함수에 사용될 문자열 반환\"\"\"\n",
    "    return f\"Card(face='{self.face}', suit='{self.suit}')\"\n",
    "\n",
    "def __str__(self):\n",
    "    \"\"\"str() 함수에 사용될 문자열 반환\"\"\"\n",
    "    return f'{self.face} of {self.suit}'\n",
    "\n",
    "def __format__(self):\n",
    "    \"\"\"서식이 적용된 문자열을 반환\"\"\"\n",
    "    return f'{str(self):{format}}'"
   ]
  },
  {
   "cell_type": "code",
   "execution_count": 39,
   "id": "4678e734",
   "metadata": {},
   "outputs": [],
   "source": [
    "\"\"\"카드와 그 카드의 이미지 파일명을 표현하는 Card 클래스.\"\"\"\n",
    "\n",
    "class card:\n",
    "    FACES = ['Ace', '1', '2', '3', '4', '5', '6', '7', '8', '9', '10', 'Jack', 'Queen', 'King']\n",
    "    SUITS = ['Hearts', 'Diamonds', 'Clubs', 'Spades']\n",
    "    \n",
    "    def __init__(self, face, suit):\n",
    "        \"\"\"페이스와 스위트로 Card 객체를 초기화한다\"\"\"\n",
    "        self._face = face\n",
    "        self._suit = suit\n",
    "    \n",
    "    @property\n",
    "    def face(self):\n",
    "        \"\"\"Card의 self._face를 반환한다\"\"\"\n",
    "        return self._face\n",
    "\n",
    "    @property\n",
    "    def suit(self):\n",
    "        \"\"\"Card의 self._suit를 반환한다\"\"\"\n",
    "        return self._suit\n",
    "\n",
    "    @property\n",
    "    def image_name(self):\n",
    "        \"\"\"Card의 이미지 파일명을 반환한다\"\"\"\n",
    "        return str(self).replace(' ', '_') + '.png'\n",
    "    \n",
    "    def __repr__(self):\n",
    "        \"\"\"repr() 함수에 사용될 문자열 반환\"\"\"\n",
    "        return f\"Card(face='{self.face}', suit='{self.suit}')\"\n",
    "\n",
    "    def __str__(self):\n",
    "        \"\"\"str() 함수에 사용될 문자열 반환\"\"\"\n",
    "        return f'{self.face} of {self.suit}'\n",
    "\n",
    "    def __format__(self):\n",
    "        \"\"\"서식이 적용된 문자열을 반환\"\"\"\n",
    "        return f'{str(self):{format}}'\n",
    "    \n",
    "    "
   ]
  },
  {
   "cell_type": "code",
   "execution_count": 40,
   "id": "6286b4d0",
   "metadata": {},
   "outputs": [],
   "source": [
    "# deck.py\n",
    "\"\"\"카드 덱을 표현하는 Deck 클래스\"\"\"\n",
    "\n",
    "import random\n",
    "from card import Card\n",
    "\n",
    "class DeckOfCards:\n",
    "    NUMBER_PF_CARDS = 52\n",
    "    \n",
    "    def __init__(self):\n",
    "        \"\"\"덱 초기화.\"\"\"\n",
    "        self._current_card = 0\n",
    "        self._deck = []\n",
    "\n",
    "        for count in range(DeckOfCards.NUMBER_OF_CARDS):\n",
    "            self._deck.append(Card(Card.FACES[count % 13], Card.SUITS[count // 13]))\n",
    "\n",
    "    def shuffle(self):\n",
    "        \"\"\"덱 섞기\"\"\"\n",
    "        self._current_card = 0\n",
    "        random.shuffle(self._deck)\n",
    "        \n",
    "    def deal_card(self):\n",
    "        \"\"\"카드 하나 반환하기\"\"\"\n",
    "        try:\n",
    "            card = self._deck[self._current_card]\n",
    "            self._current_card += 1\n",
    "            return card\n",
    "        except:\n",
    "            return None\n",
    "    \n",
    "    def __str__(self):\n",
    "        \"\"\"현재 _deck의 문자열 표현 반환\"\"\"\n",
    "        s = ''\n",
    "        \n",
    "        for index, card in enumerate(self._deck):\n",
    "            s += f'{self._deck[index]:<19}'\n",
    "            if (index + 1) % 4 == 0:\n",
    "                s += '\\n'\n",
    "                \n",
    "        return s"
   ]
  },
  {
   "cell_type": "code",
   "execution_count": 41,
   "id": "d7b4e2ba",
   "metadata": {},
   "outputs": [
    {
     "name": "stdout",
     "output_type": "stream",
     "text": [
      "Using matplotlib backend: <object object at 0x000002DEC9FC6E20>\n"
     ]
    }
   ],
   "source": [
    "from deck import DeckOfCards\n",
    "\n",
    "deck_of_cards = DeckOfCards()\n",
    "\n",
    "%matplotlib"
   ]
  },
  {
   "cell_type": "code",
   "execution_count": 42,
   "id": "084e2dfc",
   "metadata": {},
   "outputs": [],
   "source": [
    "from pathlib import Path\n",
    "path = Path('.').joinpath('card_images')"
   ]
  },
  {
   "cell_type": "code",
   "execution_count": 44,
   "id": "791b513d",
   "metadata": {},
   "outputs": [
    {
     "data": {
      "text/plain": [
       "(<Figure size 640x480 with 52 Axes>,\n",
       " array([[<AxesSubplot:>, <AxesSubplot:>, <AxesSubplot:>, <AxesSubplot:>,\n",
       "         <AxesSubplot:>, <AxesSubplot:>, <AxesSubplot:>, <AxesSubplot:>,\n",
       "         <AxesSubplot:>, <AxesSubplot:>, <AxesSubplot:>, <AxesSubplot:>,\n",
       "         <AxesSubplot:>],\n",
       "        [<AxesSubplot:>, <AxesSubplot:>, <AxesSubplot:>, <AxesSubplot:>,\n",
       "         <AxesSubplot:>, <AxesSubplot:>, <AxesSubplot:>, <AxesSubplot:>,\n",
       "         <AxesSubplot:>, <AxesSubplot:>, <AxesSubplot:>, <AxesSubplot:>,\n",
       "         <AxesSubplot:>],\n",
       "        [<AxesSubplot:>, <AxesSubplot:>, <AxesSubplot:>, <AxesSubplot:>,\n",
       "         <AxesSubplot:>, <AxesSubplot:>, <AxesSubplot:>, <AxesSubplot:>,\n",
       "         <AxesSubplot:>, <AxesSubplot:>, <AxesSubplot:>, <AxesSubplot:>,\n",
       "         <AxesSubplot:>],\n",
       "        [<AxesSubplot:>, <AxesSubplot:>, <AxesSubplot:>, <AxesSubplot:>,\n",
       "         <AxesSubplot:>, <AxesSubplot:>, <AxesSubplot:>, <AxesSubplot:>,\n",
       "         <AxesSubplot:>, <AxesSubplot:>, <AxesSubplot:>, <AxesSubplot:>,\n",
       "         <AxesSubplot:>]], dtype=object))"
      ]
     },
     "execution_count": 44,
     "metadata": {},
     "output_type": "execute_result"
    }
   ],
   "source": [
    "plt.subplots(nrows=4, ncols=13)"
   ]
  },
  {
   "cell_type": "code",
   "execution_count": 45,
   "id": "227170cf",
   "metadata": {},
   "outputs": [
    {
     "data": {
      "image/png": "[encoded data removed]",
      "text/plain": [
       "<Figure size 640x480 with 52 Axes>"
      ]
     },
     "execution_count": 45,
     "metadata": {},
     "output_type": "execute_result"
    }
   ],
   "source": [
    "figure"
   ]
  },
  {
   "cell_type": "code",
   "execution_count": 46,
   "id": "5be8a9cf",
   "metadata": {},
   "outputs": [
    {
     "data": {
      "text/plain": [
       "array([[<AxesSubplot:>, <AxesSubplot:>, <AxesSubplot:>, <AxesSubplot:>,\n",
       "        <AxesSubplot:>, <AxesSubplot:>, <AxesSubplot:>, <AxesSubplot:>,\n",
       "        <AxesSubplot:>, <AxesSubplot:>, <AxesSubplot:>, <AxesSubplot:>,\n",
       "        <AxesSubplot:>],\n",
       "       [<AxesSubplot:>, <AxesSubplot:>, <AxesSubplot:>, <AxesSubplot:>,\n",
       "        <AxesSubplot:>, <AxesSubplot:>, <AxesSubplot:>, <AxesSubplot:>,\n",
       "        <AxesSubplot:>, <AxesSubplot:>, <AxesSubplot:>, <AxesSubplot:>,\n",
       "        <AxesSubplot:>],\n",
       "       [<AxesSubplot:>, <AxesSubplot:>, <AxesSubplot:>, <AxesSubplot:>,\n",
       "        <AxesSubplot:>, <AxesSubplot:>, <AxesSubplot:>, <AxesSubplot:>,\n",
       "        <AxesSubplot:>, <AxesSubplot:>, <AxesSubplot:>, <AxesSubplot:>,\n",
       "        <AxesSubplot:>],\n",
       "       [<AxesSubplot:>, <AxesSubplot:>, <AxesSubplot:>, <AxesSubplot:>,\n",
       "        <AxesSubplot:>, <AxesSubplot:>, <AxesSubplot:>, <AxesSubplot:>,\n",
       "        <AxesSubplot:>, <AxesSubplot:>, <AxesSubplot:>, <AxesSubplot:>,\n",
       "        <AxesSubplot:>]], dtype=object)"
      ]
     },
     "execution_count": 46,
     "metadata": {},
     "output_type": "execute_result"
    }
   ],
   "source": [
    "axes_list"
   ]
  },
  {
   "cell_type": "code",
   "execution_count": 48,
   "id": "264a36bf",
   "metadata": {},
   "outputs": [],
   "source": [
    "import matplotlib.pyplot as plt\n",
    "import matplotlib.image as mpimg # 이미지 로드\n",
    "from deck import DeckOfCards\n",
    "\n",
    "deck_of_cards = DeckOfCards()\n",
    "figure, axes_list = plt.subplots(nrows=4, ncols=13)\n",
    "\n",
    "for axes in axes_list.ravel():\n",
    "    axes.get_xaxis().set_visible(False)\n",
    "    axes.get_yaxis().set_visible(False)\n",
    "    image_name = deck_of_cards.deal_card().image_name\n",
    "    img = mpimg.imread(str(path.joinpath(image_name).resolve()))\n",
    "    axes.imshow(img)"
   ]
  },
  {
   "cell_type": "code",
   "execution_count": 49,
   "id": "33f8a9fc",
   "metadata": {},
   "outputs": [],
   "source": [
    "figure.tight_layout()"
   ]
  },
  {
   "cell_type": "code",
   "execution_count": 1,
   "id": "2603ccc4",
   "metadata": {},
   "outputs": [],
   "source": [
    "# commissionemployee.py\n",
    "\"\"\"CommissionEmployee의 기반 클래스\"\"\"\n",
    "from decimal import Decimal\n",
    "\n",
    "class CommissionEmployee:\n",
    "    \"\"\"총 판매액을 기초로 수수료를 받는 직원\"\"\"\n",
    "    \n",
    "    def __init__(self, first_name, last_name, ssn, gross_sales, commission_rate):\n",
    "        \"\"\"CommissionEmployee의 속성 초기화\"\"\"\n",
    "        self._first_name = first_name\n",
    "        self._last_name = last_name\n",
    "        self._ssn = ssn\n",
    "        self.gross_sales = gross_sales # 프로퍼티로 검증\n",
    "        self.commission_rate = commission_rate # 프로퍼티로 검증\n",
    "        \n",
    "    @property\n",
    "    def first_name(self):\n",
    "        return self._first_name\n",
    "    \n",
    "    @property\n",
    "    def last_name(self):\n",
    "        return self._last_name\n",
    "    \n",
    "    @property\n",
    "    def ssn(self):\n",
    "        return self._ssn\n",
    "    \n",
    "    @property\n",
    "    def gross_sales(self):\n",
    "        return self._gross_sales\n",
    "    \n",
    "    @gross_sales.setter\n",
    "    def gross_sales(self, sales):\n",
    "        \"\"\"판매액 설정. 올바르지 않은 데이터가 있으면 ValueError 발생\"\"\"\n",
    "        if sales < Decimal('0.00'):\n",
    "            raise ValueError('Gross sales must be >= to 0')\n",
    "            \n",
    "        self._gross_sales = sales\n",
    "        \n",
    "    @property\n",
    "    def commission_rate(self):\n",
    "        return self._commission_rate\n",
    "    \n",
    "    @commission_rate.setter\n",
    "    def commission_rate(self, rate):\n",
    "        \"\"\"수수료율 설정, 데이터가 올바르지 않으면 ValueError 발생\"\"\"\n",
    "        if not (Decimal('0.0') < rate < Decimal('1.0')):\n",
    "            raise ValueError(\n",
    "            'Interest rate must be greater than 0 and less than 1')\n",
    "            \n",
    "        self._commission_rate = rate\n",
    "        \n",
    "    def earnings(self):\n",
    "        \"\"\"임금 계산하기\"\"\"\n",
    "        return self.gross_sales * self.commission_rate\n",
    "    \n",
    "    def __repr__(self):\n",
    "        \"\"\"repr()에 대한 문자열 표현 반환\"\"\"\n",
    "        return ('CommissionEmployee: ' + \n",
    "               f'{self.first_name} {self.last_name}\\n' +\n",
    "               f'사회보장번호 : {self.ssn}\\n' +\n",
    "               f'총 판매액: {self.gross_sales:.2f}\\n'  +\n",
    "               f'수수료 률: {self.commission_rate:.2f}')"
   ]
  },
  {
   "cell_type": "code",
   "execution_count": 6,
   "id": "8d6d2808",
   "metadata": {},
   "outputs": [
    {
     "data": {
      "text/plain": [
       "CommissionEmployee: Sue Jones\n",
       "social security number: 333-33-3333\n",
       "gross sales: 10000.00\n",
       "commission rate: 0.06"
      ]
     },
     "execution_count": 6,
     "metadata": {},
     "output_type": "execute_result"
    }
   ],
   "source": [
    "from commissionemployee import CommissionEmployee\n",
    "\n",
    "from decimal import Decimal\n",
    "\n",
    "c = CommissionEmployee('Sue', 'Jones', '333-33-3333',\n",
    "                      Decimal('10000.00'), Decimal('0.06'))\n",
    "c"
   ]
  },
  {
   "cell_type": "code",
   "execution_count": 7,
   "id": "857436a0",
   "metadata": {},
   "outputs": [
    {
     "name": "stdout",
     "output_type": "stream",
     "text": [
      "600.00\n"
     ]
    }
   ],
   "source": [
    "print(f'{c.earnings():.2f}')"
   ]
  },
  {
   "cell_type": "code",
   "execution_count": 8,
   "id": "b9d374bb",
   "metadata": {},
   "outputs": [
    {
     "name": "stdout",
     "output_type": "stream",
     "text": [
      "2000.00\n"
     ]
    }
   ],
   "source": [
    "c.gross_sales = Decimal('20000.00')\n",
    "c.commission_rate = Decimal('0.1')\n",
    "print(f'{c.earnings():.2f}')"
   ]
  },
  {
   "cell_type": "code",
   "execution_count": 10,
   "id": "865348d1",
   "metadata": {},
   "outputs": [],
   "source": [
    "# salariedcommissionemployee.py\n",
    "\"\"\"CommissionEmployee를 상속한 SalariedCommissionEmployee\"\"\"\n",
    "from commissionemployee import CommissionEmployee\n",
    "from decimal import Decimal\n",
    "\n",
    "class SalariedCommissionEmployee(CommissionEmployee):\n",
    "    \"\"\"기본급과 총 판매액을 기반으로 수수료를 받는 직원\"\"\"\n",
    "    \n",
    "    def __init__(self, first_name, last_name, ssn, gross_sales, commission_rate, base_salary):\n",
    "        \"\"\"SalariedCommissionEmployee 속성 초기화\"\"\"\n",
    "        super().__init__(first_name, last_name, ssn, gross_sales, commission_rate)\n",
    "        self.base_salary = base_salary # 프로퍼티로 검증하기\n",
    "        \n",
    "    @property\n",
    "    def base_salary(self):\n",
    "        return self._base_salary\n",
    "    \n",
    "    @base_salary.setter\n",
    "    def base_salary(self, salary):\n",
    "        \"\"\"기본급 설정. 올바르지 못하면 ValueError 발생.\"\"\"\n",
    "        if salary < Decimal('0.00'):\n",
    "            raise ValueError('Base salary must be >= to 0')\n",
    "        \n",
    "        self.base_salary = salary\n",
    "        \n",
    "    def earnings(self):\n",
    "        \"\"\"급여 계산\"\"\"\n",
    "        return super().earnings() + self.base_salary\n",
    "    \n",
    "    def __repr__(self):\n",
    "        \"\"\"repr() 함수를 위한 문자열 표현 반환\"\"\"\n",
    "        return ('Salaried' + super().__repr__() + f'\\n기본급: {self.base_salary:.2f}')"
   ]
  },
  {
   "cell_type": "code",
   "execution_count": 12,
   "id": "7abdbeed",
   "metadata": {},
   "outputs": [
    {
     "name": "stdout",
     "output_type": "stream",
     "text": [
      "Bob Lewis 444-44-4444 5000.00 0.04 300.00\n"
     ]
    }
   ],
   "source": [
    "from salariedcommissionemployee import SalariedCommissionEmployee\n",
    "\n",
    "s = SalariedCommissionEmployee('Bob', 'Lewis', '444-44-4444', Decimal('5000.00'), Decimal('0.04'), Decimal('300.00 '))\n",
    "\n",
    "print(s.first_name, s.last_name, s.ssn, s.gross_sales, s.commission_rate, s.base_salary)"
   ]
  },
  {
   "cell_type": "code",
   "execution_count": 13,
   "id": "600b1a7a",
   "metadata": {},
   "outputs": [
    {
     "name": "stdout",
     "output_type": "stream",
     "text": [
      "500.00\n"
     ]
    }
   ],
   "source": [
    "print(f'{s.earnings():,.2f}')"
   ]
  },
  {
   "cell_type": "code",
   "execution_count": 14,
   "id": "6c098c2c",
   "metadata": {},
   "outputs": [
    {
     "data": {
      "text/plain": [
       "True"
      ]
     },
     "execution_count": 14,
     "metadata": {},
     "output_type": "execute_result"
    }
   ],
   "source": [
    "issubclass(SalariedCommissionEmployee, CommissionEmployee)"
   ]
  },
  {
   "cell_type": "code",
   "execution_count": 15,
   "id": "ebeff3dc",
   "metadata": {},
   "outputs": [
    {
     "data": {
      "text/plain": [
       "True"
      ]
     },
     "execution_count": 15,
     "metadata": {},
     "output_type": "execute_result"
    }
   ],
   "source": [
    "isinstance(s, CommissionEmployee)"
   ]
  },
  {
   "cell_type": "code",
   "execution_count": 16,
   "id": "c40147c6",
   "metadata": {},
   "outputs": [
    {
     "data": {
      "text/plain": [
       "True"
      ]
     },
     "execution_count": 16,
     "metadata": {},
     "output_type": "execute_result"
    }
   ],
   "source": [
    "isinstance(s, SalariedCommissionEmployee)"
   ]
  },
  {
   "cell_type": "code",
   "execution_count": 17,
   "id": "7d97d916",
   "metadata": {},
   "outputs": [
    {
     "name": "stdout",
     "output_type": "stream",
     "text": [
      "CommissionEmployee: Sue Jones\n",
      "social security number: 333-33-3333\n",
      "gross sales: 20000.00\n",
      "commission rate: 0.10\n",
      "2000.00\n",
      "\n",
      "SalariedCommissionEmployee: Bob Lewis\n",
      "social security number: 444-44-4444\n",
      "gross sales: 5000.00\n",
      "commission rate: 0.04\n",
      "base salary: 300.00\n",
      "500.00\n",
      "\n"
     ]
    }
   ],
   "source": [
    "employees = [c, s]\n",
    "\n",
    "for employee in employees:\n",
    "    print(employee)\n",
    "    print(f'{employee.earnings():.2f}\\n')"
   ]
  },
  {
   "cell_type": "code",
   "execution_count": 18,
   "id": "6acf3605",
   "metadata": {},
   "outputs": [],
   "source": [
    "class WellPaidDuck:\n",
    "    def __repr__(self):\n",
    "        return 'I am a well-paid duck'\n",
    "    \n",
    "    def earnings(self):\n",
    "        return Decimal('1_000_000.00')"
   ]
  },
  {
   "cell_type": "code",
   "execution_count": 21,
   "id": "f1864951",
   "metadata": {},
   "outputs": [
    {
     "name": "stdout",
     "output_type": "stream",
     "text": [
      "CommissionEmployee: Sue Jones\n",
      "social security number: 333-33-3333\n",
      "gross sales: 10000.00\n",
      "commission rate: 0.06\n",
      "600.00\n",
      "\n",
      "SalariedCommissionEmployee: Bob Lewis\n",
      "social security number: 444-44-4444\n",
      "gross sales: 5000.00\n",
      "commission rate: 0.04\n",
      "base salary: 300.00\n",
      "500.00\n",
      "\n",
      "I am a well-paid duck\n",
      "1,000,000.00\n",
      "\n"
     ]
    }
   ],
   "source": [
    "from decimal import Decimal\n",
    "from commissionemployee import CommissionEmployee\n",
    "from salariedcommissionemployee import SalariedCommissionEmployee\n",
    "\n",
    "c = CommissionEmployee('Sue', 'Jones', '333-33-3333', Decimal('10000.00'), Decimal('0.06'))\n",
    "\n",
    "s = SalariedCommissionEmployee('Bob', 'Lewis', '444-44-4444', Decimal('5000.00'), Decimal('0.04'), Decimal('300.00'))\n",
    "\n",
    "d = WellPaidDuck()\n",
    "\n",
    "employees = [c,s,d]\n",
    "for employee in employees:\n",
    "    print(employee)\n",
    "    print(f'{employee.earnings():,.2f}\\n')"
   ]
  },
  {
   "cell_type": "code",
   "execution_count": 22,
   "id": "9cbeec7b",
   "metadata": {},
   "outputs": [
    {
     "data": {
      "text/plain": [
       "(2 + 4i)"
      ]
     },
     "execution_count": 22,
     "metadata": {},
     "output_type": "execute_result"
    }
   ],
   "source": [
    "from complexnumber import Complex\n",
    "\n",
    "x = Complex(real=2, imaginary=4)\n",
    "\n",
    "x"
   ]
  },
  {
   "cell_type": "code",
   "execution_count": 23,
   "id": "2a307ad7",
   "metadata": {},
   "outputs": [],
   "source": [
    "class Complex:\n",
    "    \"\"\"허수를 표현하기 위해서 실수부와 허수부를 따로 표현하는 Complex 클래스\"\"\"\n",
    "    \n",
    "    def __init__(self, real, imaginary):\n",
    "        \"\"\"Complex 클래스의 속성을 초기화\"\"\"\n",
    "        self.real = real\n",
    "        self.imaginary = imaginary\n",
    "        \n",
    "    def __add__(self, right):\n",
    "        \"\"\"+ 연산자 재정의\"\"\"\n",
    "        return Complex(self.real + right.real,\n",
    "                      self.imaginary + right.imaginary)\n",
    "    \n",
    "    def __iadd__(self, right):\n",
    "        \"\"\"+= 연산자 재정의\"\"\"\n",
    "        self.real += right.real\n",
    "        self.imaginary += right.real\n",
    "        return self\n",
    "    \n",
    "    def __repr__(self):\n",
    "        \"\"\"repr() 함수를 위한 문자열 표현 반환\"\"\"\n",
    "        return (f'({self.real}' +\n",
    "               ('+' if self.imaginary >= 0 else '-') + f'{abs(self.imaginary)}i)')"
   ]
  },
  {
   "cell_type": "code",
   "execution_count": 24,
   "id": "0d6cfa4c",
   "metadata": {},
   "outputs": [
    {
     "data": {
      "text/plain": [
       "'Ace'"
      ]
     },
     "execution_count": 24,
     "metadata": {},
     "output_type": "execute_result"
    }
   ],
   "source": [
    "from collections import namedtuple\n",
    "\n",
    "Card = namedtuple('Card', ['face', 'suit'])\n",
    "\n",
    "card = Card(face='Ace', suit='Spades')\n",
    "card.face"
   ]
  },
  {
   "cell_type": "code",
   "execution_count": 25,
   "id": "e5103478",
   "metadata": {},
   "outputs": [
    {
     "data": {
      "text/plain": [
       "'Spades'"
      ]
     },
     "execution_count": 25,
     "metadata": {},
     "output_type": "execute_result"
    }
   ],
   "source": [
    "card.suit"
   ]
  },
  {
   "cell_type": "code",
   "execution_count": 26,
   "id": "39ea4e80",
   "metadata": {},
   "outputs": [
    {
     "data": {
      "text/plain": [
       "Card(face='Queen', suit='Hearts')"
      ]
     },
     "execution_count": 26,
     "metadata": {},
     "output_type": "execute_result"
    }
   ],
   "source": [
    "values = ['Queen', 'Hearts']\n",
    "\n",
    "card = Card._make(values)\n",
    "card"
   ]
  },
  {
   "cell_type": "code",
   "execution_count": 27,
   "id": "27596e01",
   "metadata": {},
   "outputs": [
    {
     "data": {
      "text/plain": [
       "{'face': 'Queen', 'suit': 'Hearts'}"
      ]
     },
     "execution_count": 27,
     "metadata": {},
     "output_type": "execute_result"
    }
   ],
   "source": [
    "card._asdict()"
   ]
  },
  {
   "cell_type": "code",
   "execution_count": 28,
   "id": "c19bccc3",
   "metadata": {},
   "outputs": [],
   "source": [
    "# carddataclass.py\n",
    "\n",
    "\"\"\"클래스 속성, 데이터 속성, 생성되는 메서드, 명시적으로 정의한 메서드를 가진 카드 데이터 클래스\"\"\"\n",
    "\n",
    "from dataclasses import dataclass, field\n",
    "from typing import ClassVar, List"
   ]
  },
  {
   "cell_type": "code",
   "execution_count": 29,
   "id": "29224358",
   "metadata": {},
   "outputs": [],
   "source": [
    "FACES: ClassVar[List[str]] = ['Ace', '2', '3', '4', '5', '6', '7', '8', '9', '10', 'Jack', 'Queen', 'King']\n",
    "\n",
    "SUITS: ClassVar[List[str]] = ['Hearts', 'Diamonds', 'Clubs', 'Spades']"
   ]
  },
  {
   "cell_type": "code",
   "execution_count": 30,
   "id": "a27fa53a",
   "metadata": {},
   "outputs": [],
   "source": [
    "from dataclasses import dataclass\n",
    "\n",
    "@dataclass\n",
    "class Demo:\n",
    "    x # attempting to create a data attribute x"
   ]
  },
  {
   "cell_type": "code",
   "execution_count": 31,
   "id": "228a9cd5",
   "metadata": {},
   "outputs": [],
   "source": [
    "@property\n",
    "def image_name(self):\n",
    "    \"\"\"card의 이미지 파일명을 반환이다.\"\"\"\n",
    "    return str(self).replace(' ', '_') +'.png'\n",
    "\n",
    "def __str__(self):\n",
    "    \"\"\"str() 함수에 사용될 문자열 반환\"\"\"\n",
    "    return f'{self.face} of {self.suit}'\n",
    "\n",
    "def __format__(self, format):\n",
    "    \"\"\"서식이 적용된 문자열을 반환\"\"\"\n",
    "    return f'{str(self): {format}}'"
   ]
  },
  {
   "cell_type": "code",
   "execution_count": 32,
   "id": "476a6bd2",
   "metadata": {},
   "outputs": [
    {
     "data": {
      "text/plain": [
       "Card(face='Ace', suit='Spades')"
      ]
     },
     "execution_count": 32,
     "metadata": {},
     "output_type": "execute_result"
    }
   ],
   "source": [
    "from carddataclass import Card\n",
    "\n",
    "c1 = Card(Card.FACES[0], Card.SUITS[3])\n",
    "c1"
   ]
  },
  {
   "cell_type": "code",
   "execution_count": 33,
   "id": "e86aa783",
   "metadata": {},
   "outputs": [
    {
     "name": "stdout",
     "output_type": "stream",
     "text": [
      "Ace of Spades\n"
     ]
    }
   ],
   "source": [
    "print(c1)"
   ]
  },
  {
   "cell_type": "code",
   "execution_count": 34,
   "id": "fa18a3e2",
   "metadata": {},
   "outputs": [
    {
     "data": {
      "text/plain": [
       "'Ace'"
      ]
     },
     "execution_count": 34,
     "metadata": {},
     "output_type": "execute_result"
    }
   ],
   "source": [
    "c1.face"
   ]
  },
  {
   "cell_type": "code",
   "execution_count": 35,
   "id": "8ef81069",
   "metadata": {},
   "outputs": [
    {
     "data": {
      "text/plain": [
       "'Spades'"
      ]
     },
     "execution_count": 35,
     "metadata": {},
     "output_type": "execute_result"
    }
   ],
   "source": [
    "c1.suit"
   ]
  },
  {
   "cell_type": "code",
   "execution_count": 36,
   "id": "02a2b031",
   "metadata": {},
   "outputs": [
    {
     "data": {
      "text/plain": [
       "'Ace_of_Spades.png'"
      ]
     },
     "execution_count": 36,
     "metadata": {},
     "output_type": "execute_result"
    }
   ],
   "source": [
    "c1.image_name"
   ]
  },
  {
   "cell_type": "code",
   "execution_count": 37,
   "id": "3d2af720",
   "metadata": {},
   "outputs": [
    {
     "data": {
      "text/plain": [
       "Card(face='Ace', suit='Spades')"
      ]
     },
     "execution_count": 37,
     "metadata": {},
     "output_type": "execute_result"
    }
   ],
   "source": [
    "c2 = Card(Card.FACES[0], Card.SUITS[3])\n",
    "\n",
    "c2"
   ]
  },
  {
   "cell_type": "code",
   "execution_count": 38,
   "id": "7465c7b4",
   "metadata": {},
   "outputs": [
    {
     "data": {
      "text/plain": [
       "True"
      ]
     },
     "execution_count": 38,
     "metadata": {},
     "output_type": "execute_result"
    }
   ],
   "source": [
    "c1 == c2"
   ]
  },
  {
   "cell_type": "code",
   "execution_count": 39,
   "id": "88f9491a",
   "metadata": {},
   "outputs": [
    {
     "data": {
      "text/plain": [
       "False"
      ]
     },
     "execution_count": 39,
     "metadata": {},
     "output_type": "execute_result"
    }
   ],
   "source": [
    "c1 != c2"
   ]
  },
  {
   "cell_type": "code",
   "execution_count": 40,
   "id": "6af8b848",
   "metadata": {},
   "outputs": [],
   "source": [
    "# accountdoctest.py\n",
    "\"\"\"Account 클래스 정의\"\"\"\n",
    "from decimal import Decimal\n",
    "\n",
    "class Account:\n",
    "    \"\"\"은행 계좌를 관리하는 Account 클래스\"\"\"\n",
    "    def __init__(self, name, balance):\n",
    "        \"\"\"Account 객체 초기화\n",
    "        >>> account1 = Account('John Green', Decimal('50.00'))\n",
    "        >>> account1.name\n",
    "        'John Green'\n",
    "        >>> account1.balance\n",
    "        Decimal('50.00')\n",
    "        \n",
    "        balance는 0 이상이어야 한다.\n",
    "        >>> account2 = Account('John Green', Decimal('-50.00'))\n",
    "        Traceback (most recent call last):\n",
    "            ...\n",
    "        ValueError: Initial balance must be >= to 0.00.\"\"\"\n",
    "\n",
    "    # 잔액이 0.00보다 작으면 예외 발생\n",
    "        if balance < Decimal('0.00'):\n",
    "            raise ValueError('Initial balance must be >= 0.00')\n",
    "        \n",
    "        self.name = name\n",
    "        self.balance = balance\n",
    "    \n",
    "    def deposit(self, amount):\n",
    "        \"\"\"계좌에 돈을 예금한다.\"\"\"\n",
    "        \n",
    "        # 잔액이 0.00보다 작으면 예외가 발생한다.\n",
    "        if amount < Decimal('0.00'):\n",
    "            raise ValueError('amount must be positive')\n",
    "            \n",
    "        self.balance += amount\n",
    "        \n",
    "        if __name__ == '__main__':\n",
    "            import doctest\n",
    "            doctest.testmod(verbose=True)"
   ]
  },
  {
   "cell_type": "code",
   "execution_count": 41,
   "id": "375042bb",
   "metadata": {},
   "outputs": [],
   "source": [
    "account1 = Account('John Green', Decimal('50.00'))"
   ]
  },
  {
   "cell_type": "code",
   "execution_count": 43,
   "id": "ff2922e6",
   "metadata": {},
   "outputs": [
    {
     "name": "stdout",
     "output_type": "stream",
     "text": [
      "local y in print_variables\n",
      "global z\n"
     ]
    }
   ],
   "source": [
    "z = 'global z'\n",
    "def print_variables():\n",
    "    y = 'local y in print_variables'\n",
    "    print(y)\n",
    "    print(z)\n",
    "    \n",
    "print_variables()"
   ]
  }
 ],
 "metadata": {
  "kernelspec": {
   "display_name": "Python 3 (ipykernel)",
   "language": "python",
   "name": "python3"
  },
  "language_info": {
   "codemirror_mode": {
    "name": "ipython",
    "version": 3
   },
   "file_extension": ".py",
   "mimetype": "text/x-python",
   "name": "python",
   "nbconvert_exporter": "python",
   "pygments_lexer": "ipython3",
   "version": "3.10.9"
  }
 },
 "nbformat": 4,
 "nbformat_minor": 5
}
