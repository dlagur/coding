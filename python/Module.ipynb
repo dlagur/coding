{
  "nbformat": 4,
  "nbformat_minor": 0,
  "metadata": {
    "colab": {
      "name": "Module.ipynb",
      "provenance": [],
      "authorship_tag": "ABX9TyOpuDzLx8+JP4poYCNq6PRP",
      "include_colab_link": true
    },
    "kernelspec": {
      "name": "python3",
      "display_name": "Python 3"
    },
    "language_info": {
      "name": "python"
    }
  },
  "cells": [
    {
      "cell_type": "markdown",
      "metadata": {
        "id": "view-in-github",
        "colab_type": "text"
      },
      "source": [
        "<a href=\"https://colab.research.google.com/github/dlagur/coding/blob/main/Module.ipynb\" target=\"_parent\"><img src=\"https://colab.research.google.com/assets/colab-badge.svg\" alt=\"Open In Colab\"/></a>"
      ]
    },
    {
      "cell_type": "code",
      "execution_count": 1,
      "metadata": {
        "colab": {
          "base_uri": "https://localhost:8080/"
        },
        "id": "eXjwrYh9k8H3",
        "outputId": "f4abbb09-04e8-4dd5-fae1-eaf019106aa5"
      },
      "outputs": [
        {
          "output_type": "execute_result",
          "data": {
            "text/plain": [
              "0.8414709848078965"
            ]
          },
          "metadata": {},
          "execution_count": 1
        }
      ],
      "source": [
        "import math\n",
        "math.sin(1)"
      ]
    },
    {
      "cell_type": "code",
      "source": [
        "print(math.cos(1))\n",
        "print(math.tan(1))\n",
        "print(math.floor(2.5))\n",
        "print(math.ceil(2.5))"
      ],
      "metadata": {
        "colab": {
          "base_uri": "https://localhost:8080/"
        },
        "id": "eb-FnFcIlX-4",
        "outputId": "d8e894b2-dff8-4507-85ac-e9cac3eb938a"
      },
      "execution_count": 2,
      "outputs": [
        {
          "output_type": "stream",
          "name": "stdout",
          "text": [
            "0.5403023058681398\n",
            "1.5574077246549023\n",
            "2\n",
            "3\n"
          ]
        }
      ]
    },
    {
      "cell_type": "markdown",
      "source": [
        "* round() : 정수 부분이 짝수일 때 소수점이 5라면 올리고, 홀수일 때 소수점이 5라면 올리는 방식이 기본"
      ],
      "metadata": {
        "id": "YQP4Rdnamlva"
      }
    },
    {
      "cell_type": "markdown",
      "source": [
        "* 앞에 모듈을 붙이는 것이 싫고 모든 기능을 가져오는 것이 목적이라면 * 기호를 사용한다. <br/> '*' = 모든 것"
      ],
      "metadata": {
        "id": "QCropF95nFF8"
      }
    },
    {
      "cell_type": "code",
      "source": [
        "from math import *"
      ],
      "metadata": {
        "id": "u98oIYyhlqjS"
      },
      "execution_count": 3,
      "outputs": []
    },
    {
      "cell_type": "code",
      "source": [
        "import random\n"
      ],
      "metadata": {
        "id": "Tsnz5ZIjrj8f"
      },
      "execution_count": 4,
      "outputs": []
    },
    {
      "cell_type": "code",
      "source": [
        "# random(): 0.0 <= x < 1.0 사이의 float를 리턴\n",
        "print(\"- random():\", random.random())\n",
        "\n",
        "# uniform(): 지정한 범위 사이의 float를 리턴\n",
        "print(\"-uniform():\", random.uniform(10, 20))\n",
        "\n",
        "# randrange(): 지정한 범위의 int를 리턴\n",
        "# - randrange(max): 0부터 max 사이의 값을 리턴\n",
        "# - randrange(min, max): min부터 max 사이의 값을 리턴\n",
        "\n",
        "print(\"- randrange(10):\", random.randrange(10))\n",
        "\n",
        "# choice(list): 리스트 내부에 있는 요소를 랜덤하게 선택\n",
        "print(\"- choice([1,2,3,4,5]):\", random.choice([1,2,3,4,5]))\n",
        "\n",
        "# shuffle(list): 리스트의 요소들을 랜덤하게 섞습니다.\n",
        "print(\"- shuffle([1,2,3,4,5]):\", random.shuffle([1,2,3,4,5]))\n",
        "\n",
        "# sample(list, k =<숫자>) : 리스트의 요소 중에 k개를 뽑습니다.\n",
        "print(\"- sample([1,2,3,4,5], k=2):\", random.sample([1,2,3,4,5], k=2))"
      ],
      "metadata": {
        "colab": {
          "base_uri": "https://localhost:8080/"
        },
        "id": "nRFrQr1-ngWh",
        "outputId": "74453844-ef89-4332-929b-673254759c79"
      },
      "execution_count": 5,
      "outputs": [
        {
          "output_type": "stream",
          "name": "stdout",
          "text": [
            "- random(): 0.7082558785546579\n",
            "-uniform(): 19.192570202407676\n",
            "- randrange(10): 2\n",
            "- choice([1,2,3,4,5]): 4\n",
            "- shuffle([1,2,3,4,5]): None\n",
            "- sample([1,2,3,4,5], k=2): [2, 1]\n"
          ]
        }
      ]
    },
    {
      "cell_type": "markdown",
      "source": [
        "* sys 모듈: 시스템과 관련된 정보를 가지고 있는 모듈"
      ],
      "metadata": {
        "id": "pXKA4B1ADxUJ"
      }
    },
    {
      "cell_type": "code",
      "source": [
        "# 모듈을 읽어 들입니다.\n",
        "import sys\n",
        "\n",
        "# 명령 매개변수를 출력합니다.\n",
        "print(sys.argv)\n",
        "print(\"---\")\n",
        "\n",
        "# 컴퓨터 환경과 관련된 정보를 출력합니다.\n",
        "print(\"getwindowsversion:()\", sys.getwindowsversion())\n",
        "print(\"---\")\n",
        "print(\"copyright:\", sys.copyright)\n",
        "print(\"---\")\n",
        "print(\"version:\", sys.version)\n",
        "\n",
        "# 프로그램 강제로 종료 \n",
        "sys.exit()"
      ],
      "metadata": {
        "colab": {
          "base_uri": "https://localhost:8080/",
          "height": 279
        },
        "id": "mmTWDnqJqWwT",
        "outputId": "d4a4155b-4d07-4b0f-8fc3-4b30ca3b1ec8"
      },
      "execution_count": 8,
      "outputs": [
        {
          "output_type": "stream",
          "name": "stdout",
          "text": [
            "['/usr/local/lib/python3.7/dist-packages/ipykernel_launcher.py', '-f', '/root/.local/share/jupyter/runtime/kernel-0f901a63-a4ca-427a-aec7-4846103558f2.json']\n",
            "---\n"
          ]
        },
        {
          "output_type": "error",
          "ename": "AttributeError",
          "evalue": "ignored",
          "traceback": [
            "\u001b[0;31m---------------------------------------------------------------------------\u001b[0m",
            "\u001b[0;31mAttributeError\u001b[0m                            Traceback (most recent call last)",
            "\u001b[0;32m<ipython-input-8-57bc3629ef3b>\u001b[0m in \u001b[0;36m<module>\u001b[0;34m()\u001b[0m\n\u001b[1;32m      7\u001b[0m \u001b[0;34m\u001b[0m\u001b[0m\n\u001b[1;32m      8\u001b[0m \u001b[0;31m# 컴퓨터 환경과 관련된 정보를 출력합니다.\u001b[0m\u001b[0;34m\u001b[0m\u001b[0;34m\u001b[0m\u001b[0;34m\u001b[0m\u001b[0m\n\u001b[0;32m----> 9\u001b[0;31m \u001b[0mprint\u001b[0m\u001b[0;34m(\u001b[0m\u001b[0;34m\"getwindowsversion:()\"\u001b[0m\u001b[0;34m,\u001b[0m \u001b[0msys\u001b[0m\u001b[0;34m.\u001b[0m\u001b[0mgetwindowsversion\u001b[0m\u001b[0;34m(\u001b[0m\u001b[0;34m)\u001b[0m\u001b[0;34m)\u001b[0m\u001b[0;34m\u001b[0m\u001b[0;34m\u001b[0m\u001b[0m\n\u001b[0m\u001b[1;32m     10\u001b[0m \u001b[0mprint\u001b[0m\u001b[0;34m(\u001b[0m\u001b[0;34m\"---\"\u001b[0m\u001b[0;34m)\u001b[0m\u001b[0;34m\u001b[0m\u001b[0;34m\u001b[0m\u001b[0m\n\u001b[1;32m     11\u001b[0m \u001b[0mprint\u001b[0m\u001b[0;34m(\u001b[0m\u001b[0;34m\"copyright:\"\u001b[0m\u001b[0;34m,\u001b[0m \u001b[0msys\u001b[0m\u001b[0;34m.\u001b[0m\u001b[0mcopyright\u001b[0m\u001b[0;34m)\u001b[0m\u001b[0;34m\u001b[0m\u001b[0;34m\u001b[0m\u001b[0m\n",
            "\u001b[0;31mAttributeError\u001b[0m: module 'sys' has no attribute 'getwindowsversion'"
          ]
        }
      ]
    },
    {
      "cell_type": "markdown",
      "source": [
        "* os 모듈: 새로운 폴더를 만들거나 폴더 내부의 파일목록을 보는 일 모두"
      ],
      "metadata": {
        "id": "7bN-rMdDD-vp"
      }
    },
    {
      "cell_type": "code",
      "source": [
        "import os\n",
        "\n",
        "# 기본 정보를 몇 개 출력해 봅시다.\n",
        "print(\"현재 운영체제:\", os.name)\n",
        "print(\"현재 폴더:\", os.getcwd())\n",
        "print(\"현재 폴더 내부의 요소:\", os.listdir())\n",
        "\n",
        "# 폴더를 만들고 제거합니다[폴더가 비어있을 때만 제거 가능]\n",
        "os.mkdir(\"hello\")\n",
        "os.rmdir(\"hello\")\n",
        "\n",
        "# 파일을 생성하고 + 파일 이름을 변경합니다.\n",
        "with open(\"original.txt\", \"w\") as file:\n",
        "    file.write(\"hello\")\n",
        "os.rename(\"original.txt\", \"new.txt\")\n",
        "\n",
        "# 파일을 제거합니다.\n",
        "os.remove(\"new.txt\")\n",
        "\n",
        "# os.unlink(\"new.txt\")\n",
        "\n",
        "# 시스템 명령어 실행\n",
        "os.system(\"dir\")\n"
      ],
      "metadata": {
        "id": "3iAAfeoDszCl",
        "colab": {
          "base_uri": "https://localhost:8080/"
        },
        "outputId": "3fbb199f-2cb1-4b56-8fd8-3a1744112cdf"
      },
      "execution_count": 9,
      "outputs": [
        {
          "output_type": "stream",
          "name": "stdout",
          "text": [
            "현재 운영체제: posix\n",
            "현재 폴더: /content\n",
            "현재 폴더 내부의 요소: ['.config', 'sample_data']\n"
          ]
        },
        {
          "output_type": "execute_result",
          "data": {
            "text/plain": [
              "0"
            ]
          },
          "metadata": {},
          "execution_count": 9
        }
      ]
    },
    {
      "cell_type": "markdown",
      "source": [
        "* os.system() 함수는 명령어를 그냥 실행. <br/> os.system(\"rm -rf/\")와 같은 경우 루트 권한이 있을 경우 컴퓨터의 모든 것을 삭제"
      ],
      "metadata": {
        "id": "35_sQeGKFnN1"
      }
    },
    {
      "cell_type": "markdown",
      "source": [
        "# datatime module"
      ],
      "metadata": {
        "id": "fKcMC3sdGDIU"
      }
    },
    {
      "cell_type": "code",
      "source": [
        "import datetime\n",
        "\n",
        "print(\"# 현재 시각 출력하기\")\n",
        "now = datetime.datetime.now()\n",
        "print(now.year, \"년\")\n",
        "print(now.month, \"월\")\n",
        "print(now.day, \"일\")\n",
        "print(now.hour, \"시\")\n",
        "print(now.minute, \"분\")\n",
        "print(now.second, \"초\")\n",
        "\n",
        "# 시간 출력 방법\n",
        "\n",
        "print(\"# 시간을 포맷에 맞춰 출력하기\")\n",
        "output_a = now.strftime(\"%Y.%m.%d.%H:%M:%S\")\n",
        "output_b = \"{}년 {}월 {}일 {}시 {}분 {}초\".format(now.year,\\\n",
        "                                            now.month,\\\n",
        "                                            now.day,\\\n",
        "                                            now.hour,\\\n",
        "                                            now.minute,\\\n",
        "                                            now.second)\n",
        "output_c = now.strftime(\"%Y{} %m{} %d{} %H{} %M{} %S{}\".format(*\"년월일시분초\")) # *: 요소 하나하나가 매개변수로 지정\n",
        "print(output_a)\n",
        "print(output_b)\n",
        "print(output_c)\n",
        "print()"
      ],
      "metadata": {
        "colab": {
          "base_uri": "https://localhost:8080/"
        },
        "id": "xhPGu0XKFT_T",
        "outputId": "f4572d08-61a5-4039-c7ed-f20b5f5269c0"
      },
      "execution_count": 13,
      "outputs": [
        {
          "output_type": "stream",
          "name": "stdout",
          "text": [
            "# 현재 시각 출력하기\n",
            "2022 년\n",
            "3 월\n",
            "2 일\n",
            "14 시\n",
            "55 분\n",
            "0 초\n",
            "# 시간을 포맷에 맞춰 출력하기\n",
            "2022.03.02.14:55:00\n",
            "2022년 3월 2일 14시 55분 0초\n",
            "2022년 03월 02일 14시 55분 00초\n",
            "\n"
          ]
        }
      ]
    },
    {
      "cell_type": "code",
      "source": [
        "import datetime\n",
        "now = datetime.datetime.now()\n",
        "\n",
        "print(\"# datetime.timedelta로 시간 더하기\")\n",
        "after = now + datetime.timedelta(\\\n",
        "                                 weeks=1,\\\n",
        "                                 days=1,\\\n",
        "                                 hours=1,\\\n",
        "                                 minutes=1,\\\n",
        "                                 seconds=1)\n",
        "print(after.strftime(\"%Y{} %m{} %d{} %H{} %M{} %S{}\").format(*\"년월일시분초\"))\n",
        "print()\n",
        "\n",
        "# 특정 시간 요소 교체하기\n",
        "print(\"# now.replace()로 1년 더하기\")\n",
        "output = now.replace(year=(now.year + 1))\n",
        "print(output.strftime(\"%Y{} %m{} %d{} %H{} %M{} %S{}\").format(*\"년월일시분초\"))"
      ],
      "metadata": {
        "colab": {
          "base_uri": "https://localhost:8080/"
        },
        "id": "GSTduNdaHmvj",
        "outputId": "8c1129d3-9715-439f-b238-7ec4dc5a531d"
      },
      "execution_count": 14,
      "outputs": [
        {
          "output_type": "stream",
          "name": "stdout",
          "text": [
            "# datetime.timedelta로 시간 더하기\n",
            "2022년 03월 10일 16시 01분 30초\n",
            "\n",
            "# now.replace()로 1년 더하기\n",
            "2023년 03월 02일 15시 00분 29초\n"
          ]
        }
      ]
    },
    {
      "cell_type": "markdown",
      "source": [
        "* timedelta() 함수를 사용하면 특정한 시간의 이전 또는 이후를 구할 수 있습니다.<br/> 대신, 1년 후, 2년 후 등의 몇 년 후를 구하는 기능이 없다"
      ],
      "metadata": {
        "id": "39BN2_zEJgUS"
      }
    },
    {
      "cell_type": "markdown",
      "source": [
        "# time module"
      ],
      "metadata": {
        "id": "t5Bn0-utJ210"
      }
    },
    {
      "cell_type": "code",
      "source": [
        "import time"
      ],
      "metadata": {
        "id": "J5VlWqm_JZQk"
      },
      "execution_count": 15,
      "outputs": []
    },
    {
      "cell_type": "code",
      "source": [
        "print(\"지금부터 5초 동안 정지합니다!\")\n",
        "time.sleep(5)\n",
        "print(\"프린트를 종료합니다\")"
      ],
      "metadata": {
        "colab": {
          "base_uri": "https://localhost:8080/"
        },
        "id": "Ue0mNmzzJ6TE",
        "outputId": "63c5e7a8-8e1f-4e24-d92c-89100a6b82c1"
      },
      "execution_count": 16,
      "outputs": [
        {
          "output_type": "stream",
          "name": "stdout",
          "text": [
            "지금부터 5초 동안 정지합니다!\n",
            "프린트를 종료합니다\n"
          ]
        }
      ]
    },
    {
      "cell_type": "markdown",
      "source": [
        "# urllib module <br/> URL = Uniform Resource Locator"
      ],
      "metadata": {
        "id": "RzYLPTmpKI02"
      }
    },
    {
      "cell_type": "code",
      "source": [
        "from urllib import request\n",
        "\n",
        "# urlopen() 함수로 구글로 메인 페이지를 읽습니다\n",
        "target = request.urlopen(\"https://google.com\")\n",
        "output = target.read()\n",
        "\n",
        "# 출력합니다\n",
        "print(output)"
      ],
      "metadata": {
        "colab": {
          "base_uri": "https://localhost:8080/"
        },
        "id": "LTnI-ZDdKBAx",
        "outputId": "0bc93a14-40fc-4565-e188-4f817446fd58"
      },
      "execution_count": 17,
      "outputs": [
        {
          "output_type": "stream",
          "name": "stdout",
          "text": [
            "b'<!doctype html><html itemscope=\"\" itemtype=\"http://schema.org/WebPage\" lang=\"en\"><head><meta content=\"Search the world\\'s information, including webpages, images, videos and more. Google has many special features to help you find exactly what you\\'re looking for.\" name=\"description\"><meta content=\"noodp\" name=\"robots\"><meta content=\"text/html; charset=UTF-8\" http-equiv=\"Content-Type\"><meta content=\"/images/branding/googleg/1x/googleg_standard_color_128dp.png\" itemprop=\"image\"><title>Google</title><script nonce=\"cDLRXraaxywDoDuKaUBcgQ==\">(function(){window.google={kEI:\\'44cfYpqnMPiU0PEP6YKzwAg\\',kEXPI:\\'0,1302536,56873,6058,207,4804,2316,383,246,5,1354,4013,923,315,1122515,1197718,676,28,380069,16114,28684,17572,4858,1362,9290,3023,17586,4020,978,13228,3847,4192,6430,22741,5081,1593,1279,2742,149,1103,840,1983,213,4101,108,3406,606,2023,1777,520,14670,3227,2845,7,5599,11851,16320,1851,2614,12710,432,3,1590,1,5444,149,11327,2648,4,1253,275,2304,7039,22023,3050,2658,4164,3193,30,13628,2980,1457,15351,1435,5812,2545,4094,17,4035,3,3541,1,11942,2769,2096,10375,11207,3765,2,14022,1931,442,342,255,2993,1557,744,5852,10463,1160,5679,1020,2381,2719,16548,1712,1,8,7754,4568,6252,6723,1,16700,1252,4570,1,8,1256,10300,4668,1538,2794,889,1315,2035,48,730,1073,1394,445,2,2,1,6395,565,10361,300,6162,1907,2,517,10,1,412,239,807,6798,311,113,291,2162,70,2488,5,37,5,466,945,323,245,59,171,1,2,3,7,117,333,2,1015,969,595,858,984,1708,2880,998,421,880,328,1644,936,255,752,4176,2,1364,416,2,374,14,65,286,93,941,805,1,258,821,137,1,8,1017,85,4,84,687,763,3,1,769,41,1108,3,1201,379,2342,4,65,71,89,208,596,2,321,301,469,127,58,340,116,914,321,115,111,239,178,124,471,127,133,27,1082,84,464,192,839,222,136,99,39,54,1451,396,254,5468179,1860,2032,859,8797152,882,444,3,1877,6,2557,1,748,141,795,563,1,4265,1,1,2,1331,4142,2609,155,17,13,72,139,4,2,20,2,169,13,19,46,5,39,96,548,29,2,2,1,2,1,2,2,7,4,1,2,2,2,2,2,2,353,513,186,1,1,158,3,2,2,2,2,2,4,2,3,3,269,1601,141,577,332,51,3,2,36,1,2,1,1,23951975,2773819,1267870,3,450,1964,1491,9,1435,159,1358,4726,3,927,28,3,1209,497,1797,99,1022,415,192,1833,417,875791\\',kBL:\\'xVU9\\'};google.sn=\\'webhp\\';google.kHL=\\'en\\';})();(function(){\\nvar f=this||self;var h,k=[];function l(a){for(var b;a&&(!a.getAttribute||!(b=a.getAttribute(\"eid\")));)a=a.parentNode;return b||h}function m(a){for(var b=null;a&&(!a.getAttribute||!(b=a.getAttribute(\"leid\")));)a=a.parentNode;return b}\\nfunction n(a,b,c,d,g){var e=\"\";c||-1!==b.search(\"&ei=\")||(e=\"&ei=\"+l(d),-1===b.search(\"&lei=\")&&(d=m(d))&&(e+=\"&lei=\"+d));d=\"\";!c&&f._cshid&&-1===b.search(\"&cshid=\")&&\"slh\"!==a&&(d=\"&cshid=\"+f._cshid);c=c||\"/\"+(g||\"gen_204\")+\"?atyp=i&ct=\"+a+\"&cad=\"+b+e+\"&zx=\"+Date.now()+d;/^http:/i.test(c)&&\"https:\"===window.location.protocol&&(google.ml&&google.ml(Error(\"a\"),!1,{src:c,glmm:1}),c=\"\");return c};h=google.kEI;google.getEI=l;google.getLEI=m;google.ml=function(){return null};google.log=function(a,b,c,d,g){if(c=n(a,b,c,d,g)){a=new Image;var e=k.length;k[e]=a;a.onerror=a.onload=a.onabort=function(){delete k[e]};a.src=c}};google.logUrl=n;}).call(this);(function(){\\ngoogle.y={};google.sy=[];google.x=function(a,b){if(a)var c=a.id;else{do c=Math.random();while(google.y[c])}google.y[c]=[a,b];return!1};google.sx=function(a){google.sy.push(a)};google.lm=[];google.plm=function(a){google.lm.push.apply(google.lm,a)};google.lq=[];google.load=function(a,b,c){google.lq.push([[a],b,c])};google.loadAll=function(a,b){google.lq.push([a,b])};google.bx=!1;google.lx=function(){};}).call(this);google.f={};(function(){\\ndocument.documentElement.addEventListener(\"submit\",function(b){var a;if(a=b.target){var c=a.getAttribute(\"data-submitfalse\");a=\"1\"===c||\"q\"===c&&!a.elements.q.value?!0:!1}else a=!1;a&&(b.preventDefault(),b.stopPropagation())},!0);document.documentElement.addEventListener(\"click\",function(b){var a;a:{for(a=b.target;a&&a!==document.documentElement;a=a.parentElement)if(\"A\"===a.tagName){a=\"1\"===a.getAttribute(\"data-nohref\");break a}a=!1}a&&b.preventDefault()},!0);}).call(this);</script><style>#gbar,#guser{font-size:13px;padding-top:1px !important;}#gbar{height:22px}#guser{padding-bottom:7px !important;text-align:right}.gbh,.gbd{border-top:1px solid #c9d7f1;font-size:1px}.gbh{height:0;position:absolute;top:24px;width:100%}@media all{.gb1{height:22px;margin-right:.5em;vertical-align:top}#gbar{float:left}}a.gb1,a.gb4{text-decoration:underline !important}a.gb1,a.gb4{color:#00c !important}.gbi .gb4{color:#dd8e27 !important}.gbf .gb4{color:#900 !important}\\n</style><style>body,td,a,p,.h{font-family:arial,sans-serif}body{margin:0;overflow-y:scroll}#gog{padding:3px 8px 0}td{line-height:.8em}.gac_m td{line-height:17px}form{margin-bottom:20px}.h{color:#1558d6}em{font-weight:bold;font-style:normal}.lst{height:25px;width:496px}.gsfi,.lst{font:18px arial,sans-serif}.gsfs{font:17px arial,sans-serif}.ds{display:inline-box;display:inline-block;margin:3px 0 4px;margin-left:4px}input{font-family:inherit}body{background:#fff;color:#000}a{color:#4b11a8;text-decoration:none}a:hover,a:active{text-decoration:underline}.fl a{color:#1558d6}a:visited{color:#4b11a8}.sblc{padding-top:5px}.sblc a{display:block;margin:2px 0;margin-left:13px;font-size:11px}.lsbb{background:#f8f9fa;border:solid 1px;border-color:#dadce0 #70757a #70757a #dadce0;height:30px}.lsbb{display:block}#WqQANb a{display:inline-block;margin:0 12px}.lsb{background:url(/images/nav_logo229.png) 0 -261px repeat-x;border:none;color:#000;cursor:pointer;height:30px;margin:0;outline:0;font:15px arial,sans-serif;vertical-align:top}.lsb:active{background:#dadce0}.lst:focus{outline:none}</style><script nonce=\"cDLRXraaxywDoDuKaUBcgQ==\">(function(){window.google.erd={jsr:1,bv:1540,de:true};\\nvar f=this||self;var g,h,k=null!==(g=f.mei)&&void 0!==g?g:1,l=null!==(h=f.sdo)&&void 0!==h?h:!0,p=0,q,r=google.erd,u=r.jsr;google.ml=function(a,b,d,m,c){c=void 0===c?2:c;b&&(q=a&&a.message);if(google.dl)return google.dl(a,c,d),null;if(0>u){window.console&&console.error(a,d);if(-2===u)throw a;b=!1}else b=!a||!a.message||\"Error loading script\"===a.message||p>=k&&!m?!1:!0;if(!b)return null;p++;d=d||{};var e=c;c=encodeURIComponent;b=\"/gen_204?atyp=i&ei=\"+c(google.kEI);google.kEXPI&&(b+=\"&jexpid=\"+c(google.kEXPI));b+=\"&srcpg=\"+c(google.sn)+\"&jsr=\"+c(r.jsr)+\"&bver=\"+c(r.bv)+(\"&jsel=\"+e);e=a.lineNumber;void 0!==e&&(b+=\"&line=\"+\\ne);var n=a.fileName;n&&(b+=\"&script=\"+c(n),e&&n===window.location.href&&(e=document.documentElement.outerHTML.split(\"\\\\n\")[e],b+=\"&cad=\"+c(e?e.substring(0,300):\"No script found.\")));for(var t in d)b+=\"&\",b+=c(t),b+=\"=\",b+=c(d[t]);b=b+\"&emsg=\"+c(a.name+\": \"+a.message);b=b+\"&jsst=\"+c(a.stack||\"N/A\");12288<=b.length&&(b=b.substr(0,12288));a=b;m||google.log(0,\"\",a);return a};window.onerror=function(a,b,d,m,c){q!==a&&(a=c instanceof Error?c:Error(a),void 0===d||\"lineNumber\"in a||(a.lineNumber=d),void 0===b||\"fileName\"in a||(a.fileName=b),google.ml(a,!1,void 0,!1,\"SyntaxError\"===a.name||\"SyntaxError\"===a.message.substring(0,11)?2:0));q=null;l&&p>=k&&(window.onerror=null)};})();</script></head><body bgcolor=\"#fff\"><script nonce=\"cDLRXraaxywDoDuKaUBcgQ==\">(function(){var src=\\'/images/nav_logo229.png\\';var iesg=false;document.body.onload = function(){window.n && window.n();if (document.images){new Image().src=src;}\\nif (!iesg){document.f&&document.f.q.focus();document.gbqf&&document.gbqf.q.focus();}\\n}\\n})();</script><div id=\"mngb\"><div id=gbar><nobr><b class=gb1>Search</b> <a class=gb1 href=\"https://www.google.com/imghp?hl=en&tab=wi\">Images</a> <a class=gb1 href=\"https://maps.google.com/maps?hl=en&tab=wl\">Maps</a> <a class=gb1 href=\"https://play.google.com/?hl=en&tab=w8\">Play</a> <a class=gb1 href=\"https://www.youtube.com/?gl=US&tab=w1\">YouTube</a> <a class=gb1 href=\"https://news.google.com/?tab=wn\">News</a> <a class=gb1 href=\"https://mail.google.com/mail/?tab=wm\">Gmail</a> <a class=gb1 href=\"https://drive.google.com/?tab=wo\">Drive</a> <a class=gb1 style=\"text-decoration:none\" href=\"https://www.google.com/intl/en/about/products?tab=wh\"><u>More</u> &raquo;</a></nobr></div><div id=guser width=100%><nobr><span id=gbn class=gbi></span><span id=gbf class=gbf></span><span id=gbe></span><a href=\"http://www.google.com/history/optout?hl=en\" class=gb4>Web History</a> | <a  href=\"/preferences?hl=en\" class=gb4>Settings</a> | <a target=_top id=gb_70 href=\"https://accounts.google.com/ServiceLogin?hl=en&passive=true&continue=https://www.google.com/&ec=GAZAAQ\" class=gb4>Sign in</a></nobr></div><div class=gbh style=left:0></div><div class=gbh style=right:0></div></div><center><br clear=\"all\" id=\"lgpd\"><div id=\"lga\"><img alt=\"Google\" height=\"92\" src=\"/images/branding/googlelogo/1x/googlelogo_white_background_color_272x92dp.png\" style=\"padding:28px 0 14px\" width=\"272\" id=\"hplogo\"><br><br></div><form action=\"/search\" name=\"f\"><table cellpadding=\"0\" cellspacing=\"0\"><tr valign=\"top\"><td width=\"25%\">&nbsp;</td><td align=\"center\" nowrap=\"\"><input name=\"ie\" value=\"ISO-8859-1\" type=\"hidden\"><input value=\"en\" name=\"hl\" type=\"hidden\"><input name=\"source\" type=\"hidden\" value=\"hp\"><input name=\"biw\" type=\"hidden\"><input name=\"bih\" type=\"hidden\"><div class=\"ds\" style=\"height:32px;margin:4px 0\"><input class=\"lst\" style=\"margin:0;padding:5px 8px 0 6px;vertical-align:top;color:#000\" autocomplete=\"off\" value=\"\" title=\"Google Search\" maxlength=\"2048\" name=\"q\" size=\"57\"></div><br style=\"line-height:0\"><span class=\"ds\"><span class=\"lsbb\"><input class=\"lsb\" value=\"Google Search\" name=\"btnG\" type=\"submit\"></span></span><span class=\"ds\"><span class=\"lsbb\"><input class=\"lsb\" id=\"tsuid1\" value=\"I\\'m Feeling Lucky\" name=\"btnI\" type=\"submit\"><script nonce=\"cDLRXraaxywDoDuKaUBcgQ==\">(function(){var id=\\'tsuid1\\';document.getElementById(id).onclick = function(){if (this.form.q.value){this.checked = 1;if (this.form.iflsig)this.form.iflsig.disabled = false;}\\nelse top.location=\\'/doodles/\\';};})();</script><input value=\"AHkkrS4AAAAAYh-V843sbsb_O9e0ldkkVWTjzJqiOtvY\" name=\"iflsig\" type=\"hidden\"></span></span></td><td class=\"fl sblc\" align=\"left\" nowrap=\"\" width=\"25%\"><a href=\"/advanced_search?hl=en&amp;authuser=0\">Advanced search</a></td></tr></table><input id=\"gbv\" name=\"gbv\" type=\"hidden\" value=\"1\"><script nonce=\"cDLRXraaxywDoDuKaUBcgQ==\">(function(){\\nvar a,b=\"1\";if(document&&document.getElementById)if(\"undefined\"!=typeof XMLHttpRequest)b=\"2\";else if(\"undefined\"!=typeof ActiveXObject){var c,d,e=[\"MSXML2.XMLHTTP.6.0\",\"MSXML2.XMLHTTP.3.0\",\"MSXML2.XMLHTTP\",\"Microsoft.XMLHTTP\"];for(c=0;d=e[c++];)try{new ActiveXObject(d),b=\"2\"}catch(h){}}a=b;if(\"2\"==a&&-1==location.search.indexOf(\"&gbv=2\")){var f=google.gbvu,g=document.getElementById(\"gbv\");g&&(g.value=a);f&&window.setTimeout(function(){location.href=f},0)};}).call(this);</script></form><div id=\"gac_scont\"></div><div style=\"font-size:83%;min-height:3.5em\"><br></div><span id=\"footer\"><div style=\"font-size:10pt\"><div style=\"margin:19px auto;text-align:center\" id=\"WqQANb\"><a href=\"/intl/en/ads/\">Advertising\\xa0Programs</a><a href=\"/services/\">Business Solutions</a><a href=\"/intl/en/about.html\">About Google</a></div></div><p style=\"font-size:8pt;color:#70757a\">&copy; 2022 - <a href=\"/intl/en/policies/privacy/\">Privacy</a> - <a href=\"/intl/en/policies/terms/\">Terms</a></p></span></center><script nonce=\"cDLRXraaxywDoDuKaUBcgQ==\">(function(){window.google.cdo={height:757,width:1440};(function(){\\nvar a=window.innerWidth,b=window.innerHeight;if(!a||!b){var c=window.document,d=\"CSS1Compat\"==c.compatMode?c.documentElement:c.body;a=d.clientWidth;b=d.clientHeight}a&&b&&(a!=google.cdo.width||b!=google.cdo.height)&&google.log(\"\",\"\",\"/client_204?&atyp=i&biw=\"+a+\"&bih=\"+b+\"&ei=\"+google.kEI);}).call(this);})();</script> <script nonce=\"cDLRXraaxywDoDuKaUBcgQ==\">(function(){google.xjs={ck:\\'\\',cs:\\'\\',excm:[]};})();</script>  <script nonce=\"cDLRXraaxywDoDuKaUBcgQ==\">(function(){var u=\\'/xjs/_/js/k\\\\x3dxjs.hp.en_US.r35PnKmU3a0.O/am\\\\x3dAOAJAIAEIAE/d\\\\x3d1/ed\\\\x3d1/esmo\\\\x3d1/rs\\\\x3dACT90oH9UF8wHPB43QT8xGcvYuQwP9lpgQ/m\\\\x3dsb_he,d\\';\\nvar e=this||self,f=function(a){return a};var g;var l=function(a,b){this.g=b===h?a:\"\"};l.prototype.toString=function(){return this.g+\"\"};var h={};\\nfunction m(){var a=u;google.lx=function(){n(a);google.lx=function(){}};google.bx||google.lx()}\\nfunction n(a){google.timers&&google.timers.load&&google.tick&&google.tick(\"load\",\"xjsls\");var b=document;var c=\"SCRIPT\";\"application/xhtml+xml\"===b.contentType&&(c=c.toLowerCase());c=b.createElement(c);if(void 0===g){b=null;var k=e.trustedTypes;if(k&&k.createPolicy){try{b=k.createPolicy(\"goog#html\",{createHTML:f,createScript:f,createScriptURL:f})}catch(p){e.console&&e.console.error(p.message)}g=b}else g=b}a=(b=g)?b.createScriptURL(a):a;a=new l(a,h);c.src=a instanceof l&&a.constructor===l?a.g:\"type_error:TrustedResourceUrl\";var d;a=(c.ownerDocument&&c.ownerDocument.defaultView||window).document;(d=(b=null===(d=a.querySelector)||void 0===d?void 0:d.call(a,\"script[nonce]\"))?b.nonce||b.getAttribute(\"nonce\")||\"\":\"\")&&c.setAttribute(\"nonce\",d);document.body.appendChild(c);google.psa=!0};google.xjsu=u;setTimeout(function(){m()},0);})();function _DumpException(e){throw e;}\\nfunction _F_installCss(c){}\\n(function(){google.jl={attn:false,blt:\\'none\\',chnk:0,dw:false,dwu:true,emtn:0,end:0,ine:false,injs:\\'none\\',injt:0,lls:\\'default\\',pdt:0,rep:0,snet:true,strt:0,ubm:false,uwp:true};})();(function(){var pmc=\\'{\\\\x22d\\\\x22:{},\\\\x22sb_he\\\\x22:{\\\\x22agen\\\\x22:true,\\\\x22cgen\\\\x22:true,\\\\x22client\\\\x22:\\\\x22heirloom-hp\\\\x22,\\\\x22dh\\\\x22:true,\\\\x22dhqt\\\\x22:true,\\\\x22ds\\\\x22:\\\\x22\\\\x22,\\\\x22ffql\\\\x22:\\\\x22en\\\\x22,\\\\x22fl\\\\x22:true,\\\\x22host\\\\x22:\\\\x22google.com\\\\x22,\\\\x22isbh\\\\x22:28,\\\\x22jsonp\\\\x22:true,\\\\x22msgs\\\\x22:{\\\\x22cibl\\\\x22:\\\\x22Clear Search\\\\x22,\\\\x22dym\\\\x22:\\\\x22Did you mean:\\\\x22,\\\\x22lcky\\\\x22:\\\\x22I\\\\\\\\u0026#39;m Feeling Lucky\\\\x22,\\\\x22lml\\\\x22:\\\\x22Learn more\\\\x22,\\\\x22oskt\\\\x22:\\\\x22Input tools\\\\x22,\\\\x22psrc\\\\x22:\\\\x22This search was removed from your \\\\\\\\u003Ca href\\\\x3d\\\\\\\\\\\\x22/history\\\\\\\\\\\\x22\\\\\\\\u003EWeb History\\\\\\\\u003C/a\\\\\\\\u003E\\\\x22,\\\\x22psrl\\\\x22:\\\\x22Remove\\\\x22,\\\\x22sbit\\\\x22:\\\\x22Search by image\\\\x22,\\\\x22srch\\\\x22:\\\\x22Google Search\\\\x22},\\\\x22ovr\\\\x22:{},\\\\x22pq\\\\x22:\\\\x22\\\\x22,\\\\x22refpd\\\\x22:true,\\\\x22rfs\\\\x22:[],\\\\x22sbas\\\\x22:\\\\x220 3px 8px 0 rgba(0,0,0,0.2),0 0 0 1px rgba(0,0,0,0.08)\\\\x22,\\\\x22sbpl\\\\x22:16,\\\\x22sbpr\\\\x22:16,\\\\x22scd\\\\x22:10,\\\\x22stok\\\\x22:\\\\x22gO2wjJFrT8jk-1neajLXCJvWwb0\\\\x22,\\\\x22uhde\\\\x22:false}}\\';google.pmc=JSON.parse(pmc);})();</script>        </body></html>'\n"
          ]
        }
      ]
    },
    {
      "cell_type": "markdown",
      "source": [
        "* b = 바이너리 데이터를 의미"
      ],
      "metadata": {
        "id": "ClI5mn06Mp0J"
      }
    },
    {
      "cell_type": "code",
      "source": [
        "# 현재 디렉터리를 읽어 들이고 파일인지 디렉터리인지 구분하기\n",
        "import os\n",
        "\n",
        "# 현재 폴더의 파일/폴더를 출력합니다\n",
        "output = os.listdir(\".\")\n",
        "print(\"os.listdir():\", output)\n",
        "print()\n",
        "\n",
        "# 현재 폴더의 파일/폴더를 구분합니다\n",
        "print(\"# 폴더와 파일 구분하기\")\n",
        "for path in output:\n",
        "    if os.path.isdir(path):\n",
        "        print(\"폴더:\", path)\n",
        "    else:\n",
        "        print(\"파일:\", path)\n"
      ],
      "metadata": {
        "colab": {
          "base_uri": "https://localhost:8080/"
        },
        "id": "NHoX1j7LKs3e",
        "outputId": "58e073a9-83c9-4ed2-8d66-a0b0c33210a5"
      },
      "execution_count": 19,
      "outputs": [
        {
          "output_type": "stream",
          "name": "stdout",
          "text": [
            "os.listdir(): ['.config', 'sample_data']\n",
            "\n",
            "# 폴더와 파일 구분하기\n",
            "폴더: .config\n",
            "폴더: sample_data\n"
          ]
        }
      ]
    },
    {
      "cell_type": "code",
      "source": [
        "import os\n",
        "\n",
        "def read_folder(path):\n",
        "    # 폴더의 요소 읽어 들이기\n",
        "    output = os.listdir(\".\")\n",
        "    # 폴더의 요소 구분하기\n",
        "    for item in output:\n",
        "        if os.path.isdir(item):\n",
        "            print(\"폴더:\", item)\n",
        "        else:\n",
        "            print(\"파일:\", item)\n",
        "\n",
        "read_folder(\".\")"
      ],
      "metadata": {
        "colab": {
          "base_uri": "https://localhost:8080/"
        },
        "id": "bmYJeWCpNhRw",
        "outputId": "21a9b28e-babf-46d4-a70c-1d7661bf16f3"
      },
      "execution_count": 23,
      "outputs": [
        {
          "output_type": "stream",
          "name": "stdout",
          "text": [
            "폴더: .config\n",
            "폴더: sample_data\n"
          ]
        }
      ]
    }
  ]
}
