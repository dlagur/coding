{
  "nbformat": 4,
  "nbformat_minor": 0,
  "metadata": {
    "colab": {
      "name": "test_module.py",
      "provenance": [],
      "collapsed_sections": [],
      "mount_file_id": "1K9GvT3UcmcKlivMXebSuFfkYI8PwIWNo",
      "authorship_tag": "ABX9TyOnr3kRievGApRFn6rebKWc",
      "include_colab_link": true
    },
    "kernelspec": {
      "name": "python3",
      "display_name": "Python 3"
    },
    "language_info": {
      "name": "python"
    }
  },
  "cells": [
    {
      "cell_type": "markdown",
      "metadata": {
        "id": "view-in-github",
        "colab_type": "text"
      },
      "source": [
        "<a href=\"https://colab.research.google.com/github/dlagur/coding/blob/main/test_module_py.ipynb\" target=\"_parent\"><img src=\"https://colab.research.google.com/assets/colab-badge.svg\" alt=\"Open In Colab\"/></a>"
      ]
    },
    {
      "cell_type": "code",
      "execution_count": null,
      "metadata": {
        "colab": {
          "base_uri": "https://localhost:8080/",
          "height": 35
        },
        "id": "dMrwbQVpz1zq",
        "outputId": "9f735bcc-f4e4-4e04-da1d-4db608c13ffa"
      },
      "outputs": [
        {
          "output_type": "execute_result",
          "data": {
            "text/plain": [
              "'/content'"
            ],
            "application/vnd.google.colaboratory.intrinsic+json": {
              "type": "string"
            }
          },
          "metadata": {},
          "execution_count": 1
        }
      ],
      "source": [
        "pwd"
      ]
    },
    {
      "cell_type": "code",
      "source": [
        "# 디렉토리 생성\n",
        "import os\n",
        "\n",
        "dir_path = '/content/drive/MyDrive'\n",
        "dir_name = 'module_basic'\n",
        "\n",
        "os.mkdir(dir_path + '/' + dir_name + '/')"
      ],
      "metadata": {
        "id": "3qS-J-W0z3tD"
      },
      "execution_count": null,
      "outputs": []
    },
    {
      "cell_type": "code",
      "source": [
        "os.getcwd()"
      ],
      "metadata": {
        "colab": {
          "base_uri": "https://localhost:8080/",
          "height": 35
        },
        "id": "vmLX_keW0Pk3",
        "outputId": "c8ee6f78-57be-4393-9f96-07d22507e96a"
      },
      "execution_count": null,
      "outputs": [
        {
          "output_type": "execute_result",
          "data": {
            "text/plain": [
              "'/content'"
            ],
            "application/vnd.google.colaboratory.intrinsic+json": {
              "type": "string"
            }
          },
          "metadata": {},
          "execution_count": 3
        }
      ]
    },
    {
      "cell_type": "code",
      "source": [
        "dpath = '/content/drive/MyDrive/module_basic'\n",
        "basic_path = '/content/drive/MyDrive'\n",
        "os.chdir(dpath)"
      ],
      "metadata": {
        "id": "yEz51UCb1NqW"
      },
      "execution_count": 16,
      "outputs": []
    },
    {
      "cell_type": "code",
      "source": [
        "import test_module as test\n",
        "\n",
        "radius = test.number_input()\n",
        "print(test.get_circumference(radius))\n",
        "print(test.get_circle_area(radius))"
      ],
      "metadata": {
        "id": "Mju2lQhU1dmw",
        "colab": {
          "base_uri": "https://localhost:8080/"
        },
        "outputId": "960fc673-86b5-483c-9462-0f30b011a69e"
      },
      "execution_count": 17,
      "outputs": [
        {
          "output_type": "stream",
          "name": "stdout",
          "text": [
            "숫자 입력> 10\n",
            "62.83184\n",
            "314.1592\n"
          ]
        }
      ]
    },
    {
      "cell_type": "markdown",
      "source": [
        "- 프로그램의 진입점을 엔트리 포인트 또는 메인이라고 부름"
      ],
      "metadata": {
        "id": "kwnJ1Fwk3PgT"
      }
    },
    {
      "cell_type": "code",
      "source": [
        "import test_module\n",
        "\n",
        "print('# 메인의 __name__ 출력하기')\n",
        "print(__name__)\n",
        "print()"
      ],
      "metadata": {
        "colab": {
          "base_uri": "https://localhost:8080/"
        },
        "id": "YbOBzzuw2-yF",
        "outputId": "d700244a-d40a-4853-f6ec-dd5271802547"
      },
      "execution_count": 11,
      "outputs": [
        {
          "output_type": "stream",
          "name": "stdout",
          "text": [
            "# 메인의 __name__ 출력하기\n",
            "__main__\n",
            "\n"
          ]
        }
      ]
    },
    {
      "cell_type": "markdown",
      "source": [
        "- 엔트리 포인트 파일에서는 메인을 출력하지만, 모듈 파일에서는 모듈 이름을 출력한다"
      ],
      "metadata": {
        "id": "3GR0CKLv4vJO"
      }
    },
    {
      "cell_type": "code",
      "source": [
        "import test_module as test\n",
        "\n",
        "radius = test.number_input()\n",
        "print(test.get_circumference(radius))\n",
        "print(test.get_circle_area(radius))"
      ],
      "metadata": {
        "colab": {
          "base_uri": "https://localhost:8080/"
        },
        "id": "cnhks-rW4PoU",
        "outputId": "1b779050-0e09-447c-b444-cb6510eca88f"
      },
      "execution_count": 22,
      "outputs": [
        {
          "output_type": "stream",
          "name": "stdout",
          "text": [
            "숫자 입력> 10\n",
            "62.83184\n",
            "314.1592\n"
          ]
        }
      ]
    },
    {
      "cell_type": "code",
      "source": [
        "# 패키지 만들기\n",
        "\n",
        "import os\n",
        "\n",
        "dir_path = '/content/drive/MyDrive'\n",
        "dir_name = 'test_package'\n",
        "\n",
        "os.mkdir(dir_path + '/' + dir_name + '/')\n"
      ],
      "metadata": {
        "colab": {
          "base_uri": "https://localhost:8080/",
          "height": 243
        },
        "id": "KBwFE5bU6gif",
        "outputId": "95dbb87d-22d8-4d44-8e5e-54a6b4ec12c2"
      },
      "execution_count": 27,
      "outputs": [
        {
          "output_type": "error",
          "ename": "FileExistsError",
          "evalue": "ignored",
          "traceback": [
            "\u001b[0;31m---------------------------------------------------------------------------\u001b[0m",
            "\u001b[0;31mFileExistsError\u001b[0m                           Traceback (most recent call last)",
            "\u001b[0;32m<ipython-input-27-0886a731fc5d>\u001b[0m in \u001b[0;36m<module>\u001b[0;34m()\u001b[0m\n\u001b[1;32m      6\u001b[0m \u001b[0mdir_name\u001b[0m \u001b[0;34m=\u001b[0m \u001b[0;34m'test_package'\u001b[0m\u001b[0;34m\u001b[0m\u001b[0;34m\u001b[0m\u001b[0m\n\u001b[1;32m      7\u001b[0m \u001b[0;34m\u001b[0m\u001b[0m\n\u001b[0;32m----> 8\u001b[0;31m \u001b[0mos\u001b[0m\u001b[0;34m.\u001b[0m\u001b[0mmkdir\u001b[0m\u001b[0;34m(\u001b[0m\u001b[0mdir_path\u001b[0m \u001b[0;34m+\u001b[0m \u001b[0;34m'/'\u001b[0m \u001b[0;34m+\u001b[0m \u001b[0mdir_name\u001b[0m \u001b[0;34m+\u001b[0m \u001b[0;34m'/'\u001b[0m\u001b[0;34m)\u001b[0m\u001b[0;34m\u001b[0m\u001b[0;34m\u001b[0m\u001b[0m\n\u001b[0m\u001b[1;32m      9\u001b[0m \u001b[0;34m\u001b[0m\u001b[0m\n\u001b[1;32m     10\u001b[0m \u001b[0mos\u001b[0m\u001b[0;34m.\u001b[0m\u001b[0mchdir\u001b[0m\u001b[0;34m(\u001b[0m\u001b[0;34m'/content/drive/MyDrive/test_package'\u001b[0m\u001b[0;34m)\u001b[0m\u001b[0;34m\u001b[0m\u001b[0;34m\u001b[0m\u001b[0m\n",
            "\u001b[0;31mFileExistsError\u001b[0m: [Errno 17] File exists: '/content/drive/MyDrive/test_package/'"
          ]
        }
      ]
    },
    {
      "cell_type": "code",
      "source": [
        "# 꼭 경로를 변경한 뒤에 패키지를 실행해야 함\n",
        "os.chdir('/content/drive/MyDrive/test_package')"
      ],
      "metadata": {
        "id": "eZF-ELYu9r-q"
      },
      "execution_count": 28,
      "outputs": []
    },
    {
      "cell_type": "code",
      "source": [
        "import test_package.module_a as a\n",
        "import test_package.module_b as b\n",
        "\n",
        "print(a.variable_a)\n",
        "print(b.variable_b)\n"
      ],
      "metadata": {
        "colab": {
          "base_uri": "https://localhost:8080/"
        },
        "id": "vNybLN7s7s_k",
        "outputId": "9d06b58c-9776-4c25-c820-81d965ed5baf"
      },
      "execution_count": 29,
      "outputs": [
        {
          "output_type": "stream",
          "name": "stdout",
          "text": [
            "a 모듈의 변수\n",
            "모듈 b의 변수\n"
          ]
        }
      ]
    },
    {
      "cell_type": "markdown",
      "source": [
        "- int.py 파일은 어떤 처리를 수행해야 하거나 패키지 내부의 모듈들을 한꺼번에 가져오고 싶을 때"
      ],
      "metadata": {
        "id": "sA6HTB7F91L0"
      }
    },
    {
      "cell_type": "code",
      "source": [
        "from test_package import *\n",
        "\n",
        "print(module_a.variable_a)\n",
        "print(module_b.variable_b)"
      ],
      "metadata": {
        "colab": {
          "base_uri": "https://localhost:8080/"
        },
        "id": "onpz8po78ly-",
        "outputId": "f2ec641a-e588-479d-fa42-12127b5eba73"
      },
      "execution_count": 30,
      "outputs": [
        {
          "output_type": "stream",
          "name": "stdout",
          "text": [
            "a 모듈의 변수\n",
            "모듈 b의 변수\n"
          ]
        }
      ]
    },
    {
      "cell_type": "markdown",
      "source": [
        "- 인코딩: 숫자와 알파벳을 대응하는 방법\n",
        "- 텍스트 에디터로 열었을 때 의미를 알 수 없는 데이터를 바이너리 데이터라고 한다. \n",
        "<br/> e.g 이미지와 동영상"
      ],
      "metadata": {
        "id": "SIgv9N88_Se-"
      }
    },
    {
      "cell_type": "markdown",
      "source": [
        "## 부록) 이미지 읽어들이고 저장하기"
      ],
      "metadata": {
        "id": "_Rsz7KdI_-wx"
      }
    },
    {
      "cell_type": "code",
      "source": [
        "from urllib import request\n",
        "\n",
        "target = request.urlopen(\"http://www.hanbit.co.kr/images/common/logo_hanbit.png\")\n",
        "output = target.read()\n",
        "print(output)"
      ],
      "metadata": {
        "colab": {
          "base_uri": "https://localhost:8080/"
        },
        "id": "YY8vm8zo-0Y5",
        "outputId": "2d9067e3-e174-478f-a1ac-bd354f85b7ea"
      },
      "execution_count": 31,
      "outputs": [
        {
          "output_type": "stream",
          "name": "stdout",
          "text": [
            "b'\\x89PNG\\r\\n\\x1a\\n\\x00\\x00\\x00\\rIHDR\\x00\\x00\\x01\\x04\\x00\\x00\\x00,\\x08\\x06\\x00\\x00\\x00\\x83\\x80\\xc6\\xe5\\x00\\x00\\x00\\x19tEXtSoftware\\x00Adobe ImageReadyq\\xc9e<\\x00\\x00\\x0f/IDATx\\xda\\xec]\\ttU\\xc5\\x19\\xfe\\xb3\\x11 D\\x11\\x13\\x0cF\\x08\\x11\\x14KEA\\xf6M\\xd0\\xd6\\xa3\\xb8\\xe1\\x12W\\x8a\\xa8\\xc7R\\xac\\xb5`\\x05\\xad\\xed\\xa9\\xbbb\\x17\\n\\xd4\\xa5Pj\\x05\\x11+4*\\n\\x15\\xc4\\xca\\xa2\\xf6\\x00Q\\x9b`+\\xa2\\xa0$\\x10%l\\x91%\\t!\\x81\\xd0\\xff\\xcb\\xfb\\x9f\\x99\\xdc\\xdc\\xfb\\xee\\xf2\\xeeM^\\xc2\\xfc\\xe7\\xcc\\xbb\\xef\\xbe\\x99;3w\\x96o\\xfem\\xe6\\xc5\\x1d;v\\x8c4i\\xd2\\xa4\\t\\x94\\x88\\x8f\\xb8\\xb88O\\x0fg,\\x9a\\x93\\xc4\\x97\\x81\\x1cFr\\xe8\\xcb\\xe1L\\x0e\\x99\\x1cN\\x94$U\\x1c\\xf6s\\xd8\\xcc\\xe13\\x0e\\x1fpXUr\\xfd\\x8f\\x8bt\\xd3k\\xd2\\x14[\\x04\\xe6 \\xae\\xf6\\xc3% 0\\x10\\xf4\\xe4\\xcb\\x04\\x0e7rH\\xf7P\\xf6z\\x0e\\xf38\\xccep8\\xa4\\xbbB\\x93\\xa6f\\x08\\x08\\x0c\\x04g\\xf1e*\\x87\\xd1`,|\\xa8\\xc3^\\x0e\\xbf\\xe30\\x93\\x81\\xe1\\xb0\\xee\\x12M\\x9a\\x9a\\x01 0\\x10\\xb4\\xe2\\xcb\\xc3\\x1c&sH\\n\\xa0.[8\\xdc\\xc1\\xa0\\xb0Fw\\x8b&M1\\x0c\\x08\\x0c\\x06\\xd9|Y\\xc8\\xa1\\x7f\\xc0\\xf5\\xa9\\xe1\\xf0\\x18\\x87G\\x18\\x18\\xb4\\xa6S\\x93\\xa6X\\x03\\x04\\x06\\x83\\xf3\\xf8\\xb2\\x8cC\\xc7F\\xac\\xd7\"\\x0ec\\x19\\x14\\xaat\\x17i\\xd2\\x14#\\x80\\xc0`\\x00\\xab\\xc1J\\x0e\\'4A\\xdd\\xfe\\xc9\\xe1\\x1a\\r\\n\\x9a45. $Zp\\x06\\xdd\\xf9\\xb2\\xbc\\x89\\xc0\\x00t\\x19\\x87\\xbfr\\xb8\\xc5\\x8f\\xcc\\xbaeu\\xfd\\x03_r\\xe4\\xf6\\xd2/\\x8b\\n7\\xb6\\xb4\\xce\\xe4w\\xfc$\\xdc_\\xfc~]\\xf5\\xf0\\xd6\\xe4\\x85\\x12M\\xc0\\xa05_r9\\xa45q\\xdd\\xc6r]\\xf2\\x98Kx\\xc6\\x87\\xbc\\xf0.Y\\xf2\\xbd\\x95\\xc3\\t\\xb6\\x9a/#\\xe4\\xf6$\\x9ed\\xfb\\x0c\\xf1\\x88\\xeb#\\xb7\\xb9\\x1c_l\\x91O\\x1f%\\x9f\\x15f`\\xc4i\\x907|7\\x8a\\xa2\\x98\\xcc]\\xa8\\xce\\xff\\xc3\\x0b\\xa0$\\xf3\\xe5N\\x0f\\x8f\\xe6s\\x9d\\xd7\\x18\\xf2\\n\\xeb\\x806p\\\\o\\x93\\xb2\\xc6\\x90\\x98\\xab9~\\x86\\x83\\xba\\x01\\xe8>\\x91\\xdbu\\xfc\\xcc\\x8d\\xf2;\\xf2\\xce\\x97\\xdf\\xe7\\xf1\\xef\\xb7\\x1a\\x9e\\xeb\\xc6\\x97+\\x02\\x18\\x9b\\x7f\\xe3\\xb2\\x0eX\\xd4\\xb5-_\\xc6Q\\xc8\\x12w\\x8e\\xf4I\\x19\\x85\\xfcp ~\\xcf\\xe1gK#\\xbc\\xebby\\x16\\x94\\xcdi\\x0b\\xad\\xda\\xceG\\xfa\\x92\\xcbYb\\n\\x08\\x142+\\x9e\\x1b#\\x805\\x8dAa%\\x83\\xc2F\\x87\\x83:\\x85\\xcc\\xad *\\x08\\xa4r\\xba\\xf6&i*\\xb9Q*]\\xd4\\xedj\\x0e\\x13\\xe5{\\x01\\x87b\\x8bt\\x00\\x83\\xe9\\xf2\\xfd6\\x0e\\x1b]N\\xd4T\\xbe\\xbc\\xef i\\xaa\\xf2L\\x81\\x83\\xf4\\x0f\\xf2\\xfb\\xbe\\xa9\\xdc\\xb7Q\\xea\\xe9\\x86frpk\\x1d\\x9a\\xa2\\x8c\\xb1\\x19\\x0e\\xd2\\xc7+\\x80^\\xe8\\xa2\\x9c^\\x1e\\xdf\\xc9\\x8e0i\\x0f\\x98\\xf4\\xd5p\\xbe\\xfc\\x9dB\\xcey*\\x01$:\\xcaXx\\x80\\xd3\\x8d\\xe7\\xb6_\\xe4\\xb1\\xec)\\x01\\xcc\\xcf784\\x04\\x04\\x9e|X\\xcd\\xee\\x8e\\xf4\\xe4\\x80\\xb4\\x0c\\x1a\\x95\\x99E\\xfb\\xab\\xaa\\xe8\\xa5\\xaf6\\xd1\\x9e\\xc3!\\xbf\"h!\\xae\\xea\\xd2\\x8d\\xfatH\\xa7\\xa2\\xb2\\x834\\x9f\\xe3\\xaaj\\x8eRZr\\x1bj\\x93h*\\x99\\xd0\\x91\\x9a\\x1a\\xdaYYA5\\xd6\\xee\\xd3\\x98\\xc8\\xb3\\xb8^#\\x1cZ\\x1e\\x16(\\xe8jE\\xefY\\xfc\\xfe\\x08\\x85L\\xab\\xb1F\\t\\x1e\\x06\\x80\\x93\\xf4\\x1d4\\x83\\xec\\xab\\xc8\\x06+\\xdc\\xdb\\x02\\xac \\xf8\\xd5\\xac\\xe5\\xb0]V\\xf4a\\x1c\\xda\\t\\xc7\\xb0\\x90\\xd3\\xc71(,\\x8cu\\x91a\\xaa\\x0c@S\\xba\\x84\\x81\\xe0\\x85!\\x17}w\\x7fs\\xf6\\x99t\\xc1\\x8a\\xd7\\xa8\\xfcH5\\xdd\\x7fv?\\x9a\\xf8\\xbd:\\xeepDF&\\xdd\\xf2\\xc1\\n:z\\xac\\x86\\xa6\\xf7;\\x9f\\x86v\\xecd\\x9agQ\\xf9A\\xfa\\xc9\\xdawi\\xc3\\xb7{\\xac\\x8a\\x1d.\\x93|\\xf1q:\\xd6\\x8e\\x82\\xf5v2&e\\xc0\\x81\\xaa\\x1dp\"F\\xb6\\xb5\\\\\\xb8\\x1e\\xd7\\xecf3iGL\\xbeW|\\xcak\\x97\\x01\\x0c\\xc0\\xc1<\\xaf\\x80\\x01\\x80\\xe16\\x9e\\xf0;\\x944\\xed\\x85\\x1b\\x1a\\'?=\\xcd\\xbf-\\xb3\\x12=\"\\xd0=\\xd1\\x88\\x86\\n\\x81c\\x99m\\t\\x08\\xbc\\ncO\\xc2\\xc5\\x91r\\xb8\\xa9k\\x8fz\\xf7\\x9dSRiHz\\x06\\xbd\\xb3c;\\xdd\\x94]?\\xee\\xa2N]j\\xb9\\x03p\\x10\\xe3\\xd7\\xbdKkG]O\\'$5\\x14\\xdf\\xb38\\x8f\\xf9\\xc3.\\xa6a\\xcb\\xffA\\x07\\xaa-\\x8d\\n\\x0f8\\x04\\x84%.YJ\\x95\\xd6E\\xd1\\xb8\\xafp\\xe7Z\\x89\\x1bQ)fy\\xc0\\x1c\\xe4K\\xef\\x08+\\x13D\\xa4_A\\x04P\\x81\\x9d\\x9f{\\xc8e9\\xd5-\\x1ct7\\xf1;\\x06\\xf5~\\xc3D<\\x01}\\x0e`\\xe5\\xb2\\x0e\\x19\\xdaw\\x1f\\xf7\\xd5\\xed\\xa2\\xeb\\xb9@\\xb8\\x86\\xeb\\x04H\\xdc\\xf4\\xd3*\\x9f8\\x9a\\xaev\\x1c\\xc2\\x04[!5\\xa9\\xa1x\\x9e\\x10\\x1f_{m\\x9d\\xd0\\x90\\xb1\\xa8\\x15\\x15\\x98q*=\\\\I\\xb9E[\\xe8\\xf6\\xee=M\\xf3Mo\\xdd\\x86\\xb9\\x8d\\x1e4\\xeb\\x8b\\xffZJ*0\\x83\\xb2\\xd8\\xf0\\xb1Mc=o\\xf1\\xf2\\xf1\\xc2\"Wp\\x9a\\x8a\\x00\\x06\\xc4)M\\xc0\\xa2\\xe2\\x9d\\xae\\xe4\\xf08\\x87\\xef\\x1b\\xa2\\x7f\\xcd\\xf1p(\\x9b\\xc9\\xef\\xfb\\xb1\\xcb|\\xbf\\xe1\\x0b\\xd8\\xb9\\xdd\\xfclG\\x93\\xf8G\\xf9\\xf2\\x1b\\xb9\\xbd2\\xac\\x8c:\\xcei\\x84\\xf2}\\xba\\x11\\x0c\\x94\\xf1Y\\xc3\\xed\\xf7\\xa4\\x00B\\x98\\xfb}>\\x96^$Q\\xb8\\x03\\xb0:9A\\x16\\x94\\xb7\\xa7\\xc4\\x12\\x10@C;\\x9e\\x1a\\t\\x10@c9\\xb8\\x1d\\xdcW\\x89N\\x04\\r\\x9f$\\xbfm\\xa3\\x90\\x15\\xe5\\xf7\\xdcA%>\\xbd\\x1eX\\xfa}\\x16q\\xa7\\t;\\xef\\x07\\x08\\x00u\\x07@z\\x93\\xf6\\xc8V\\xa2\\xb7r\\xf8HV\\x9d\\x04\\x89\\x1f\\xcb\\xcf|\\xc1\\xd7\\xb7\\x84\\x03\\x82F~\\x0b\\x06f\\x84b\\xb6\\x0b \\xa4\\xc3\\xf2\\xc0i\\x8d{LT\\xeb\\xd3\\x1e\\x8d\\x05\\xa15M\\xf9n\\'\\xaa}j\\xf1\\\\L\\xe9\\x10\\xceW\\xe4\\xcf@hwe\\xe4M\\x8d\\xa7\\xb4nc\\x97\\xc5\\xe5\\x1c&9\\x9c8\\x90M^\\xe4p\\x83I4X\\xb6_@\\xc6\\xe3t\\xd7\\xfa\\xc4\\x82M\\xe2|V[\\xd4\\x05u\\x9e\\x1e\\x05\\x08\\xdc, \\x80\\xad\\xe5\\x03\\xa9\\xa12\\xb0Rd\\xd3\\'\\xb8\\x0ee\\x9c~\\x10\\x7f\\xbf_\\xb8\\x87xy\\xeeL5=\\xa7\\x01\\x10\\x82\\x13\\xb8\\xc2\\xc4\\x04\\xb6C\\xf9\\xde\\xc9D\\x04k\\xae\\x80\\xd0\\xda\\xc2\\xba\\xe4\\x85\\x0e\\x18@\\xb5\\xcc\\xa2}\\xec\\xb8\\xc9\\x83\\xb1\\n\\x08\\x17\\x06]PjRd\\xf3\\x7fi\\x95\\xedf\\xc7n\\xcc\\xc9d\\xb2\\xd8\\xf0\\xb5\\x83\\xe2\\xa6)`\\x00e\\xd9K\\x82\\xdc\\x00\\xbd\\xd12\\xc1N\\x82\\xcc\\x0c[6w\\xeeV\\x9b\\xfc\\xa6r\\xbap\\x05\\xf38\\xfd\\xcb\\x8d\\xd8G\\x00\\xb0\\x89&\\xbf\\xe3L\\tl!\\x7f\\x96\\xeb\\xb3KaK\\xc1\\t\\\\\\xcd\\xf5=M\\xda\\x00\\xc0\\xd0_Qx\\xc1\\xcf\\x04\\xf2\\xe3J\\x0b{\\xf87\\xca\\xf7SM\\x00A]\\xd5v\\xdb\\xd4\\xbd\\'\\xd7C}~2\\x97\\x99\\xdbDc\\xfd~\\t~P\\xb6\\xa1]T\\xd6\\x16~\\x02\\xafGx\\xf6&\\x17\\xdcD\\x93\\x01\\xc29A\\x17\\x04sd$*(\\xdd\\xed(\\x1b\\x0e_\\xdb\\xac\\xa8\\xa7S\\x9d\\x83\\r4\\xb8\\x83Ug \\x8e\\x87%\\xe5i\\x0ewQH\\xe1\\x07s\\xa3\\x9dG\\xa4\\xaa_\\xc1$lL@xF\\x00\\x01\\xab\\xc9&\\n\\x99M\\xe1\\xe0\\xf4\\x89\\x8d>\\xa5X\\x80q\\x1a\\xbf3\\xfa\\x19\\x8a\\xc9sE\\x84\\xc9\\x14\\xdd\\x83\\x19\\x15\\x1b\\xc4\\x1d#\\x85\\xf5\\n\\xd5Fg-\\x13\\x82\\x98\\x96\\xa5\\xdc\\xb7\\xa3\\x96Io\\xc9X\\xc3x\\xba\\x96\\xdb{\"\\xb7\\xcdL\\x0b\\x11\\xf6^\\xb9\\x85\\x19}Q\\xac\\x02\\xc2YA\\x16\\xd2*>\\x81\\xae\\xcb:\\xc32\\x1e\\xfe\\n/o\\xfd\\xdcIV0e,\\xb5Is\\x19\\xd5\\x99N\\xa7\\x19=\\x03\\xf9\\xfe\\x18w\\xcc\\x14Aj\\xb0\\xdf\\xa3\\xc5&\\x1c\\xcd\\x0e\\xcb[9\\x8f\\x91\\x16q\\x83\\xa2\\x10\\x17\\xd2e\\xf2\\x8e2D\\xc5\\x8b\\x97\\x9e\\x1b:\":\\x98\\xb0\\x1e\\xa6\\x03D+~\\xef-6\"\\x03Y\\x88\\x0c{\\x1d\\x94\\tqF\\xed\\xd8R\\x07\\xef\\x0c_\\x92\\x14\\x13`\\xf1C\\xcfS\\xe0\\xd3\\x90.3\\x8c\\xa9\\xfd\\\\\\xef\\x87\\x14\\xd1p\\x06\\xc4Q\\xbe\\xbe*\\xed\\x99&}x\\xb9\\xf2\\xd8l~nS\\xac\\x02\\x82\\'\\xe5\\xc6\\x92\\xe2\\xad\\xb4\\xa6$\\xb4`\\xdf\\xfb\\xd1\\xfb4k\\xd0\\x85\\x94`\\xd8(\\x15\\xcf\\xf7\\x8f\\xf6\\x1eD\\xa7\\xb6M1\\xcd\\xa3\\xba\\xa6\\x86\\xee\\xf9\\xf0=\\xdaV\\xeeH\\x9cr\\xb2\\xebR]\\x91\\xfem\\xb1z\\x1e\\xe2\\x0e\\xcb\\xa3\\x90r\\xee\\x04\\xc9wg\\x84<\\xcf\\xa5:\\xcf\\xb42\\x93\\xf8q\\x01\\xf5\\xcf\\x18\\n\\xc6\\xd3.L\\xf00\\x1ci#2\\x18\\xe9d\\x87\\xe2\\x02\\xe8s3\\xd7e\\x07\\x80~b\\x00\\xef\\xba\\x98\\xeb\\xf2p\\x80m9S\\xc4\\xbb{\\xe4~\\xb8\\x043zS\\xf4X^\\x16\\x89\\x85\\xb20F\\xbdNG\\x02\\x84\\x14/9>X\\xb0\\x96\\x0e\\x1d=R\\xfb})\\xc0ag1]\\x98\\xd1\\xb9\\xfe\\xecLI\\xa5\\xd5\\xfc;\\x82\\x91\\xe0\\xa0\\x08\\x87\\xa4\\x92C\\xe5N\\x8bt\\xc2rV9L\\xaf\\x0e:;S\\xe46\\x07\\xecqK!\\xb5\\xa32\\r\\x831M\\xe1\\xbev\\x91\\xa6z\\x9c\\'&9\\xb7\\xd1\\n\\n\\xf9\\x85\\xc07\\xc1\\xb8\\x8d\\xb8@\\xc4\\xb8\\x05Qp\\xa4=(\\xc0\\xad\\x05\\x89\\xd1<\\x1cgx\\xdfx\\x93S\\xd5\\x90\\xe6@\\x95\\xb9\\xc3Q\\xf5\\xb1\\x1a*\\xab\\xf6}\\x87s\\xbe\\xf2\\xfdG\\x14\\xf2\\xd36\\xa2,\\x1au\\x80\\xdc~%\\xce?n\\t\\xf6\\xf8\\x19.\\x9fq\\xab\\x95_\\':\\x0e\\'4I@\\x0e\\xca\\xcf\\xa7\\x1c>S\\xa8\\xb4I\\x17\\x11\\xa1NR\\xe2\\xbb\\x1bD\\x93.\\xca\\xf7\\x1a%n#\\xb7a\\x95O\\x13\\xab\\xbdI\\x7f\\xe1\\xb7o\\x9b\\t0`\\x97\\xf0r\\xae3\\xda\\xb1\\xa7\\xb4)\\x16\\x93\\xcd>\\x99\\xb9\\xc1\\xc1\\xb5\\xf7i\\xeegZ\\x01B\\xb9\\x17.\\xe1\\x89>\\x83\\xe9\\xee\\xbc5\\xb5\\xae\\xcbWu\\xeeF#2\\x1a\\xea\\xa0\\x8a+\\xca\\xe8\\xbe\\xb3\\xfb\\xd2\\xe8\\xce\\xa7\\x9b\\xe6\\x01\\xef\\xc4\\t\\xebV\\xd2\\xaa\\x92b\\xd7\\xb2\\x9b\\x05-\\x93\\xd5\\x0bb@\\x0ew\\x0c\\xcel|<\\xec\"\\xca\\xf7\\x00\\x82\\x97\\x94\\x95n\\xb6\\xc7\\x8e/u\"\\x13+\\x83\\xbav\\xe3\\x95\\x0c\\xee\\n\\xc3\\x04\\xda&\\xa2K\\xb1\\xa1\\x8cu\\xe4\\xd0\\x83\\x92\\xf3\\xbdU\\x00\\xa1\\xd2#k\\xfc\\xa8\\x89\\xe83\\xd0\\x00\\xb0*]\\xa4\\xc4\\x19\\xb5\\xee\\x9ac(*\\xfc\\xd6Jd\\x8d2\\xdfK\\xfd\\xc8G<\\x15\\xb7Z\\x01\\xc2n/\\x800*\\xb3+\\r?e3-\\xff\\xba\\x88~\\xdbw\\xa8\\xe9\\xa9\\xabP\\x18B\\xbf0$\\xbdS\\xadG\\xa2\\x91\\xe0\\xce<g\\xf0\\x0fh\\xc8\\xb2E\\xb4\\xab\\xd2\\xf6\\x00\\xe6]\\x0e\\x1a\\x0c\\xb6xX\\x19r\\x85e\\x83\\x02q\\x92x\\xe0\\xb55\\xe8K\\xa0G\\xf8S#\\x8d\\x11u\\xe3\\x15v=\\xceU\\xea|N\\x84\\x8e\\x83\\x99\\xf0\\x97\\x0e\\xf2\\x0f\\xaf\\x1a\\xb0\\xb7;\\x01\\x04\\xc8\\xd4\\x05\\xc7\\xd1\\x1c\\xbd\\xc4G?\\x84\\xd7\\xc3[\\xbe\\xa3\\xf53Q\\xa8\\xc1V\\xe7\\xa6\\xa00 @\\xdb\\xd95\\xa8B\\xc0A\\xc0u\\xf9\\xce\\x1e\\xbdL\\xe3S\\x12\\x93h\\xcc\\xe9g\\xd1\\xf4\\x8d\\xf9\\xb6J*\\x87(\\xfa\\x9ahy\\xe7\\x88\\x12\\xcch\\xfe\"\\x01\\x8c\\xf1.\\xb7<\\xdb\\xa1.\\xb8\\x8ev\\xd0:{|\\xfe\\x0c~v\\xb3\\xe1g\\x00\\x82\\x9b}\\t\\xc9\\x0e\\xd3\\x17R}\\xad\\xfb\\xe2(V\\xf9\\xe6\\xa0_\\x19(\\xc1\\x0fB;\\xb5\\xc8\\x03\\x81\\xc3\\x80\\x00\\x9b\\xf6%A\\x16\\xf4\\xe1\\xde\\x9dt\\'\\xf5\\xb2\\x8c\\xef\\x7f\\xb2\\xa3\\xed\\x00\\xf9N\\xcb\\xe3\\x89\\xf5:O\\xb0w(\\xe4\\x92=TD\\x88J\\x01\\xbfW\\xed\\xec\\xf8\\x1e\\t>\\xed\\xcb\\xb8\\xdcU\\xa2\\xbbx\\x83\\xcb\\xf9&\\x02\\x00\\xc4\\x8b.\\x03u\\xc4N\\xc3l8\\x14Ez&@\\x16w1\\x1d\\xbf;J\\xa3\\xa1b\\x0bp\\x80B\\xbb\\xaf|\\xdf)\\xe3.\\x12U\\xc6\\x12 \\xe0\\xec\\xc4\\xfb\\x82,h\\xbf\\x8d\\'bZrk\\xdb1\\xeb\\xd0K\\xb1\\x9e\\xf8 \\xac\\xf9\\xdcFjOLj\\x98s.\\x96\\xf0\\x9c\\x9871\\xd1R\\x95t\\xf0\\xe0{V\\xd2\\x1bm\\xfdp^yN\\xb9\\x87\\xc2\\xb3\\x8fO\\xf5\\x83\\x19sr\\x04\\x80\\x82\\xcfD\\xd8ob\\t\\xb7\\xdf\\x97\\xcd|\\xb2\\xae\\xa0\\xfa\\xfb=\\xfc\\xa2Re\\x8c\\xe5\\n\\xb7ilK\\xf54\\xa7\\xe5\\xc6\\xd3\\x9cb\\x9dC\\x80\\xf7[\\x19\\x05\\xe8I\\xd6\\xbeUr\\xc4\\xf8=\\x87m\\x01r\\xa9\\xd3\\xb2d/C\\xd8\\x86^\\xc6\\x9d\\xd1X>\\xf7\\xfdL~\\x1b@u\\x16\\x8d0M\\xb1x\\x1e6\\xdc.M)g+\\xe2\\x06\\xd8\\xe2f\\r\\x08\\xb2\\xb3\\xb5\\x904\\xb9\\x03\\x04\\xfc\\x9dZ\\xc6\\xa29@\\xb9\\xc0Pl`ZF\\xc4\\xf8\\xf5{l-2\\xf3]\\x14\\xd7SA\\xe7y\\x1e\\xdf\\x0b\\x1e|a%\\xd4Q\\x87\\x03p0\\x83\\xd1y\\xb2\\xca#\\xf4r\\xf0\\x18\\x90\\x10\\xa2\\xcd\\xab\\xb2*\\x1b-\\x17\\xa9nD\\xa5\\x18\\xa1\\xb0\\xa9\\xb4DO1\\xd3\\x05\\x0b{\\x87~\\x1eA\\xd7\\xd1\\x18TAu&\\xf9\\xf5F\\x0e\\x014+(@\\xc09\\n9Y\\xdd-\\xe3\\xcb\\x8eT\\xdb\\xb9.\\xe7\\xd9\\x9d\\x85\\x10\\xc0\\xear\\x87\\xc7\\xe7\\xfe\\xc3\\x17\\x84\\x07\\xe5L\\x02\\xe4\\x03\\xffu#\\x8b\\x84\\xcdI\\xb0\\x1e,\\x15\\xd1\\xa6\\xc5P\\xc0\\x1e\\x81-\\x81\\xc0\\x05\\x8en\\xe2>\\xda%\\x8b\\x96\\xa9\\xc8\\x00.a=s\\to\\x93\\xcd\\xa9In)9!\\x81\\xfe\\xd8\\xef|\\xea`\\xa1#\\xd8Wu\\xb8\\xd6\\x0f\\xc1f{\\xf4\\xd4f\\xda\\xf1\\xb0:\\x8c3\\x01\\x03\\x10\\xac\\x1eP&\\xbe\\xe6\"\\xbf\"\\x1f\\xf5!\\x05z^j\\xb2\\x04\\x04!\\x1cU\\xf6C\\xb28W\\xf1\\xa9\\xff}\\xcc\\x13\\xbb\\xfe\\xd8\\xce\\xdf\\x1bri\\xbfk\\xfd*J\\x94\\xd3\\x93\\xbe\\xd3\\x0b\\xf0$?\\xadm;za\\xcb\\xc6\\xda`$\\xf8(|\\xba\\xaf\\xf4;\\xf7g\\x0bz\\x9fL\\xbc\\r\\x9b\\x01[\\x08\\x96h5\\xd5\\xf7\\x06\\x03\\x9b\\x08\\x87\\x9e\\xf0\\xd1\\xe00\\x8d\\xe6r\\xda\\x1c\\x87\\x9e~\\x85-m\\xf5\\xb59!\\x1a{!n\\xf0\\x98/|\\x03.\\x08\\xb0\\xea\\xb3\\xb8n\\xb3<\\xae\\xces\\xad\\x80\\xddp\\x0c\\xbb\\xfa;\\xbck\\x83>\\x94\\xb5w=@`.!\\x9f\\xb9\\x04l\\r6=\\x88$/\\x82\\x9c\\xff\\xaf\\x1d\\xdb\\xcd_\\xfe\\xe0\\xfe\\xda\\xe0\\x910I&D\\xf9_\\x8f9\\x11v\":%\\xfc\\xef\\xc2\\xe4(\\xc0\\x00\\x87i\\xfc\\x94\\xf3\\x98\\xcdq\\xf0\\x8c\\xccU@\\xe1\\n\\x17\\xa00\\xc8p\\xbe@4\\x84-\\xd4\\xe3#\\xc4\\xff\\x85\\xcb\\x9a\\xe1C9vg \\x04\\xe5\\x97\\x9fM\\xc1\\xfe\\x9d@F#cg\\x1bj\\x84\\xbfG0\\xdb\\xcb\\xf0\\x80 k,\\xfc7\\xc3\\xbdN\\xff\\x93!\\x02\\xa5\\x90\\xc7\\xcd[\\n\\xa5\\xb9\\x00\\x03(4W\\x18\\xc0\\xe0\\x16\\x9e\\x14\\x0bdu\\xa8\\xc2\\xe4\\xf7\\x08\\n\\xc9\\xd4\\xd0\\xc1\\xca+\\xd9\\xed\\x1c\\xf5\\xebx/3\\xcb\\x15L\\xa9NV\\x89hN\\x14*wX\\x86Wjl\\xbf\\x81\\xa3\\x01\\xbf\\x8f9 \\xf0\\x04\\xacd.\\x01\\x03v-5\\xed\\xbf7\\xcd\\x8f\\xe2_\\x9b\\xa0\\x90\\xd8\\xe0c]\\xb69\\x04\\x03\\xb8J/\\xb0\\x02\\x03\\x85e\\x04(\\\\C!\\x0b\\xc8\\xcd\\n(`K\\xecS&\\x03aC\\x00\\xedkvJTI\\x00e\\x95\\x9a\\xb0\\xcc\\xc3=L\\x86p\\xbd\\xb68d\\xcb\\xc7\\xb4$\\xd1\\x8a\\xdf\\x07\\xa72\\xb5\\x0f\\xba\\x1c\\xfdg\\xaf\\xc1\\xe9\\x0e:\\x99\\x81\\x81!-t5/\\n(\\xe0\\xf4\\xe2\\x1c\\xbfv\\r\\x1e\\x0f\\xd4\\x84\\xfe&\\x81\\xd5\\x8d\\x9f\\x03\\xe7\\xd6Vn\\x8b\\xf9\\xb9#\\x8dUg\\xfdw\\xf0\\xc1\\x82Bo\\'\\xe7\\x07\\n(\\xfc\\x8c\\xc3\\x9f5\\x18hjJ\\xb2\\x05\\x04\\x01\\x05(g\\xa0\\xdd\\xec\\x1fp}\\xc0^?\\xc6\\xe1\\x91(\\x95\\x88\\x9a4i\\n\\n\\x10\\x04\\x14\\xc0\\xfe<L!?\\xf8\\xa4\\x00\\xea\\x02\\xb9\\xf0\\x0e\\x06\\x825\\xba[4i\\x8aq@P\\x80\\x01\\x87\\xb1\\xc2I\\x08v\\xd28\\x1f\\xea\\x80\\x83:q\\x80\\xc9L\\x06\\x83\\xc3\\xbaK4ijF\\x80\\xa0\\x00\\x03Lk8\\x84\\x04N#^\\xccS\\xf0\\x9d\\x86\\x86}\\x1e\\x03A\\x85\\xee\\nM\\x9a\\x9a1 (\\xc0\\x00\\xf1\\x01\\x9b1FRh\\xef7\\xbc\\xa9\\xa0Y\\r\\x1f`\\n%\\x19l\\xa78\\xf4\\xe33\\x0e\\x1fpX\\xc5 P\\xa4\\x9b_\\x93\\xa6\\x18\\x05\\x04M\\x9a4i\\x02\\xfd_\\x80\\x01\\x00\\xed$ky]PVU\\x00\\x00\\x00\\x00IEND\\xaeB`\\x82'\n"
          ]
        }
      ]
    },
    {
      "cell_type": "code",
      "source": [
        "# write binary 모드로\n",
        "file = open(\"output.png\", \"wb\") # 'w'를 사용하면 TypeError 발생\n",
        "file.write(output)\n",
        "file.close()"
      ],
      "metadata": {
        "id": "GTQSz5ytAXUn"
      },
      "execution_count": 32,
      "outputs": []
    },
    {
      "cell_type": "code",
      "source": [
        "!pip list"
      ],
      "metadata": {
        "colab": {
          "base_uri": "https://localhost:8080/"
        },
        "id": "7KOradM9AlZ0",
        "outputId": "3b2bf735-ff6e-4db0-b3e6-7d0de1f4e32d"
      },
      "execution_count": 33,
      "outputs": [
        {
          "output_type": "stream",
          "name": "stdout",
          "text": [
            "Package                       Version\n",
            "----------------------------- ---------------------\n",
            "absl-py                       1.0.0\n",
            "alabaster                     0.7.12\n",
            "albumentations                0.1.12\n",
            "altair                        4.2.0\n",
            "appdirs                       1.4.4\n",
            "argon2-cffi                   21.3.0\n",
            "argon2-cffi-bindings          21.2.0\n",
            "arviz                         0.11.4\n",
            "astor                         0.8.1\n",
            "astropy                       4.3.1\n",
            "astunparse                    1.6.3\n",
            "atari-py                      0.2.9\n",
            "atomicwrites                  1.4.0\n",
            "attrs                         21.4.0\n",
            "audioread                     2.1.9\n",
            "autograd                      1.3\n",
            "Babel                         2.9.1\n",
            "backcall                      0.2.0\n",
            "beautifulsoup4                4.6.3\n",
            "bleach                        4.1.0\n",
            "blis                          0.4.1\n",
            "bokeh                         2.3.3\n",
            "Bottleneck                    1.3.4\n",
            "branca                        0.4.2\n",
            "bs4                           0.0.1\n",
            "CacheControl                  0.12.10\n",
            "cached-property               1.5.2\n",
            "cachetools                    4.2.4\n",
            "catalogue                     1.0.0\n",
            "certifi                       2021.10.8\n",
            "cffi                          1.15.0\n",
            "cftime                        1.6.0\n",
            "chardet                       3.0.4\n",
            "charset-normalizer            2.0.12\n",
            "click                         7.1.2\n",
            "cloudpickle                   1.3.0\n",
            "cmake                         3.12.0\n",
            "cmdstanpy                     0.9.5\n",
            "colorcet                      3.0.0\n",
            "colorlover                    0.3.0\n",
            "community                     1.0.0b1\n",
            "contextlib2                   0.5.5\n",
            "convertdate                   2.4.0\n",
            "coverage                      3.7.1\n",
            "coveralls                     0.5\n",
            "crcmod                        1.7\n",
            "cufflinks                     0.17.3\n",
            "cvxopt                        1.2.7\n",
            "cvxpy                         1.0.31\n",
            "cycler                        0.11.0\n",
            "cymem                         2.0.6\n",
            "Cython                        0.29.28\n",
            "daft                          0.0.4\n",
            "dask                          2.12.0\n",
            "datascience                   0.10.6\n",
            "debugpy                       1.0.0\n",
            "decorator                     4.4.2\n",
            "defusedxml                    0.7.1\n",
            "descartes                     1.1.0\n",
            "dill                          0.3.4\n",
            "distributed                   1.25.3\n",
            "dlib                          19.18.0\n",
            "dm-tree                       0.1.6\n",
            "docopt                        0.6.2\n",
            "docutils                      0.17.1\n",
            "dopamine-rl                   1.0.5\n",
            "earthengine-api               0.1.301\n",
            "easydict                      1.9\n",
            "ecos                          2.0.10\n",
            "editdistance                  0.5.3\n",
            "en-core-web-sm                2.2.5\n",
            "entrypoints                   0.4\n",
            "ephem                         4.1.3\n",
            "et-xmlfile                    1.1.0\n",
            "fa2                           0.3.5\n",
            "fastai                        1.0.61\n",
            "fastdtw                       0.3.4\n",
            "fastprogress                  1.0.2\n",
            "fastrlock                     0.8\n",
            "fbprophet                     0.7.1\n",
            "feather-format                0.4.1\n",
            "filelock                      3.6.0\n",
            "firebase-admin                4.4.0\n",
            "fix-yahoo-finance             0.0.22\n",
            "Flask                         1.1.4\n",
            "flatbuffers                   2.0\n",
            "folium                        0.8.3\n",
            "future                        0.16.0\n",
            "gast                          0.5.3\n",
            "GDAL                          2.2.2\n",
            "gdown                         4.2.2\n",
            "gensim                        3.6.0\n",
            "geographiclib                 1.52\n",
            "geopy                         1.17.0\n",
            "gin-config                    0.5.0\n",
            "glob2                         0.7\n",
            "google                        2.0.3\n",
            "google-api-core               1.26.3\n",
            "google-api-python-client      1.12.10\n",
            "google-auth                   1.35.0\n",
            "google-auth-httplib2          0.0.4\n",
            "google-auth-oauthlib          0.4.6\n",
            "google-cloud-bigquery         1.21.0\n",
            "google-cloud-bigquery-storage 1.1.0\n",
            "google-cloud-core             1.0.3\n",
            "google-cloud-datastore        1.8.0\n",
            "google-cloud-firestore        1.7.0\n",
            "google-cloud-language         1.2.0\n",
            "google-cloud-storage          1.18.1\n",
            "google-cloud-translate        1.5.0\n",
            "google-colab                  1.0.0\n",
            "google-pasta                  0.2.0\n",
            "google-resumable-media        0.4.1\n",
            "googleapis-common-protos      1.55.0\n",
            "googledrivedownloader         0.4\n",
            "graphviz                      0.10.1\n",
            "greenlet                      1.1.2\n",
            "grpcio                        1.44.0\n",
            "gspread                       3.4.2\n",
            "gspread-dataframe             3.0.8\n",
            "gym                           0.17.3\n",
            "h5py                          3.1.0\n",
            "HeapDict                      1.0.1\n",
            "hijri-converter               2.2.3\n",
            "holidays                      0.10.5.2\n",
            "holoviews                     1.14.8\n",
            "html5lib                      1.0.1\n",
            "httpimport                    0.5.18\n",
            "httplib2                      0.17.4\n",
            "httplib2shim                  0.0.3\n",
            "humanize                      0.5.1\n",
            "hyperopt                      0.1.2\n",
            "ideep4py                      2.0.0.post3\n",
            "idna                          2.10\n",
            "imageio                       2.4.1\n",
            "imagesize                     1.3.0\n",
            "imbalanced-learn              0.8.1\n",
            "imblearn                      0.0\n",
            "imgaug                        0.2.9\n",
            "importlib-metadata            4.11.2\n",
            "importlib-resources           5.4.0\n",
            "imutils                       0.5.4\n",
            "inflect                       2.1.0\n",
            "iniconfig                     1.1.1\n",
            "intel-openmp                  2022.0.2\n",
            "intervaltree                  2.1.0\n",
            "ipykernel                     4.10.1\n",
            "ipython                       5.5.0\n",
            "ipython-genutils              0.2.0\n",
            "ipython-sql                   0.3.9\n",
            "ipywidgets                    7.6.5\n",
            "itsdangerous                  1.1.0\n",
            "jax                           0.3.1\n",
            "jaxlib                        0.3.0+cuda11.cudnn805\n",
            "jedi                          0.18.1\n",
            "jieba                         0.42.1\n",
            "Jinja2                        2.11.3\n",
            "joblib                        1.1.0\n",
            "jpeg4py                       0.1.4\n",
            "jsonschema                    4.3.3\n",
            "jupyter                       1.0.0\n",
            "jupyter-client                5.3.5\n",
            "jupyter-console               5.2.0\n",
            "jupyter-core                  4.9.2\n",
            "jupyterlab-pygments           0.1.2\n",
            "jupyterlab-widgets            1.0.2\n",
            "kaggle                        1.5.12\n",
            "kapre                         0.3.7\n",
            "keras                         2.8.0\n",
            "Keras-Preprocessing           1.1.2\n",
            "keras-vis                     0.4.1\n",
            "kiwisolver                    1.3.2\n",
            "korean-lunar-calendar         0.2.1\n",
            "libclang                      13.0.0\n",
            "librosa                       0.8.1\n",
            "lightgbm                      2.2.3\n",
            "llvmlite                      0.34.0\n",
            "lmdb                          0.99\n",
            "LunarCalendar                 0.0.9\n",
            "lxml                          4.2.6\n",
            "Markdown                      3.3.6\n",
            "MarkupSafe                    2.0.1\n",
            "matplotlib                    3.2.2\n",
            "matplotlib-inline             0.1.3\n",
            "matplotlib-venn               0.11.6\n",
            "missingno                     0.5.1\n",
            "mistune                       0.8.4\n",
            "mizani                        0.6.0\n",
            "mkl                           2019.0\n",
            "mlxtend                       0.14.0\n",
            "more-itertools                8.12.0\n",
            "moviepy                       0.2.3.5\n",
            "mpmath                        1.2.1\n",
            "msgpack                       1.0.3\n",
            "multiprocess                  0.70.12.2\n",
            "multitasking                  0.0.10\n",
            "murmurhash                    1.0.6\n",
            "music21                       5.5.0\n",
            "natsort                       5.5.0\n",
            "nbclient                      0.5.12\n",
            "nbconvert                     5.6.1\n",
            "nbformat                      5.1.3\n",
            "nest-asyncio                  1.5.4\n",
            "netCDF4                       1.5.8\n",
            "networkx                      2.6.3\n",
            "nibabel                       3.0.2\n",
            "nltk                          3.2.5\n",
            "notebook                      5.3.1\n",
            "numba                         0.51.2\n",
            "numexpr                       2.8.1\n",
            "numpy                         1.21.5\n",
            "nvidia-ml-py3                 7.352.0\n",
            "oauth2client                  4.1.3\n",
            "oauthlib                      3.2.0\n",
            "okgrade                       0.4.3\n",
            "opencv-contrib-python         4.1.2.30\n",
            "opencv-python                 4.1.2.30\n",
            "openpyxl                      3.0.9\n",
            "opt-einsum                    3.3.0\n",
            "osqp                          0.6.2.post0\n",
            "packaging                     21.3\n",
            "palettable                    3.3.0\n",
            "pandas                        1.3.5\n",
            "pandas-datareader             0.9.0\n",
            "pandas-gbq                    0.13.3\n",
            "pandas-profiling              1.4.1\n",
            "pandocfilters                 1.5.0\n",
            "panel                         0.12.1\n",
            "param                         1.12.0\n",
            "parso                         0.8.3\n",
            "pathlib                       1.0.1\n",
            "patsy                         0.5.2\n",
            "pep517                        0.12.0\n",
            "pexpect                       4.8.0\n",
            "pickleshare                   0.7.5\n",
            "Pillow                        7.1.2\n",
            "pip                           21.1.3\n",
            "pip-tools                     6.2.0\n",
            "plac                          1.1.3\n",
            "plotly                        5.5.0\n",
            "plotnine                      0.6.0\n",
            "pluggy                        0.7.1\n",
            "pooch                         1.6.0\n",
            "portpicker                    1.3.9\n",
            "prefetch-generator            1.0.1\n",
            "preshed                       3.0.6\n",
            "prettytable                   3.2.0\n",
            "progressbar2                  3.38.0\n",
            "prometheus-client             0.13.1\n",
            "promise                       2.3\n",
            "prompt-toolkit                1.0.18\n",
            "protobuf                      3.17.3\n",
            "psutil                        5.4.8\n",
            "psycopg2                      2.7.6.1\n",
            "ptyprocess                    0.7.0\n",
            "py                            1.11.0\n",
            "pyarrow                       6.0.1\n",
            "pyasn1                        0.4.8\n",
            "pyasn1-modules                0.2.8\n",
            "pycocotools                   2.0.4\n",
            "pycparser                     2.21\n",
            "pyct                          0.4.8\n",
            "pydata-google-auth            1.3.0\n",
            "pydot                         1.3.0\n",
            "pydot-ng                      2.0.0\n",
            "pydotplus                     2.0.2\n",
            "PyDrive                       1.3.1\n",
            "pyemd                         0.5.1\n",
            "pyerfa                        2.0.0.1\n",
            "pyglet                        1.5.0\n",
            "Pygments                      2.6.1\n",
            "pygobject                     3.26.1\n",
            "pymc3                         3.11.4\n",
            "PyMeeus                       0.5.11\n",
            "pymongo                       4.0.2\n",
            "pymystem3                     0.2.0\n",
            "PyOpenGL                      3.1.6\n",
            "pyparsing                     3.0.7\n",
            "pyrsistent                    0.18.1\n",
            "pysndfile                     1.3.8\n",
            "PySocks                       1.7.1\n",
            "pystan                        2.19.1.1\n",
            "pytest                        3.6.4\n",
            "python-apt                    0.0.0\n",
            "python-chess                  0.23.11\n",
            "python-dateutil               2.8.2\n",
            "python-louvain                0.16\n",
            "python-slugify                6.1.1\n",
            "python-utils                  3.1.0\n",
            "pytz                          2018.9\n",
            "pyviz-comms                   2.1.0\n",
            "PyWavelets                    1.2.0\n",
            "PyYAML                        3.13\n",
            "pyzmq                         22.3.0\n",
            "qdldl                         0.1.5.post0\n",
            "qtconsole                     5.2.2\n",
            "QtPy                          2.0.1\n",
            "regex                         2019.12.20\n",
            "requests                      2.23.0\n",
            "requests-oauthlib             1.3.1\n",
            "resampy                       0.2.2\n",
            "rpy2                          3.4.5\n",
            "rsa                           4.8\n",
            "scikit-image                  0.18.3\n",
            "scikit-learn                  1.0.2\n",
            "scipy                         1.4.1\n",
            "screen-resolution-extra       0.0.0\n",
            "scs                           3.2.0\n",
            "seaborn                       0.11.2\n",
            "semver                        2.13.0\n",
            "Send2Trash                    1.8.0\n",
            "setuptools                    57.4.0\n",
            "setuptools-git                1.2\n",
            "Shapely                       1.8.1.post1\n",
            "simplegeneric                 0.8.1\n",
            "six                           1.15.0\n",
            "sklearn                       0.0\n",
            "sklearn-pandas                1.8.0\n",
            "smart-open                    5.2.1\n",
            "snowballstemmer               2.2.0\n",
            "sortedcontainers              2.4.0\n",
            "SoundFile                     0.10.3.post1\n",
            "spacy                         2.2.4\n",
            "Sphinx                        1.8.6\n",
            "sphinxcontrib-serializinghtml 1.1.5\n",
            "sphinxcontrib-websupport      1.2.4\n",
            "SQLAlchemy                    1.4.32\n",
            "sqlparse                      0.4.2\n",
            "srsly                         1.0.5\n",
            "statsmodels                   0.10.2\n",
            "sympy                         1.7.1\n",
            "tables                        3.7.0\n",
            "tabulate                      0.8.9\n",
            "tblib                         1.7.0\n",
            "tenacity                      8.0.1\n",
            "tensorboard                   2.8.0\n",
            "tensorboard-data-server       0.6.1\n",
            "tensorboard-plugin-wit        1.8.1\n",
            "tensorflow                    2.8.0\n",
            "tensorflow-datasets           4.0.1\n",
            "tensorflow-estimator          2.8.0\n",
            "tensorflow-gcs-config         2.8.0\n",
            "tensorflow-hub                0.12.0\n",
            "tensorflow-io-gcs-filesystem  0.24.0\n",
            "tensorflow-metadata           1.7.0\n",
            "tensorflow-probability        0.16.0\n",
            "termcolor                     1.1.0\n",
            "terminado                     0.13.3\n",
            "testpath                      0.6.0\n",
            "text-unidecode                1.3\n",
            "textblob                      0.15.3\n",
            "Theano-PyMC                   1.1.2\n",
            "thinc                         7.4.0\n",
            "threadpoolctl                 3.1.0\n",
            "tifffile                      2021.11.2\n",
            "tomli                         2.0.1\n",
            "toolz                         0.11.2\n",
            "torch                         1.10.0+cu111\n",
            "torchaudio                    0.10.0+cu111\n",
            "torchsummary                  1.5.1\n",
            "torchtext                     0.11.0\n",
            "torchvision                   0.11.1+cu111\n",
            "tornado                       5.1.1\n",
            "tqdm                          4.63.0\n",
            "traitlets                     5.1.1\n",
            "tweepy                        3.10.0\n",
            "typeguard                     2.7.1\n",
            "typing-extensions             3.10.0.2\n",
            "tzlocal                       1.5.1\n",
            "uritemplate                   3.0.1\n",
            "urllib3                       1.24.3\n",
            "vega-datasets                 0.9.0\n",
            "wasabi                        0.9.0\n",
            "wcwidth                       0.2.5\n",
            "webencodings                  0.5.1\n",
            "Werkzeug                      1.0.1\n",
            "wheel                         0.37.1\n",
            "widgetsnbextension            3.5.2\n",
            "wordcloud                     1.5.0\n",
            "wrapt                         1.13.3\n",
            "xarray                        0.18.2\n",
            "xgboost                       0.90\n",
            "xkit                          0.0.0\n",
            "xlrd                          1.1.0\n",
            "xlwt                          1.3.0\n",
            "yellowbrick                   1.4\n",
            "zict                          2.1.0\n",
            "zipp                          3.7.0\n"
          ]
        }
      ]
    },
    {
      "cell_type": "code",
      "source": [
        "!pip show beautifulsoup4"
      ],
      "metadata": {
        "colab": {
          "base_uri": "https://localhost:8080/"
        },
        "id": "fwfFyHrdBJY-",
        "outputId": "851ad23e-13c7-457e-e7ce-c94766b47a92"
      },
      "execution_count": 34,
      "outputs": [
        {
          "output_type": "stream",
          "name": "stdout",
          "text": [
            "Name: beautifulsoup4\n",
            "Version: 4.6.3\n",
            "Summary: Screen-scraping library\n",
            "Home-page: http://www.crummy.com/software/BeautifulSoup/bs4/\n",
            "Author: Leonard Richardson\n",
            "Author-email: leonardr@segfault.org\n",
            "License: MIT\n",
            "Location: /usr/local/lib/python3.7/dist-packages\n",
            "Requires: \n",
            "Required-by: google, gdown, fastai, bs4\n"
          ]
        }
      ]
    }
  ]
}